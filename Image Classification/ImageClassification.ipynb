{
 "cells": [
  {
   "cell_type": "markdown",
   "metadata": {
    "toc": true
   },
   "source": [
    "<h1>Table of Contents<span class=\"tocSkip\"></span></h1>\n",
    "<div class=\"toc\"><ul class=\"toc-item\"><li><span><a href=\"#导入数据\" data-toc-modified-id=\"导入数据-1\"><span class=\"toc-item-num\">1&nbsp;&nbsp;</span>导入数据</a></span></li><li><span><a href=\"#特征提取-核PCA\" data-toc-modified-id=\"特征提取-核PCA-2\"><span class=\"toc-item-num\">2&nbsp;&nbsp;</span>特征提取-核PCA</a></span><ul class=\"toc-item\"><li><span><a href=\"#核函数及其参数的选择\" data-toc-modified-id=\"核函数及其参数的选择-2.1\"><span class=\"toc-item-num\">2.1&nbsp;&nbsp;</span>核函数及其参数的选择</a></span></li><li><span><a href=\"#主成分个数的选择\" data-toc-modified-id=\"主成分个数的选择-2.2\"><span class=\"toc-item-num\">2.2&nbsp;&nbsp;</span>主成分个数的选择</a></span><ul class=\"toc-item\"><li><span><a href=\"#最优的gamma取值对主成分个数不敏感\" data-toc-modified-id=\"最优的gamma取值对主成分个数不敏感-2.2.1\"><span class=\"toc-item-num\">2.2.1&nbsp;&nbsp;</span>最优的gamma取值对主成分个数不敏感</a></span></li><li><span><a href=\"#测试不同的主成分个数\" data-toc-modified-id=\"测试不同的主成分个数-2.2.2\"><span class=\"toc-item-num\">2.2.2&nbsp;&nbsp;</span>测试不同的主成分个数</a></span></li></ul></li><li><span><a href=\"#特征提取\" data-toc-modified-id=\"特征提取-2.3\"><span class=\"toc-item-num\">2.3&nbsp;&nbsp;</span>特征提取</a></span></li></ul></li><li><span><a href=\"#图像分类\" data-toc-modified-id=\"图像分类-3\"><span class=\"toc-item-num\">3&nbsp;&nbsp;</span>图像分类</a></span><ul class=\"toc-item\"><li><span><a href=\"#KNN\" data-toc-modified-id=\"KNN-3.1\"><span class=\"toc-item-num\">3.1&nbsp;&nbsp;</span>KNN</a></span><ul class=\"toc-item\"><li><span><a href=\"#使用降维后的数据建模\" data-toc-modified-id=\"使用降维后的数据建模-3.1.1\"><span class=\"toc-item-num\">3.1.1&nbsp;&nbsp;</span>使用降维后的数据建模</a></span></li><li><span><a href=\"#使用未进行降维的数据建模\" data-toc-modified-id=\"使用未进行降维的数据建模-3.1.2\"><span class=\"toc-item-num\">3.1.2&nbsp;&nbsp;</span>使用未进行降维的数据建模</a></span></li></ul></li><li><span><a href=\"#SVM\" data-toc-modified-id=\"SVM-3.2\"><span class=\"toc-item-num\">3.2&nbsp;&nbsp;</span>SVM</a></span><ul class=\"toc-item\"><li><span><a href=\"#线性核函数SVM\" data-toc-modified-id=\"线性核函数SVM-3.2.1\"><span class=\"toc-item-num\">3.2.1&nbsp;&nbsp;</span>线性核函数SVM</a></span></li><li><span><a href=\"#非线性核函数SVM\" data-toc-modified-id=\"非线性核函数SVM-3.2.2\"><span class=\"toc-item-num\">3.2.2&nbsp;&nbsp;</span>非线性核函数SVM</a></span><ul class=\"toc-item\"><li><span><a href=\"#rbf:-高斯核\" data-toc-modified-id=\"rbf:-高斯核-3.2.2.1\"><span class=\"toc-item-num\">3.2.2.1&nbsp;&nbsp;</span>rbf: 高斯核</a></span></li><li><span><a href=\"#poly:-多项式核\" data-toc-modified-id=\"poly:-多项式核-3.2.2.2\"><span class=\"toc-item-num\">3.2.2.2&nbsp;&nbsp;</span>poly: 多项式核</a></span></li><li><span><a href=\"#Sigmoid函数\" data-toc-modified-id=\"Sigmoid函数-3.2.2.3\"><span class=\"toc-item-num\">3.2.2.3&nbsp;&nbsp;</span>Sigmoid函数</a></span></li></ul></li></ul></li><li><span><a href=\"#Naive-Bayes-Classifier\" data-toc-modified-id=\"Naive-Bayes-Classifier-3.3\"><span class=\"toc-item-num\">3.3&nbsp;&nbsp;</span>Naive Bayes Classifier</a></span><ul class=\"toc-item\"><li><span><a href=\"#使用降维后的数据建模\" data-toc-modified-id=\"使用降维后的数据建模-3.3.1\"><span class=\"toc-item-num\">3.3.1&nbsp;&nbsp;</span>使用降维后的数据建模</a></span></li><li><span><a href=\"#使用未进行降维的数据建模\" data-toc-modified-id=\"使用未进行降维的数据建模-3.3.2\"><span class=\"toc-item-num\">3.3.2&nbsp;&nbsp;</span>使用未进行降维的数据建模</a></span></li></ul></li><li><span><a href=\"#结果汇总\" data-toc-modified-id=\"结果汇总-3.4\"><span class=\"toc-item-num\">3.4&nbsp;&nbsp;</span>结果汇总</a></span><ul class=\"toc-item\"><li><span><a href=\"#训练集上的分类效果：\" data-toc-modified-id=\"训练集上的分类效果：-3.4.1\"><span class=\"toc-item-num\">3.4.1&nbsp;&nbsp;</span>训练集上的分类效果：</a></span></li><li><span><a href=\"#测试集上的分类效果：\" data-toc-modified-id=\"测试集上的分类效果：-3.4.2\"><span class=\"toc-item-num\">3.4.2&nbsp;&nbsp;</span>测试集上的分类效果：</a></span></li><li><span><a href=\"#性能最优的模型1：SVM-RBF\" data-toc-modified-id=\"性能最优的模型1：SVM-RBF-3.4.3\"><span class=\"toc-item-num\">3.4.3&nbsp;&nbsp;</span>性能最优的模型1：SVM-RBF</a></span></li><li><span><a href=\"#性能最优的模型2：SVM-Sigmoid\" data-toc-modified-id=\"性能最优的模型2：SVM-Sigmoid-3.4.4\"><span class=\"toc-item-num\">3.4.4&nbsp;&nbsp;</span>性能最优的模型2：SVM-Sigmoid</a></span></li></ul></li></ul></li></ul></div>"
   ]
  },
  {
   "cell_type": "markdown",
   "metadata": {},
   "source": [
    "1. 训练：训练集降维-->训练分类模型-->训练误差\n",
    "2. 测试：基于前面的模型对测试集降维-->预测-->测试误差-->调节分类模型的参数"
   ]
  },
  {
   "cell_type": "code",
   "execution_count": 1,
   "metadata": {},
   "outputs": [],
   "source": [
    "import numpy as np\n",
    "import pandas as pd\n",
    "import time\n",
    "import matplotlib.pyplot as plt # plt 用于显示图片\n",
    "import matplotlib as mpl\n",
    "import random\n",
    "\n",
    "from PIL import Image\n",
    "from sklearn.metrics import mean_squared_error\n",
    "from multiprocessing.dummy import Pool as ThreadPool \n",
    "from sklearn.decomposition import KernelPCA #导入核PCA类\n",
    "from numpy.linalg import LinAlgError # 导入LinAlgError异常\n",
    "from functools import partial\n",
    "from sklearn.naive_bayes import GaussianNB # naive bayes classifier\n",
    "from sklearn.metrics import classification_report # 分类效果评估\n",
    "from sklearn.metrics import confusion_matrix\n",
    "from sklearn.model_selection import GridSearchCV\n",
    "from sklearn.svm import SVC\n",
    "from sklearn.externals import joblib\n",
    "from sklearn.neighbors import KNeighborsClassifier\n",
    "\n",
    "mpl.rcParams['font.sans-serif']=['SimHei']#显示中文SimHei, FangSong, Kaiti, YouYuan\n",
    "mpl.rcParams['axes.unicode_minus']=False #显示负号"
   ]
  },
  {
   "cell_type": "markdown",
   "metadata": {},
   "source": [
    "### 导入数据"
   ]
  },
  {
   "cell_type": "code",
   "execution_count": 2,
   "metadata": {},
   "outputs": [],
   "source": [
    "'''（一）导入数据'''\n",
    "# 设置路径\n",
    "import os\n",
    "os.chdir('E:/研究生/课程学习/计算机基础/Python/code1') # 修改当前工作路径\n",
    "file1 = '../data/cifar-100-python/train'  \n",
    "file2 = '../data/cifar-100-python/meta'  \n",
    "file3 = '../data/cifar-100-python/test'  \n",
    "\n",
    "def unpickle(file):  # 该函数将cifar100提供的文件读取到python的数据结构(字典)中  \n",
    "    import pickle  \n",
    "    fo = open(file, 'rb')  \n",
    "    dict = pickle.load(fo,encoding='iso-8859-1')  \n",
    "    fo.close()  \n",
    "    return dict  \n",
    "  \n",
    "def get_data(file):#改动：增加file参数，便于取test数据\n",
    "    dict_train_batch1 = unpickle(file)\n",
    "    X_train = dict_train_batch1.get('data')\n",
    "    y_train = dict_train_batch1.get('fine_labels')\n",
    "    return X_train, y_train\n",
    "\n",
    "# 获取标签名\n",
    "def get_label_names(file):\n",
    "    dict_batch1 = unpickle(file)\n",
    "    label_names = dict_batch1.get('fine_label_names')\n",
    "    return label_names\n",
    "\n",
    "label_names = get_label_names(file2)# 标签名\n",
    "\n",
    "X_train, y_train = get_data(file1)#获取训练集\n",
    "y_train = np.array(y_train)\n",
    "X_test, y_test = get_data(file3)#获取测试集\n",
    "y_test = np.array(y_test)\n",
    "\n",
    "#取标签为“2,3,70”的训练集图片数据\n",
    "index_train=[]\n",
    "for i in range(0,len(y_train)):\n",
    "    if y_train[i] in [2,3,70]:\n",
    "        index_train.append(i)\n",
    "X_train_sub=X_train[index_train]#3类训练集图片\n",
    "y_train_sub=y_train[index_train]#训练集标签\n",
    "\n",
    "index_test=[]\n",
    "for i in range(0,len(y_test)):\n",
    "    if y_test[i] in [2,3,70]:\n",
    "        index_test.append(i)\n",
    "X_test_sub=X_test[index_test]#3类测试集图片\n",
    "y_test_sub=y_test[index_test]#测试集标签"
   ]
  },
  {
   "cell_type": "code",
   "execution_count": 3,
   "metadata": {},
   "outputs": [],
   "source": [
    "# 图片展示 自定义函数\n",
    "# 像素矩阵转为图片\n",
    "def MatrixToImage(data):\n",
    "    return Image.fromarray(data.astype(np.uint8))\n",
    "\n",
    "# 转为彩色图像\n",
    "def get_colordata(matrix):\n",
    "    return np.array(MatrixToImage(matrix))"
   ]
  },
  {
   "cell_type": "code",
   "execution_count": 4,
   "metadata": {},
   "outputs": [
    {
     "data": {
      "image/png": "[encoded data removed]",
      "text/plain": [
       "<Figure size 1296x648 with 18 Axes>"
      ]
     },
     "metadata": {},
     "output_type": "display_data"
    }
   ],
   "source": [
    "labels = [2,3,70]\n",
    "label_names_sub = [label_names[i] for i in labels] # 相应类别的类别名称\n",
    "\n",
    "plt.figure(figsize=(18,9))\n",
    "for j in range(len(labels)):\n",
    "    image_exps = X_train_sub[y_train_sub==labels[j]]\n",
    "    for i in range(6):\n",
    "        matrix = get_colordata((image_exps[i].reshape(3, 32, 32)).T)\n",
    "        img = Image.fromarray(np.uint8(matrix))\n",
    "        img = img.rotate(-90) # 图片顺时针旋转90度\n",
    "        plt.subplot(3,6,6*j+i+1) # 两行中的第一行\n",
    "        plt.xticks([]) # 不显示刻度 \n",
    "        plt.yticks([])\n",
    "        if i==0:# 每一类的第一张图显示类别名\n",
    "            plt.ylabel(label_names_sub[j],fontsize=25,rotation=360,horizontalalignment='right') \n",
    "        plt.imshow(img)\n",
    "plt.savefig('images_class.jpg',dpi=300,bbox_inches = 'tight')"
   ]
  },
  {
   "cell_type": "markdown",
   "metadata": {},
   "source": [
    "### 特征提取-核PCA\n",
    "#### 核函数及其参数的选择\n",
    "参数选择的目标是使得测试集上的重构效果达到最优。由于sigmoid核函数无法重构测试集，只考虑其余几个核函数，其中poly、rbf核函数带有参数gamma，通过实验寻找它们各自最优的gamma取值。    \n",
    "虽然sigmoid核函数无法重构测试集，但不能说明利用其作为kpca的核函数进行降维后的分类效果一定不好，因此后续可以利用sigmoid降维后进行分类的误差来判断sigmoid核函数是否合适。"
   ]
  },
  {
   "cell_type": "code",
   "execution_count": 10,
   "metadata": {},
   "outputs": [],
   "source": [
    "'''（二）特征提取-核PCA'''\n",
    "from sklearn.decomposition import KernelPCA #导入核PCA类\n",
    "from numpy.linalg import LinAlgError # 导入LinAlgError异常\n",
    "# 自定义函数kpca_error\n",
    "# 输入：核函数 gamma 训练集 测试集 是否计算拟合误差 主成分个数\n",
    "# 返回：拟合重构误差与测试重构误差\n",
    "def kpca_error(args,X,X_test,fit_err=True,n_components=200):\n",
    "    kernel,gamma=args[0],args[1]\n",
    "    kpca = KernelPCA(kernel=kernel,gamma=gamma,n_components=n_components,\n",
    "                         fit_inverse_transform=True) # 实例化kpca类\n",
    "    try:\n",
    "        kpca.fit(X) # 使用pca训练数据并得到降维后的数据\n",
    "    except LinAlgError as error: # 捕捉LinAlgError异常\n",
    "        print(error)\n",
    "        e_fit,e_test = None,None\n",
    "    else:\n",
    "        if fit_err: # 计算拟合误差\n",
    "            X_reduced=kpca.transform(X)\n",
    "            X_inv=kpca.inverse_transform(X_reduced) # 重构\n",
    "            e_fit=mean_squared_error(X,X_inv) # 计算拟合重构误差\n",
    "        else: e_fit = None\n",
    "        X_test_reduced = kpca.transform(X_test) # 对测试集进行降维\n",
    "        try:\n",
    "            X_test_inv = kpca.inverse_transform(X_test_reduced) # 重构测试集\n",
    "        except ValueError as error: # sigmoid 核函数在重构出现ValueError\n",
    "            print(error)\n",
    "            e_test = None\n",
    "        else:\n",
    "            e_test=mean_squared_error(X_test,X_test_inv) # 计算测试重构误差\n",
    "    print([kernel,gamma,e_fit,e_test])    \n",
    "    return [kernel,gamma,e_fit,e_test]"
   ]
  },
  {
   "cell_type": "code",
   "execution_count": 11,
   "metadata": {},
   "outputs": [],
   "source": [
    "# 固定一部分参数（训练集、测试集）\n",
    "from functools import partial\n",
    "args_kpca_error = partial(kpca_error, X=X_train_sub,X_test=X_test_sub) # 提取args作为partial函数的输入变量"
   ]
  },
  {
   "cell_type": "code",
   "execution_count": 12,
   "metadata": {},
   "outputs": [],
   "source": [
    "# 设置核函数及其gamma参数取值\n",
    "kernelsWithParas={\"poly\":np.linspace(0.5e-6,1.5e-6,50),\"rbf\":np.linspace(0.0001,3,50)}\n",
    "args_pd = pd.DataFrame(kernelsWithParas)\n",
    "args_list = np.mat(args_pd.melt()).tolist() # 转成list便于map\n",
    "args_list = args_list + [['linear',None],['cosine',None]] # 把没有gamma参数的核函数添加进去"
   ]
  },
  {
   "cell_type": "code",
   "execution_count": 13,
   "metadata": {
    "scrolled": true
   },
   "outputs": [
    {
     "name": "stderr",
     "output_type": "stream",
     "text": [
      "D:\\Program Files (x86)\\Anaconda\\lib\\site-packages\\ipykernel_launcher.py:6: DeprecationWarning: time.clock has been deprecated in Python 3.3 and will be removed from Python 3.8: use time.perf_counter or time.process_time instead\n",
      "  \n"
     ]
    },
    {
     "name": "stdout",
     "output_type": "stream",
     "text": [
      "['poly', 6.020408163265306e-07, 1556.1555883666606, 1655.1086444505736]\n",
      "['poly', 7.040816326530613e-07, 1296.8216386973002, 1410.291736726848]\n",
      "['poly', 9.081632653061225e-07, 912.9868006391156, 1066.90752574457]\n",
      "['poly', 8.061224489795918e-07, 1084.5056319460566, 1214.6308663601824]\n",
      "['poly', 1.010204081632653e-06, 774.5664168590524, 961.0382436784207]\n",
      "['poly', 5e-07, 1895.2416622869926, 1983.7578349546177]\n",
      "['poly', 6.224489795918367e-07, 1499.431207335973, 1601.213349855015]\n",
      "['poly', 7.244897959183674e-07, 1250.9856056083916, 1367.4852082414654]\n",
      "['poly', 5.204081632653061e-07, 1819.1530633485124, 1908.9727377564152]\n",
      "['poly', 1.0306122448979594e-06, 749.9792895565364, 944.4179149789383]\n",
      "['poly', 9.285714285714287e-07, 882.996374787509, 1042.7217375473303]\n",
      "['poly', 8.26530612244898e-07, 1047.0666312085314, 1181.2350749084253]\n",
      "['poly', 7.448979591836736e-07, 1206.8492895094298, 1326.4808222247123]\n",
      "['poly', 5.408163265306123e-07, 1747.3047152474408, 1838.8892536618866]\n",
      "['poly', 6.428571428571429e-07, 1445.4748735563953, 1550.142695173516]\n",
      "['poly', 1.0510204081632653e-06, 726.2810120738704, 929.5311415134579]\n",
      "['poly', 9.489795918367347e-07, 854.2394569329739, 1020.0873926361633]\n",
      "['poly', 8.469387755102042e-07, 1011.2597768050979, 1149.8193959378216]\n",
      "['poly', 7.653061224489796e-07, 1164.3911387635362, 1287.3021310497545]\n",
      "['poly', 5.612244897959183e-07, 1679.6866099964482, 1773.442972607071]\n",
      "['poly', 6.63265306122449e-07, 1393.9027632255713, 1501.4797207890376]\n",
      "['poly', 1.0714285714285716e-06, 703.422177693672, 916.5839511131684]\n",
      "['poly', 8.673469387755103e-07, 977.0293506321881, 1120.3481456104537]\n",
      "['poly', 9.69387755102041e-07, 826.6318236746101, 998.9350135346168]\n",
      "['poly', 7.857142857142857e-07, 1123.6097751557702, 1250.0000048590798]\n",
      "['poly', 6.836734693877551e-07, 1344.419528593694, 1454.925086728949]\n",
      "['poly', 8.877551020408164e-07, 944.3006357816258, 1092.7454334240686]\n",
      "['poly', 1.0918367346938777e-06, 681.3574239310889, 905.8317269763762]\n",
      "['poly', 5.816326530612244e-07, 1616.0921266453042, 1712.3388759847849]\n",
      "['poly', 9.89795918367347e-07, 800.0969505826047, 979.241226351548]\n",
      "['poly', 1.1122448979591838e-06, 660.0445654352643, 897.573002369149]\n",
      "['poly', 1.2142857142857144e-06, 563.4476848466419, 906.5795058561112]\n",
      "['rbf', 0.0001, 4374.142866168727, 4450.719583194311]\n",
      "['poly', 1.4183673469387757e-06, 408.5160162449586, 1390.4951429783953]\n",
      "['rbf', 0.3062122448979591, 3998.425438704362, 4454.572886621007]['poly', 1.316326530612245e-06, 480.59254265109763, 1042.4087768004053]\n",
      "\n",
      "['poly', 1.13265306122449e-06, 639.4439968550138, 892.1439308399512]\n",
      "['rbf', 0.06132244897959183, 4248.769497947053, 4448.15942384357]\n",
      "['poly', 1.2346938775510207e-06, 545.8885790207004, 921.4639637494926]\n",
      "['poly', 1.3367346938775511e-06, 465.39069690215985, 1091.4148196371416]\n",
      "['poly', 1.4387755102040818e-06, 395.2052599072728, 1497.5648282788272]\n",
      "['rbf', 0.36743469387755096, 3962.2605495046687, 4460.030086852167]\n",
      "['poly', 1.153061224489796e-06, 619.518339604738, 889.9141329758654]\n",
      "['rbf', 0.12254489795918366, 4159.8785170711335, 4447.321478277961]\n",
      "['poly', 1.2551020408163266e-06, 528.8478968207866, 941.8750827598832]\n",
      "['poly', 1.3571428571428572e-06, 450.5984505230546, 1149.5998412251693]\n",
      "['poly', 1.4591836734693879e-06, 382.23176864825655, 1620.8954665091715]\n",
      "['rbf', 0.4286571428571428, 3930.663374293797, 4466.891990609957]\n",
      "['poly', 1.1734693877551022e-06, 600.2322742467419, 891.2842416478278]\n",
      "['rbf', 0.18376734693877547, 4093.3292825929275, 4448.151890658254]\n",
      "['poly', 1.2755102040816329e-06, 512.3003226239258, 968.3966012137544]\n",
      "['rbf', 0.48987959183673463, 3902.3279356632884, 4475.087783544048]\n",
      "['poly', 1.3775510204081635e-06, 436.1988112240506, 1218.0084181760221]\n",
      "['poly', 1.4795918367346942e-06, 369.58450602014926, 1762.594804082754]\n",
      "['poly', 1.1938775510204083e-06, 581.5524895182053, 896.6852255005169]\n",
      "['rbf', 0.2449897959183673, 4041.112027141025, 4450.590684611029]\n",
      "['poly', 1.295918367346939e-06, 496.2224224147626, 1001.6700876160158]\n",
      "['rbf', 0.5511020408163264, 3876.360574742322, 4484.547254425508]\n",
      "['poly', 1.5e-06, 357.25343351174155, 1925.0578958665385]\n",
      "['poly', 1.3979591836734694e-06, 422.17613030113125, 1297.843819700883]\n",
      "['rbf', 0.6123244897959182, 3852.1378499147686, 4495.201674689636]\n",
      "['rbf', 1.2245489795918365, 3649.2209385708034, 4654.269258837405]\n",
      "['rbf', 0.9184367346938774, 3745.3842949161367, 4564.164823805559]\n",
      "['rbf', 1.5306612244897957, 3557.703865841738, 4760.21167437765]\n",
      "['rbf', 1.8367734693877549, 3469.808316732793, 4878.314563352452]\n",
      "['rbf', 2.1428857142857143, 3385.6788433220195, 5006.102205558815]\n",
      "['rbf', 0.6735469387755101, 3829.2178896427117, 4506.984458123275]\n",
      "['rbf', 1.2857714285714283, 3630.610758480605, 4674.329086249344]\n",
      "['rbf', 1.5918836734693875, 3539.8375714114322, 4782.9533554763975]\n",
      "['rbf', 0.9796591836734693, 3725.628280867928, 4580.690819778904]\n",
      "['rbf', 1.8979959183673467, 3452.6702340569195, 4903.1598117480835]\n",
      "['rbf', 2.204108163265306, 3369.3359215488636, 5032.66634823943]\n",
      "['rbf', 0.7347693877551019, 3807.2834550039793, 4519.8316328005385]\n",
      "['rbf', 1.3469938775510202, 3612.16123483403, 4694.983407894795]\n",
      "['rbf', 1.6531061224489794, 3522.1133737735586, 4806.154773796935]\n",
      "['rbf', 1.040881632653061, 3706.1772372334763, 4598.00786681548]\n",
      "['rbf', 1.9592183673469385, 3435.6852658305215, 4928.374620429269]\n",
      "['rbf', 2.265330612244898, 3353.160533936458, 5059.540615679537]\n",
      "['rbf', 0.7959918367346938, 3786.104437059423, 4533.682158453426]\n",
      "['rbf', 1.408216326530612, 3593.8635380440332, 4716.200909448168]\n",
      "['rbf', 1.1021040816326528, 3686.9815659616966, 4616.070857460602]\n",
      "['rbf', 1.7143285714285712, 3504.5324291716547, 4829.794828918243]\n",
      "['rbf', 2.0204408163265306, 3418.8563951625615, 4953.945014666557]\n",
      "['rbf', 2.3265530612244896, 3337.1552046910897, 5086.71586948963]\n",
      "['rbf', 0.8572142857142856, 3765.5126083480623, 4548.478119972224]\n",
      "['rbf', 1.4694387755102039, 3575.71211063881, 4737.952601601116]\n",
      "['rbf', 1.1633265306122447, 3668.004924803126, 4634.83771305244]\n",
      "['rbf', 2.0816632653061222, 3402.186610452558, 4979.858145663832]\n",
      "['rbf', 1.775551020408163, 3487.0966170118404, 4853.854067000112]\n",
      "['rbf', 2.3877755102040816, 3321.3222753802143, 5114.183727377061]\n",
      "['linear', None, 13411.888079238808, 13531.046604600915]\n",
      "['rbf', 2.4489979591836732, 3305.6638929330707, 5141.936504214227]\n",
      "['rbf', 2.7551102040816327, 3230.0510888634576, 5284.747441722276]\n",
      "['cosine', None, 11840.21714897846, 12550.243938598063]\n",
      "['rbf', 2.5102204081632653, 3290.182002450927, 5169.967157420656]\n",
      "['rbf', 2.8163326530612243, 3215.4736865855944, 5314.080989367113]\n",
      "['rbf', 2.571442857142857, 3274.878343835497, 5198.269236375134]\n",
      "['rbf', 2.8775551020408163, 3201.08019795101, 5343.6610673981995]\n",
      "['rbf', 2.632665306122449, 3259.7544514355345, 5226.836835585805]\n",
      "['rbf', 2.938777551020408, 3186.871190794249, 5373.483907680307]\n",
      "['rbf', 2.6938877551020406, 3244.8116560643684, 5255.664551359133]\n",
      "['rbf', 3.0, 3172.847059772362, 5403.546071594617]\n",
      "并行执行时间： 275.1021481\n"
     ]
    },
    {
     "name": "stderr",
     "output_type": "stream",
     "text": [
      "D:\\Program Files (x86)\\Anaconda\\lib\\site-packages\\ipykernel_launcher.py:15: DeprecationWarning: time.clock has been deprecated in Python 3.3 and will be removed from Python 3.8: use time.perf_counter or time.process_time instead\n",
      "  from ipykernel import kernelapp as app\n"
     ]
    }
   ],
   "source": [
    "# 误差计算\n",
    "from multiprocessing.dummy import Pool as ThreadPool \n",
    "import time\n",
    "\n",
    "# 记录程序运行时间\n",
    "start = time.clock()\n",
    "# 创建一个工作者线程池\n",
    "pool = ThreadPool(6) \n",
    "# 并行执行\n",
    "err_all = pool.map(args_kpca_error,args_list)\n",
    "# 关闭线程池，等待工作结束\n",
    "pool.close() \n",
    "pool.join()\n",
    "\n",
    "elapsed = (time.clock() - start)\n",
    "print('并行执行时间：',elapsed)\n",
    "# 将结果保存下来\n",
    "np.save('err_all',err_all)"
   ]
  },
  {
   "cell_type": "markdown",
   "metadata": {},
   "source": [
    "不同核函数及其不同gamma取值下的测试误差与拟合误差如下：   \n",
    "表中：使用linear和cosine核函数时，拟合误差和测试误差都很大。    \n",
    "图中：在各自给定的gamma取值范围内，使用两种核函数降维的拟合误差均随gamma增大而下降；对于测试误差，使用poly时，存在一个gamma的取值使得测试误差最小；而使用rbf时，测试误差随gamma增大而增大。"
   ]
  },
  {
   "cell_type": "code",
   "execution_count": 5,
   "metadata": {},
   "outputs": [],
   "source": [
    "# 读入结果\n",
    "err_all = np.load('err_all.npy',allow_pickle=True)\n",
    "err_all = pd.DataFrame(err_all)\n",
    "err_all.columns = ['kernel','gamma','fit_err','test_err']"
   ]
  },
  {
   "cell_type": "code",
   "execution_count": 6,
   "metadata": {},
   "outputs": [
    {
     "data": {
      "text/html": [
       "<div>\n",
       "<style scoped>\n",
       "    .dataframe tbody tr th:only-of-type {\n",
       "        vertical-align: middle;\n",
       "    }\n",
       "\n",
       "    .dataframe tbody tr th {\n",
       "        vertical-align: top;\n",
       "    }\n",
       "\n",
       "    .dataframe thead th {\n",
       "        text-align: right;\n",
       "    }\n",
       "</style>\n",
       "<table border=\"1\" class=\"dataframe\">\n",
       "  <thead>\n",
       "    <tr style=\"text-align: right;\">\n",
       "      <th></th>\n",
       "      <th>kernel</th>\n",
       "      <th>gamma</th>\n",
       "      <th>fit_err</th>\n",
       "      <th>test_err</th>\n",
       "    </tr>\n",
       "  </thead>\n",
       "  <tbody>\n",
       "    <tr>\n",
       "      <th>100</th>\n",
       "      <td>linear</td>\n",
       "      <td>None</td>\n",
       "      <td>13411.9</td>\n",
       "      <td>13531</td>\n",
       "    </tr>\n",
       "    <tr>\n",
       "      <th>101</th>\n",
       "      <td>cosine</td>\n",
       "      <td>None</td>\n",
       "      <td>11840.2</td>\n",
       "      <td>12550.2</td>\n",
       "    </tr>\n",
       "  </tbody>\n",
       "</table>\n",
       "</div>"
      ],
      "text/plain": [
       "     kernel gamma  fit_err test_err\n",
       "100  linear  None  13411.9    13531\n",
       "101  cosine  None  11840.2  12550.2"
      ]
     },
     "execution_count": 6,
     "metadata": {},
     "output_type": "execute_result"
    }
   ],
   "source": [
    "# linear、cosine核函数的结果\n",
    "err_all[err_all['kernel'].isin(['linear','cosine'])]"
   ]
  },
  {
   "cell_type": "code",
   "execution_count": 7,
   "metadata": {},
   "outputs": [
    {
     "data": {
      "image/png": "[encoded data removed]",
      "text/plain": [
       "<Figure size 936x288 with 2 Axes>"
      ]
     },
     "metadata": {
      "needs_background": "light"
     },
     "output_type": "display_data"
    }
   ],
   "source": [
    "# 测试效果最佳时的gamma取值\n",
    "# 作图：测试误差与拟合误差随gamma取值的变化\n",
    "fig = plt.figure(figsize=(13,4))\n",
    "kernels = ['poly','rbf']\n",
    "plt.subplots_adjust(left=0, bottom=0, right=1, top=1, wspace=0.1, hspace=0.3)\n",
    "for i in range(len(kernels)):\n",
    "    ax = fig.add_subplot(121+i) # 一行两列的子图\n",
    "    err_all[err_all['kernel']==kernels[i]].plot(x='gamma',y=['fit_err','test_err'],title='核函数为'+kernels[i]+'时不同gamma取值下的降维误差',\n",
    "                                                    ax=ax,color=['lightblue','orange'],label=['拟合误差','测试误差'])\n",
    "plt.savefig('err_all.jpg',dpi=300,bbox_inches = 'tight')"
   ]
  },
  {
   "cell_type": "markdown",
   "metadata": {},
   "source": [
    "最优的gamma取值："
   ]
  },
  {
   "cell_type": "code",
   "execution_count": 8,
   "metadata": {
    "scrolled": true
   },
   "outputs": [
    {
     "data": {
      "text/html": [
       "<div>\n",
       "<style scoped>\n",
       "    .dataframe tbody tr th:only-of-type {\n",
       "        vertical-align: middle;\n",
       "    }\n",
       "\n",
       "    .dataframe tbody tr th {\n",
       "        vertical-align: top;\n",
       "    }\n",
       "\n",
       "    .dataframe thead th {\n",
       "        text-align: right;\n",
       "    }\n",
       "</style>\n",
       "<table border=\"1\" class=\"dataframe\">\n",
       "  <thead>\n",
       "    <tr style=\"text-align: right;\">\n",
       "      <th></th>\n",
       "      <th>kernel</th>\n",
       "      <th>gamma</th>\n",
       "      <th>fit_err</th>\n",
       "      <th>test_err</th>\n",
       "    </tr>\n",
       "  </thead>\n",
       "  <tbody>\n",
       "    <tr>\n",
       "      <th>101</th>\n",
       "      <td>cosine</td>\n",
       "      <td>None</td>\n",
       "      <td>11840.2</td>\n",
       "      <td>12550.243939</td>\n",
       "    </tr>\n",
       "    <tr>\n",
       "      <th>100</th>\n",
       "      <td>linear</td>\n",
       "      <td>None</td>\n",
       "      <td>13411.9</td>\n",
       "      <td>13531.046605</td>\n",
       "    </tr>\n",
       "    <tr>\n",
       "      <th>32</th>\n",
       "      <td>poly</td>\n",
       "      <td>1.15306e-06</td>\n",
       "      <td>619.518</td>\n",
       "      <td>889.914133</td>\n",
       "    </tr>\n",
       "    <tr>\n",
       "      <th>52</th>\n",
       "      <td>rbf</td>\n",
       "      <td>0.122545</td>\n",
       "      <td>4159.88</td>\n",
       "      <td>4447.321478</td>\n",
       "    </tr>\n",
       "  </tbody>\n",
       "</table>\n",
       "</div>"
      ],
      "text/plain": [
       "     kernel        gamma  fit_err      test_err\n",
       "101  cosine         None  11840.2  12550.243939\n",
       "100  linear         None  13411.9  13531.046605\n",
       "32     poly  1.15306e-06  619.518    889.914133\n",
       "52      rbf     0.122545  4159.88   4447.321478"
      ]
     },
     "execution_count": 8,
     "metadata": {},
     "output_type": "execute_result"
    }
   ],
   "source": [
    "# 各个核函数的最优gamma取值\n",
    "err_all['test_err'] = err_all['test_err'].astype(float)\n",
    "min_idx = err_all.groupby(['kernel'])['test_err'].idxmin()\n",
    "err_min = err_all.iloc[min_idx]\n",
    "err_min"
   ]
  },
  {
   "cell_type": "code",
   "execution_count": 9,
   "metadata": {},
   "outputs": [
    {
     "name": "stdout",
     "output_type": "stream",
     "text": [
      "使得测试误差最小的核函数是： poly ，其gamma参数的最优取值是： 1.153061224489796e-06\n"
     ]
    }
   ],
   "source": [
    "# 最优的核函数及其gamma\n",
    "best_idx = err_min['test_err'].idxmin()\n",
    "best_args = {'kernel':err_min['kernel'][best_idx], 'gamma':err_min['gamma'][best_idx]}\n",
    "print('使得测试误差最小的核函数是：',best_args['kernel'],'，其gamma参数的最优取值是：',best_args['gamma'])"
   ]
  },
  {
   "cell_type": "markdown",
   "metadata": {},
   "source": [
    "#### 主成分个数的选择\n",
    "##### 最优的gamma取值对主成分个数不敏感"
   ]
  },
  {
   "cell_type": "code",
   "execution_count": 22,
   "metadata": {},
   "outputs": [],
   "source": [
    "from functools import partial\n",
    "# 给定训练集，不计算拟合误差，主成分个数为100\n",
    "kpca_error_n100 = partial(kpca_error, X=X_train_sub,X_test=X_test_sub,fit_err=False,n_components=100)\n",
    "kpca_error_n300 = partial(kpca_error, X=X_train_sub,X_test=X_test_sub,fit_err=False,n_components=300) "
   ]
  },
  {
   "cell_type": "code",
   "execution_count": 46,
   "metadata": {},
   "outputs": [],
   "source": [
    "# 设置核函数及其gamma参数取值\n",
    "kernelsWithParas={\"poly\":np.linspace(0.5e-6,1.5e-6,50)}\n",
    "args_pd = pd.DataFrame(kernelsWithParas)\n",
    "args_list = np.mat(args_pd.melt()).tolist() # 转成list便于map"
   ]
  },
  {
   "cell_type": "code",
   "execution_count": 47,
   "metadata": {
    "scrolled": true
   },
   "outputs": [
    {
     "name": "stderr",
     "output_type": "stream",
     "text": [
      "D:\\Program Files (x86)\\Anaconda\\lib\\site-packages\\ipykernel_launcher.py:6: DeprecationWarning: time.clock has been deprecated in Python 3.3 and will be removed from Python 3.8: use time.perf_counter or time.process_time instead\n",
      "  \n"
     ]
    },
    {
     "name": "stdout",
     "output_type": "stream",
     "text": [
      "['poly', 5.612244897959183e-07, None, 1789.2747557255723]\n",
      "['poly', 7.448979591836736e-07, None, 1362.2424602483306]\n",
      "['poly', 8.061224489795918e-07, None, 1257.9945383932093]\n",
      "['poly', 6.224489795918367e-07, None, 1622.9174724759098]\n",
      "['poly', 6.836734693877551e-07, None, 1483.3880821168634]\n",
      "['poly', 5e-07, None, 1994.6900829428048]\n",
      "['poly', 5.816326530612244e-07, None, 1730.0138540886662]\n",
      "['poly', 7.653061224489796e-07, None, 1325.569970767048]\n",
      "['poly', 8.26530612244898e-07, None, 1227.1777386280248]\n",
      "['poly', 6.428571428571429e-07, None, 1574.0177342197633]\n",
      "['poly', 5.204081632653061e-07, None, 1921.4437778864674]\n",
      "['poly', 7.040816326530613e-07, None, 1441.1436095585323]\n",
      "['poly', 6.020408163265306e-07, None, 1674.742538307204]\n",
      "['poly', 7.857142857142857e-07, None, 1290.803002979516]\n",
      "['poly', 6.63265306122449e-07, None, 1527.6125549914566]\n",
      "['poly', 5.408163265306123e-07, None, 1852.989828612482]\n",
      "['poly', 8.469387755102042e-07, None, 1198.345220146937]\n",
      "['poly', 7.244897959183674e-07, None, 1400.7729430078389]\n",
      "['poly', 8.673469387755103e-07, None, 1171.4392691927644]\n",
      "['poly', 9.285714285714287e-07, None, 1101.125525322129]\n",
      "['poly', 9.89795918367347e-07, None, 1044.0247710933752]\n",
      "['poly', 1.0510204081632653e-06, None, 1000.0432633517345]\n",
      "['poly', 1.1122448979591838e-06, None, 973.886952603416]\n",
      "['poly', 1.1734693877551022e-06, None, 973.544167687477]\n",
      "['poly', 8.877551020408164e-07, None, 1146.356277552649]\n",
      "['poly', 9.489795918367347e-07, None, 1080.726646659159]\n",
      "['poly', 1.010204081632653e-06, None, 1027.7666583640362]\n",
      "['poly', 1.0714285714285716e-06, None, 988.9954882207818]\n",
      "['poly', 1.1938775510204083e-06, None, 980.8001385670774]\n",
      "['poly', 9.081632653061225e-07, None, 1122.963863046385]\n",
      "['poly', 1.13265306122449e-06, None, 970.4546181225646]\n",
      "['poly', 9.69387755102041e-07, None, 1061.6967296759824]\n",
      "['poly', 1.0306122448979594e-06, None, 1013.0450452945385]\n",
      "['poly', 1.0918367346938777e-06, None, 980.1756011839365]\n",
      "['poly', 1.2142857142857144e-06, None, 992.385394151835]['poly', 1.2346938775510207e-06, None, 1008.7219108459843]\n",
      "\n",
      "['poly', 1.153061224489796e-06, None, 970.2209160461288]\n",
      "['poly', 1.295918367346939e-06, None, 1090.9624718566135]\n",
      "['poly', 1.3571428571428572e-06, None, 1234.979268135656]\n",
      "['poly', 1.4183673469387757e-06, None, 1461.1552871188858]\n",
      "['poly', 1.4795918367346942e-06, None, 1799.8405246771972]\n",
      "['poly', 1.2551020408163266e-06, None, 1030.2625885925288]\n",
      "['poly', 1.316326530612245e-06, None, 1131.246749464538]\n",
      "['poly', 1.3775510204081635e-06, None, 1300.0006182100142]\n",
      "['poly', 1.4387755102040818e-06, None, 1559.6550891162224]\n",
      "['poly', 1.5e-06, None, 1945.1423443662443]['poly', 1.2755102040816329e-06, None, 1057.4976801817863]\n",
      "\n",
      "['poly', 1.3367346938775511e-06, None, 1179.006633727792]\n",
      "['poly', 1.3979591836734694e-06, None, 1375.026333623975]\n",
      "['poly', 1.4591836734693879e-06, None, 1671.9886275257104]\n",
      "['poly', 6.224489795918367e-07, None, 1594.6193762554267]\n",
      "['poly', 5e-07, None, 1980.4612403397896]\n",
      "['poly', 6.836734693877551e-07, None, 1446.3509583942516]\n",
      "['poly', 5.612244897959183e-07, None, 1768.6221942213572]\n",
      "['poly', 8.061224489795918e-07, None, 1201.4270403542314]\n",
      "['poly', 7.448979591836736e-07, None, 1315.7106158055597]\n",
      "['poly', 6.428571428571429e-07, None, 1542.9110791729536]\n",
      "['poly', 8.26530612244898e-07, None, 1167.172663324626]\n",
      "['poly', 5.204081632653061e-07, None, 1905.1995128649978]\n",
      "['poly', 7.653061224489796e-07, None, 1275.7470561477664]['poly', 5.816326530612244e-07, None, 1706.951772133177]['poly', 7.040816326530613e-07, None, 1401.0110868822849]\n",
      "\n",
      "\n",
      "['poly', 6.63265306122449e-07, None, 1493.5882423981118]\n",
      "['poly', 8.469387755102042e-07, None, 1134.8833620522425]['poly', 5.408163265306123e-07, None, 1834.6072198060729]['poly', 7.244897959183674e-07, None, 1357.472907518035]\n",
      "\n",
      "\n",
      "['poly', 7.857142857142857e-07, None, 1237.6332072024936]\n",
      "['poly', 6.020408163265306e-07, None, 1649.129871692144]\n",
      "['poly', 8.673469387755103e-07, None, 1104.532739367003]\n",
      "['poly', 9.89795918367347e-07, None, 958.5857952990496]\n",
      "['poly', 9.285714285714287e-07, None, 1024.3464233777252]\n",
      "['poly', 1.1122448979591838e-06, None, 872.6060301417523]\n",
      "['poly', 1.0510204081632653e-06, None, 906.790798732081]\n",
      "['poly', 1.1734693877551022e-06, None, 863.7879098031735]\n",
      "['poly', 8.877551020408164e-07, None, 1076.0561518730838]\n",
      "['poly', 1.010204081632653e-06, None, 939.681023978544]\n",
      "['poly', 9.489795918367347e-07, None, 1000.9169357251841]['poly', 1.13265306122449e-06, None, 866.3625550673181]\n",
      "\n",
      "['poly', 9.081632653061225e-07, None, 1049.3615450121856]\n",
      "['poly', 1.0714285714285716e-06, None, 893.1331484350411]\n",
      "['poly', 1.1938775510204083e-06, None, 868.3187572157825]\n",
      "['poly', 1.0306122448979594e-06, None, 922.3706150507327]\n",
      "['poly', 1.153061224489796e-06, None, 863.2856341773589]\n",
      "['poly', 9.69387755102041e-07, None, 979.0056483343105]\n",
      "['poly', 1.2346938775510207e-06, None, 891.4530326150361]\n",
      "['poly', 1.295918367346939e-06, None, 969.9545236677282]\n",
      "['poly', 1.2142857142857144e-06, None, 877.3649126709174]\n",
      "['poly', 1.0918367346938777e-06, None, 881.6411564468136]\n",
      "['poly', 1.4183673469387757e-06, None, 1362.7602560518308]\n",
      "['poly', 1.3571428571428572e-06, None, 1118.177827149061]\n",
      "['poly', 1.2551020408163266e-06, None, 911.1545230070257]\n",
      "['poly', 1.316326530612245e-06, None, 1010.5011518185183]\n",
      "['poly', 1.4795918367346942e-06, None, 1743.0060592712007]\n",
      "['poly', 1.3775510204081635e-06, None, 1187.3714352026448]\n",
      "['poly', 1.4387755102040818e-06, None, 1472.023084521464]\n",
      "['poly', 1.2755102040816329e-06, None, 937.092980656002]\n",
      "['poly', 1.3367346938775511e-06, None, 1059.5870869790594]\n",
      "['poly', 1.5e-06, None, 1909.19960499161]\n",
      "['poly', 1.3979591836734694e-06, None, 1268.421398871552]\n",
      "['poly', 1.4591836734693879e-06, None, 1598.0699070821545]\n",
      "并行执行时间： 189.3294757000001\n"
     ]
    },
    {
     "name": "stderr",
     "output_type": "stream",
     "text": [
      "D:\\Program Files (x86)\\Anaconda\\lib\\site-packages\\ipykernel_launcher.py:16: DeprecationWarning: time.clock has been deprecated in Python 3.3 and will be removed from Python 3.8: use time.perf_counter or time.process_time instead\n",
      "  app.launch_new_instance()\n"
     ]
    }
   ],
   "source": [
    "# 误差计算\n",
    "from multiprocessing.dummy import Pool as ThreadPool \n",
    "import time\n",
    "\n",
    "# 记录程序运行时间\n",
    "start = time.clock()\n",
    "# 创建一个工作者线程池\n",
    "pool = ThreadPool(6) \n",
    "# 并行执行\n",
    "err_test_n100 = pool.map(kpca_error_n100,args_list)\n",
    "err_test_n300 = pool.map(kpca_error_n300,args_list)\n",
    "# 关闭线程池，等待工作结束\n",
    "pool.close() \n",
    "pool.join()\n",
    "\n",
    "elapsed = (time.clock() - start)\n",
    "print('并行执行时间：',elapsed)"
   ]
  },
  {
   "cell_type": "code",
   "execution_count": 48,
   "metadata": {},
   "outputs": [
    {
     "name": "stderr",
     "output_type": "stream",
     "text": [
      "D:\\Program Files (x86)\\Anaconda\\lib\\site-packages\\pandas\\core\\generic.py:4405: SettingWithCopyWarning: \n",
      "A value is trying to be set on a copy of a slice from a DataFrame.\n",
      "Try using .loc[row_indexer,col_indexer] = value instead\n",
      "\n",
      "See the caveats in the documentation: http://pandas.pydata.org/pandas-docs/stable/indexing.html#indexing-view-versus-copy\n",
      "  self[name] = value\n"
     ]
    }
   ],
   "source": [
    "# 不同主成分个数n的取值下，不同gamma取值的测试误差\n",
    "# 整合结果\n",
    "err_test_n100 = pd.DataFrame(err_test_n100)\n",
    "err_test_n100.columns = ['kernel','gamma','fit_err','test_err']\n",
    "err_test_n300 = pd.DataFrame(err_test_n300)\n",
    "err_test_n300.columns = ['kernel','gamma','fit_err','test_err']\n",
    "# 根据gamma列将结果连接起来\n",
    "err_test_n = err_test_n100.merge(err_test_n300,on='gamma')[['gamma','test_err_x','test_err_y']]\n",
    "err_all_poly=err_all[err_all['kernel']=='poly']\n",
    "err_all_poly.gamma = err_all_poly.gamma.astype(float)\n",
    "err_test_n.gamma = err_test_n.gamma.astype(float)\n",
    "err_test_n = err_test_n.merge(err_all_poly,on = 'gamma')[['kernel','gamma','test_err_x','test_err','test_err_y']]\n",
    "np.save('err_test_n',err_test_n)"
   ]
  },
  {
   "cell_type": "markdown",
   "metadata": {},
   "source": [
    "从图中可知，在给定的核函数及gamma取值下，测试误差随主成分个数增多而减少。最优的gamma取值对主成分个数不敏感，即取不同的主成分个数时，最优的gamma取值大致不变。"
   ]
  },
  {
   "cell_type": "code",
   "execution_count": 108,
   "metadata": {},
   "outputs": [
    {
     "data": {
      "image/png": "[encoded data removed]",
      "text/plain": [
       "<Figure size 432x288 with 1 Axes>"
      ]
     },
     "metadata": {
      "needs_background": "light"
     },
     "output_type": "display_data"
    }
   ],
   "source": [
    "# 读入结果\n",
    "err_test_n = np.load('err_test_n.npy',allow_pickle=True)\n",
    "err_test_n = pd.DataFrame(err_test_n)\n",
    "err_test_n.columns = ['kernel','gamma','n=100','n=200','n=300']\n",
    "# 绘图\n",
    "fig = plt.figure(figsize=(6,4))\n",
    "ax = plt.subplot()\n",
    "err_test_n.plot(x='gamma',y=['n=100','n=200','n=300'],label = ['n = 100','n = 200','n = 300'],ax=ax)\n",
    "plt.savefig('err_test_n.png',dpi=300)"
   ]
  },
  {
   "cell_type": "markdown",
   "metadata": {},
   "source": [
    "##### 测试不同的主成分个数\n",
    "在最优的核函数及其gamma取值下，测试不同的主成分个数。"
   ]
  },
  {
   "cell_type": "code",
   "execution_count": 50,
   "metadata": {},
   "outputs": [],
   "source": [
    "# 主成分个数的测试范围\n",
    "num_comps = range(10,500)\n",
    "from functools import partial\n",
    "# 给定核函数及其gamma，给定训练集和测试集，不计算拟合误差，n_components为函数的输入参数\n",
    "partial_kpca_error_testn = partial(kpca_error, args=list(best_args.values()),X=X_train_sub,X_test=X_test_sub,fit_err=False)\n",
    "\n",
    "# kpca_error_testn函数：将partial_kpca_error_testn函数封装成kpca_error_testn\n",
    "# 使得函数的第一个参数为n_components，\n",
    "# 并将n_components与模型测试结果一同输出。\n",
    "def kpca_error_testn(n_components): \n",
    "    # print(n_components)\n",
    "    return [n_components]+partial_kpca_error_testn(n_components=n_components)"
   ]
  },
  {
   "cell_type": "code",
   "execution_count": 51,
   "metadata": {
    "scrolled": true
   },
   "outputs": [
    {
     "name": "stderr",
     "output_type": "stream",
     "text": [
      "D:\\Program Files (x86)\\Anaconda\\lib\\site-packages\\ipykernel_launcher.py:6: DeprecationWarning: time.clock has been deprecated in Python 3.3 and will be removed from Python 3.8: use time.perf_counter or time.process_time instead\n",
      "  \n"
     ]
    },
    {
     "name": "stdout",
     "output_type": "stream",
     "text": [
      "['poly', 1.153061224489796e-06, None, 1104.4120613368796]\n",
      "['poly', 1.153061224489796e-06, None, 950.5467591624428]\n",
      "['poly', 1.153061224489796e-06, None, 1731.1739551953726]\n",
      "['poly', 1.153061224489796e-06, None, 1246.8600106571694]\n",
      "['poly', 1.153061224489796e-06, None, 1030.3157807579453]\n",
      "['poly', 1.153061224489796e-06, None, 978.8748931903589]\n",
      "['poly', 1.153061224489796e-06, None, 1099.4267408461274]\n",
      "['poly', 1.153061224489796e-06, None, 949.2128608542371]\n",
      "['poly', 1.153061224489796e-06, None, 1241.8739048082275]\n",
      "['poly', 1.153061224489796e-06, None, 1027.1073605639183]\n",
      "['poly', 1.153061224489796e-06, None, 1690.8479563037063]\n",
      "['poly', 1.153061224489796e-06, None, 977.8353460796505]\n",
      "['poly', 1.153061224489796e-06, None, 1096.8482782866822]\n",
      "['poly', 1.153061224489796e-06, None, 948.2475618684608]\n",
      "['poly', 1.153061224489796e-06, None, 1233.991113203352]\n",
      "['poly', 1.153061224489796e-06, None, 1636.4360211996675]\n",
      "['poly', 1.153061224489796e-06, None, 1022.1221288776123]\n",
      "['poly', 1.153061224489796e-06, None, 976.8837050672277]\n",
      "['poly', 1.153061224489796e-06, None, 1094.871328791645]\n",
      "['poly', 1.153061224489796e-06, None, 947.3856024271689]\n",
      "['poly', 1.153061224489796e-06, None, 1223.0329597512418]\n",
      "['poly', 1.153061224489796e-06, None, 1602.3644914264012]\n",
      "['poly', 1.153061224489796e-06, None, 1016.8032912013128]\n",
      "['poly', 1.153061224489796e-06, None, 975.0995035277275]\n",
      "['poly', 1.153061224489796e-06, None, 1089.8901947051784]\n",
      "['poly', 1.153061224489796e-06, None, 945.990384190954]\n",
      "['poly', 1.153061224489796e-06, None, 1216.845107879929]\n",
      "['poly', 1.153061224489796e-06, None, 1567.0505831198109]\n",
      "['poly', 1.153061224489796e-06, None, 1085.9189519842787]\n",
      "['poly', 1.153061224489796e-06, None, 1013.4272451014218]\n",
      "['poly', 1.153061224489796e-06, None, 973.5777611324247]\n",
      "['poly', 1.153061224489796e-06, None, 1203.7838927512184]\n",
      "['poly', 1.153061224489796e-06, None, 1531.4407924693567]['poly', 1.153061224489796e-06, None, 944.4832241076856]\n",
      "\n",
      "['poly', 1.153061224489796e-06, None, 1080.7697514554113]\n",
      "['poly', 1.153061224489796e-06, None, 1011.0013582581745]\n",
      "['poly', 1.153061224489796e-06, None, 1193.8369650480674]\n",
      "['poly', 1.153061224489796e-06, None, 971.7123706350394]\n",
      "['poly', 1.153061224489796e-06, None, 942.8329084240783]\n",
      "['poly', 1.153061224489796e-06, None, 1498.5075962682968]\n",
      "['poly', 1.153061224489796e-06, None, 1076.302569445782]\n",
      "['poly', 1.153061224489796e-06, None, 1008.1695089986664]\n",
      "['poly', 1.153061224489796e-06, None, 1184.6576970432136]\n",
      "['poly', 1.153061224489796e-06, None, 941.1929763096751]\n",
      "['poly', 1.153061224489796e-06, None, 970.2209160461288]\n",
      "['poly', 1.153061224489796e-06, None, 1472.8165752672146]\n",
      "['poly', 1.153061224489796e-06, None, 1071.9909584175518]\n",
      "['poly', 1.153061224489796e-06, None, 1007.8820292161821]\n",
      "['poly', 1.153061224489796e-06, None, 1177.098764224041]\n",
      "['poly', 1.153061224489796e-06, None, 939.9532858556773]\n",
      "['poly', 1.153061224489796e-06, None, 1446.863346045875]\n",
      "['poly', 1.153061224489796e-06, None, 968.9525758528738]\n",
      "['poly', 1.153061224489796e-06, None, 1068.6582117699688]\n",
      "['poly', 1.153061224489796e-06, None, 1006.7036105435367]\n",
      "['poly', 1.153061224489796e-06, None, 1168.8032584362247]\n",
      "['poly', 1.153061224489796e-06, None, 939.070012271494]\n",
      "['poly', 1.153061224489796e-06, None, 1417.0918289608683]\n",
      "['poly', 1.153061224489796e-06, None, 967.1387136743742]\n",
      "['poly', 1.153061224489796e-06, None, 1063.9121015949534]\n",
      "['poly', 1.153061224489796e-06, None, 1003.5813281917887]\n",
      "['poly', 1.153061224489796e-06, None, 939.9838470422452]\n",
      "['poly', 1.153061224489796e-06, None, 1158.595211261377]\n",
      "['poly', 1.153061224489796e-06, None, 1398.0923685852167]\n",
      "['poly', 1.153061224489796e-06, None, 1060.777300612138]\n",
      "['poly', 1.153061224489796e-06, None, 965.963834666697]\n",
      "['poly', 1.153061224489796e-06, None, 1002.023277383666]\n",
      "['poly', 1.153061224489796e-06, None, 938.8259339901733]\n",
      "['poly', 1.153061224489796e-06, None, 1154.0485013851564]\n",
      "['poly', 1.153061224489796e-06, None, 1056.4441195851446]['poly', 1.153061224489796e-06, None, 1382.3692670752296]\n",
      "\n",
      "['poly', 1.153061224489796e-06, None, 964.3311385465155]\n",
      "['poly', 1.153061224489796e-06, None, 999.1759987101253]\n",
      "['poly', 1.153061224489796e-06, None, 938.1820587428653]\n",
      "['poly', 1.153061224489796e-06, None, 1147.5284407636934]\n",
      "['poly', 1.153061224489796e-06, None, 1052.1203446058869]\n",
      "['poly', 1.153061224489796e-06, None, 1361.1693753247766]\n",
      "['poly', 1.153061224489796e-06, None, 963.7224542396935]\n",
      "['poly', 1.153061224489796e-06, None, 995.7186969198447]\n",
      "['poly', 1.153061224489796e-06, None, 936.9160478077265]\n",
      "['poly', 1.153061224489796e-06, None, 1141.8715089640484]\n",
      "['poly', 1.153061224489796e-06, None, 1048.572184241544]\n",
      "['poly', 1.153061224489796e-06, None, 1348.1100083695349]\n",
      "['poly', 1.153061224489796e-06, None, 962.3208801033869]\n",
      "['poly', 1.153061224489796e-06, None, 992.8029873452646]\n",
      "['poly', 1.153061224489796e-06, None, 1137.4227757862207]['poly', 1.153061224489796e-06, None, 935.04656385626]\n",
      "\n",
      "['poly', 1.153061224489796e-06, None, 1045.766144018641]\n",
      "['poly', 1.153061224489796e-06, None, 1338.7704748715314]\n",
      "['poly', 1.153061224489796e-06, None, 959.8827051537606]\n",
      "['poly', 1.153061224489796e-06, None, 989.9747790317796]\n",
      "['poly', 1.153061224489796e-06, None, 1133.1000272609456]\n",
      "['poly', 1.153061224489796e-06, None, 934.7474045097771]\n",
      "['poly', 1.153061224489796e-06, None, 1042.2581508248518]\n",
      "['poly', 1.153061224489796e-06, None, 1324.727055562702]\n",
      "['poly', 1.153061224489796e-06, None, 987.2708628133092]\n",
      "['poly', 1.153061224489796e-06, None, 958.4879633302671]\n",
      "['poly', 1.153061224489796e-06, None, 1127.606230508357]\n",
      "['poly', 1.153061224489796e-06, None, 934.5609095015496]\n",
      "['poly', 1.153061224489796e-06, None, 1308.1059638447418]['poly', 1.153061224489796e-06, None, 1041.9247813969855]\n",
      "\n",
      "['poly', 1.153061224489796e-06, None, 984.0746549314314]\n",
      "['poly', 1.153061224489796e-06, None, 956.9386207900392]\n",
      "['poly', 1.153061224489796e-06, None, 1122.2485088488186]\n",
      "['poly', 1.153061224489796e-06, None, 933.6088690516572]\n",
      "['poly', 1.153061224489796e-06, None, 1295.4193746401145]\n",
      "['poly', 1.153061224489796e-06, None, 1038.3203331764369]\n",
      "['poly', 1.153061224489796e-06, None, 982.6815418836904]\n",
      "['poly', 1.153061224489796e-06, None, 957.0155776439236]\n",
      "['poly', 1.153061224489796e-06, None, 1118.0626756572444]\n",
      "['poly', 1.153061224489796e-06, None, 1282.859549788123]['poly', 1.153061224489796e-06, None, 932.3844412854511]\n",
      "\n",
      "['poly', 1.153061224489796e-06, None, 1037.4584293360206]\n",
      "['poly', 1.153061224489796e-06, None, 980.8779799703271]\n",
      "['poly', 1.153061224489796e-06, None, 955.7896746974708]\n",
      "['poly', 1.153061224489796e-06, None, 1112.5671952805612]\n",
      "['poly', 1.153061224489796e-06, None, 930.7175540087492]\n",
      "['poly', 1.153061224489796e-06, None, 1267.8353484216298]\n",
      "['poly', 1.153061224489796e-06, None, 1034.2249739710505]\n",
      "['poly', 1.153061224489796e-06, None, 979.8950974572302]\n",
      "['poly', 1.153061224489796e-06, None, 954.4735296227651]['poly', 1.153061224489796e-06, None, 1108.3722528227656]\n",
      "\n",
      "['poly', 1.153061224489796e-06, None, 930.8874530743915]\n",
      "['poly', 1.153061224489796e-06, None, 930.3110664761557]\n",
      "['poly', 1.153061224489796e-06, None, 1259.065077181376]\n",
      "['poly', 1.153061224489796e-06, None, 978.2680025892809]\n",
      "['poly', 1.153061224489796e-06, None, 952.9530639624614]\n",
      "['poly', 1.153061224489796e-06, None, 912.6823241604037]\n",
      "['poly', 1.153061224489796e-06, None, 929.3764028279162]\n",
      "['poly', 1.153061224489796e-06, None, 900.1130343539775]\n",
      "['poly', 1.153061224489796e-06, None, 890.3507864909892]\n",
      "['poly', 1.153061224489796e-06, None, 882.5982337828341]\n",
      "['poly', 1.153061224489796e-06, None, 911.4525337475733]\n",
      "['poly', 1.153061224489796e-06, None, 951.4711244819017]\n",
      "['poly', 1.153061224489796e-06, None, 928.6022878190917]\n",
      "['poly', 1.153061224489796e-06, None, 899.6029597305954]\n",
      "['poly', 1.153061224489796e-06, None, 889.9141329758654]\n",
      "['poly', 1.153061224489796e-06, None, 882.210820707871]['poly', 1.153061224489796e-06, None, 910.4590848316102]\n",
      "\n",
      "['poly', 1.153061224489796e-06, None, 875.3838712747184]\n",
      "['poly', 1.153061224489796e-06, None, 927.8920525525992]\n",
      "['poly', 1.153061224489796e-06, None, 898.9567944794575]\n",
      "['poly', 1.153061224489796e-06, None, 889.4135463331646]\n",
      "['poly', 1.153061224489796e-06, None, 881.5451391795203]\n",
      "['poly', 1.153061224489796e-06, None, 909.9346297915855]\n"
     ]
    },
    {
     "name": "stdout",
     "output_type": "stream",
     "text": [
      "['poly', 1.153061224489796e-06, None, 875.2847801365466]\n",
      "['poly', 1.153061224489796e-06, None, 927.4277048250605]\n",
      "['poly', 1.153061224489796e-06, None, 898.1726033222154]['poly', 1.153061224489796e-06, None, 889.1610435558401]\n",
      "\n",
      "['poly', 1.153061224489796e-06, None, 909.676306962128]['poly', 1.153061224489796e-06, None, 875.2087240944561]\n",
      "\n",
      "['poly', 1.153061224489796e-06, None, 880.9851860151302]\n",
      "['poly', 1.153061224489796e-06, None, 926.91468784547]\n",
      "['poly', 1.153061224489796e-06, None, 897.6093912202815]['poly', 1.153061224489796e-06, None, 888.8786972144885]\n",
      "\n",
      "['poly', 1.153061224489796e-06, None, 874.9332163326385]\n",
      "['poly', 1.153061224489796e-06, None, 880.6159189512231]\n",
      "['poly', 1.153061224489796e-06, None, 908.7134290856025]\n",
      "['poly', 1.153061224489796e-06, None, 925.6143252498808]\n",
      "['poly', 1.153061224489796e-06, None, 888.3771993723426]\n",
      "['poly', 1.153061224489796e-06, None, 897.1273461776027]\n",
      "['poly', 1.153061224489796e-06, None, 880.1918625604245]\n",
      "['poly', 1.153061224489796e-06, None, 874.5671786607178]\n",
      "['poly', 1.153061224489796e-06, None, 908.2271720465733]\n",
      "['poly', 1.153061224489796e-06, None, 924.2619894122219]\n",
      "['poly', 1.153061224489796e-06, None, 887.8991069160585]\n",
      "['poly', 1.153061224489796e-06, None, 896.7987910507255]\n",
      "['poly', 1.153061224489796e-06, None, 879.6469564774899]\n",
      "['poly', 1.153061224489796e-06, None, 874.6738370928757]\n",
      "['poly', 1.153061224489796e-06, None, 908.1444302411888]\n",
      "['poly', 1.153061224489796e-06, None, 923.3446271453846]\n",
      "['poly', 1.153061224489796e-06, None, 887.3969131592476]\n",
      "['poly', 1.153061224489796e-06, None, 896.4324468212961]\n",
      "['poly', 1.153061224489796e-06, None, 879.2254362464346]\n",
      "['poly', 1.153061224489796e-06, None, 907.6519530633897]['poly', 1.153061224489796e-06, None, 873.745627766119]\n",
      "\n",
      "['poly', 1.153061224489796e-06, None, 922.6782171693526]\n",
      "['poly', 1.153061224489796e-06, None, 895.9090693292306]\n",
      "['poly', 1.153061224489796e-06, None, 886.6585947203988]\n",
      "['poly', 1.153061224489796e-06, None, 878.9523720018673]\n",
      "['poly', 1.153061224489796e-06, None, 906.8747999540279]\n",
      "['poly', 1.153061224489796e-06, None, 873.4833125005352]\n",
      "['poly', 1.153061224489796e-06, None, 921.100046371697]\n",
      "['poly', 1.153061224489796e-06, None, 895.4550396373448]\n",
      "['poly', 1.153061224489796e-06, None, 886.3113633981606]\n",
      "['poly', 1.153061224489796e-06, None, 878.8544273097972]\n",
      "['poly', 1.153061224489796e-06, None, 906.2731480200558]\n",
      "['poly', 1.153061224489796e-06, None, 873.5346298391773]\n",
      "['poly', 1.153061224489796e-06, None, 920.6097002711234]\n",
      "['poly', 1.153061224489796e-06, None, 894.8305617785295]\n",
      "['poly', 1.153061224489796e-06, None, 878.5927705376107]\n",
      "['poly', 1.153061224489796e-06, None, 905.6523338760499]\n",
      "['poly', 1.153061224489796e-06, None, 873.3716823969271]['poly', 1.153061224489796e-06, None, 919.7138990624753]\n",
      "\n",
      "['poly', 1.153061224489796e-06, None, 886.2342492007583]\n",
      "['poly', 1.153061224489796e-06, None, 894.2830291260057]['poly', 1.153061224489796e-06, None, 878.7716558869342]\n",
      "\n",
      "['poly', 1.153061224489796e-06, None, 905.0517623312159]\n",
      "['poly', 1.153061224489796e-06, None, 918.9764132354202]\n",
      "['poly', 1.153061224489796e-06, None, 873.1446554762166]['poly', 1.153061224489796e-06, None, 885.7052778975745]\n",
      "\n",
      "['poly', 1.153061224489796e-06, None, 894.1471585641416]\n",
      "['poly', 1.153061224489796e-06, None, 878.5298753668635]\n",
      "['poly', 1.153061224489796e-06, None, 903.8098945192596]\n",
      "['poly', 1.153061224489796e-06, None, 872.7181466020107]\n",
      "['poly', 1.153061224489796e-06, None, 918.0239021900785]['poly', 1.153061224489796e-06, None, 885.4433788471325]\n",
      "\n",
      "['poly', 1.153061224489796e-06, None, 878.3512038465927]\n",
      "['poly', 1.153061224489796e-06, None, 893.7482126342425]\n",
      "['poly', 1.153061224489796e-06, None, 872.6024304372098]['poly', 1.153061224489796e-06, None, 903.1067063075926]\n",
      "\n",
      "['poly', 1.153061224489796e-06, None, 917.0851657551535]\n",
      "['poly', 1.153061224489796e-06, None, 884.904659876452]\n",
      "['poly', 1.153061224489796e-06, None, 893.4063603698158]\n",
      "['poly', 1.153061224489796e-06, None, 878.0273562147412]\n",
      "['poly', 1.153061224489796e-06, None, 872.3052488841207]\n",
      "['poly', 1.153061224489796e-06, None, 916.2954646538532]\n",
      "['poly', 1.153061224489796e-06, None, 884.4946064999662]\n",
      "['poly', 1.153061224489796e-06, None, 902.5584168464646]\n",
      "['poly', 1.153061224489796e-06, None, 893.2373137898608]['poly', 1.153061224489796e-06, None, 877.6305463760709]\n",
      "\n",
      "['poly', 1.153061224489796e-06, None, 871.929344972074]\n",
      "['poly', 1.153061224489796e-06, None, 884.156392400091]\n",
      "['poly', 1.153061224489796e-06, None, 901.8119209656543]\n",
      "['poly', 1.153061224489796e-06, None, 915.7498577237467]\n",
      "['poly', 1.153061224489796e-06, None, 877.6068872888712]\n",
      "['poly', 1.153061224489796e-06, None, 892.852000648221]\n",
      "['poly', 1.153061224489796e-06, None, 871.7581285642927]\n",
      "['poly', 1.153061224489796e-06, None, 883.6745158529578]\n",
      "['poly', 1.153061224489796e-06, None, 915.0024440220435]\n",
      "['poly', 1.153061224489796e-06, None, 901.6114896836413]\n",
      "['poly', 1.153061224489796e-06, None, 877.2230392770533]\n",
      "['poly', 1.153061224489796e-06, None, 892.4069523419527]\n",
      "['poly', 1.153061224489796e-06, None, 914.375179307346]\n",
      "['poly', 1.153061224489796e-06, None, 871.4804326103763]\n",
      "['poly', 1.153061224489796e-06, None, 883.0997698987685]\n",
      "['poly', 1.153061224489796e-06, None, 900.8246508750591]\n",
      "['poly', 1.153061224489796e-06, None, 876.4533545919413]\n",
      "['poly', 1.153061224489796e-06, None, 891.555336665142]\n",
      "['poly', 1.153061224489796e-06, None, 913.400531818732]\n",
      "['poly', 1.153061224489796e-06, None, 871.2682814630074]\n",
      "['poly', 1.153061224489796e-06, None, 900.9534894997686]\n",
      "['poly', 1.153061224489796e-06, None, 883.1354540877588]\n",
      "['poly', 1.153061224489796e-06, None, 876.0295559001747]\n",
      "['poly', 1.153061224489796e-06, None, 891.3699874409571]\n",
      "['poly', 1.153061224489796e-06, None, 870.47170220825]\n",
      "['poly', 1.153061224489796e-06, None, 870.990633505954]\n",
      "['poly', 1.153061224489796e-06, None, 900.7866612170652]\n",
      "['poly', 1.153061224489796e-06, None, 882.7994465755219]\n",
      "['poly', 1.153061224489796e-06, None, 890.9055327754759]\n",
      "['poly', 1.153061224489796e-06, None, 875.768683514988]\n",
      "['poly', 1.153061224489796e-06, None, 870.1696055312735]\n",
      "['poly', 1.153061224489796e-06, None, 866.2576514757287]['poly', 1.153061224489796e-06, None, 870.9143081072307]['poly', 1.153061224489796e-06, None, 882.6357376944998]\n",
      "\n",
      "\n",
      "['poly', 1.153061224489796e-06, None, 862.2134218981523]['poly', 1.153061224489796e-06, None, 870.004453443441]['poly', 1.153061224489796e-06, None, 859.090042858902]\n",
      "\n",
      "\n",
      "['poly', 1.153061224489796e-06, None, 866.189644609604]\n",
      "['poly', 1.153061224489796e-06, None, 870.7765589968936]['poly', 1.153061224489796e-06, None, 856.6409993868359]\n",
      "\n",
      "['poly', 1.153061224489796e-06, None, 862.0058427110911]['poly', 1.153061224489796e-06, None, 870.1387280594569]\n",
      "\n",
      "['poly', 1.153061224489796e-06, None, 865.8480961662416]['poly', 1.153061224489796e-06, None, 858.9199970278238]\n",
      "\n",
      "['poly', 1.153061224489796e-06, None, 856.5736083825458]\n",
      "['poly', 1.153061224489796e-06, None, 854.066702534407]\n",
      "['poly', 1.153061224489796e-06, None, 869.9580171707206]['poly', 1.153061224489796e-06, None, 861.681676351645]\n",
      "\n",
      "['poly', 1.153061224489796e-06, None, 865.5724697198067]\n",
      "['poly', 1.153061224489796e-06, None, 859.0990298787686]\n",
      "['poly', 1.153061224489796e-06, None, 856.4295602720731]\n",
      "['poly', 1.153061224489796e-06, None, 853.876686237595]\n",
      "['poly', 1.153061224489796e-06, None, 869.6089173118584]\n",
      "['poly', 1.153061224489796e-06, None, 861.4586028145026]\n",
      "['poly', 1.153061224489796e-06, None, 865.3929011917552]\n",
      "['poly', 1.153061224489796e-06, None, 858.9550512438664]\n",
      "['poly', 1.153061224489796e-06, None, 869.33426625406]\n",
      "['poly', 1.153061224489796e-06, None, 856.2624383318183]\n",
      "['poly', 1.153061224489796e-06, None, 853.7443964338058]\n",
      "['poly', 1.153061224489796e-06, None, 861.4680868804465]\n",
      "['poly', 1.153061224489796e-06, None, 865.0882834186688]\n",
      "['poly', 1.153061224489796e-06, None, 858.7565414764373]\n",
      "['poly', 1.153061224489796e-06, None, 856.1510392685282]\n",
      "['poly', 1.153061224489796e-06, None, 869.1169956545585]\n",
      "['poly', 1.153061224489796e-06, None, 861.2459265355384]\n",
      "['poly', 1.153061224489796e-06, None, 853.6119283391039]\n",
      "['poly', 1.153061224489796e-06, None, 864.9500965655446]\n",
      "['poly', 1.153061224489796e-06, None, 858.619556489264]\n",
      "['poly', 1.153061224489796e-06, None, 869.0037685607044]\n"
     ]
    },
    {
     "name": "stdout",
     "output_type": "stream",
     "text": [
      "['poly', 1.153061224489796e-06, None, 856.1998345400872]\n",
      "['poly', 1.153061224489796e-06, None, 861.4560733317448]\n",
      "['poly', 1.153061224489796e-06, None, 853.5552743505426]\n",
      "['poly', 1.153061224489796e-06, None, 864.7358237703089]\n",
      "['poly', 1.153061224489796e-06, None, 868.754199764021]\n",
      "['poly', 1.153061224489796e-06, None, 858.5857880119661]\n",
      "['poly', 1.153061224489796e-06, None, 861.1728587446504]\n",
      "['poly', 1.153061224489796e-06, None, 864.5791556434918]['poly', 1.153061224489796e-06, None, 856.155637794532]\n",
      "\n",
      "['poly', 1.153061224489796e-06, None, 853.2246571097738]\n",
      "['poly', 1.153061224489796e-06, None, 868.5239520028057]\n",
      "['poly', 1.153061224489796e-06, None, 858.3650253563932]\n",
      "['poly', 1.153061224489796e-06, None, 861.3497652252366]\n",
      "['poly', 1.153061224489796e-06, None, 864.4825709581787]\n",
      "['poly', 1.153061224489796e-06, None, 853.1149839057842]\n",
      "['poly', 1.153061224489796e-06, None, 856.0915472267401]\n",
      "['poly', 1.153061224489796e-06, None, 868.4660528845316]\n",
      "['poly', 1.153061224489796e-06, None, 861.1745363058511]['poly', 1.153061224489796e-06, None, 858.2605382921071]\n",
      "\n",
      "['poly', 1.153061224489796e-06, None, 864.3093743325084]\n",
      "['poly', 1.153061224489796e-06, None, 868.170664686399]\n",
      "['poly', 1.153061224489796e-06, None, 855.9748369647147]\n",
      "['poly', 1.153061224489796e-06, None, 852.963665688058]\n",
      "['poly', 1.153061224489796e-06, None, 858.0103782442161]['poly', 1.153061224489796e-06, None, 861.079551859039]\n",
      "\n",
      "['poly', 1.153061224489796e-06, None, 864.0475859993925]\n",
      "['poly', 1.153061224489796e-06, None, 867.8480343149786]\n",
      "['poly', 1.153061224489796e-06, None, 852.7951814465347]['poly', 1.153061224489796e-06, None, 855.7157361640333]\n",
      "\n",
      "['poly', 1.153061224489796e-06, None, 857.9693732478992]\n",
      "['poly', 1.153061224489796e-06, None, 860.8962252710076]\n",
      "['poly', 1.153061224489796e-06, None, 864.0926933719537]\n",
      "['poly', 1.153061224489796e-06, None, 867.7471615580549]\n",
      "['poly', 1.153061224489796e-06, None, 852.730589460865]\n",
      "['poly', 1.153061224489796e-06, None, 855.5592269517529]\n",
      "['poly', 1.153061224489796e-06, None, 857.9058248677356]\n",
      "['poly', 1.153061224489796e-06, None, 860.907135913083]\n",
      "['poly', 1.153061224489796e-06, None, 863.7732198140671]\n",
      "['poly', 1.153061224489796e-06, None, 867.4733845598433]\n",
      "['poly', 1.153061224489796e-06, None, 852.624894889589]\n",
      "['poly', 1.153061224489796e-06, None, 855.3323283774215]\n",
      "['poly', 1.153061224489796e-06, None, 857.7463305775209]\n",
      "['poly', 1.153061224489796e-06, None, 863.638887862173]\n",
      "['poly', 1.153061224489796e-06, None, 860.7355474648228]\n",
      "['poly', 1.153061224489796e-06, None, 867.2220115504573]\n",
      "['poly', 1.153061224489796e-06, None, 852.7372134106304]\n",
      "['poly', 1.153061224489796e-06, None, 855.2454457667515]\n",
      "['poly', 1.153061224489796e-06, None, 857.6377018596255]\n",
      "['poly', 1.153061224489796e-06, None, 863.4167766670977]\n",
      "['poly', 1.153061224489796e-06, None, 860.6754389577069]\n",
      "['poly', 1.153061224489796e-06, None, 866.9753266900301]\n",
      "['poly', 1.153061224489796e-06, None, 852.5772721984437]\n",
      "['poly', 1.153061224489796e-06, None, 857.4626652552215]\n",
      "['poly', 1.153061224489796e-06, None, 855.0298595590933]\n",
      "['poly', 1.153061224489796e-06, None, 863.3161133236636]\n",
      "['poly', 1.153061224489796e-06, None, 860.5923465120468]\n",
      "['poly', 1.153061224489796e-06, None, 866.7850575229653]\n",
      "['poly', 1.153061224489796e-06, None, 852.4704313834578]\n",
      "['poly', 1.153061224489796e-06, None, 857.301087870801]\n",
      "['poly', 1.153061224489796e-06, None, 854.8946489203126]\n",
      "['poly', 1.153061224489796e-06, None, 863.2856341773589]\n",
      "['poly', 1.153061224489796e-06, None, 866.5775765689735]['poly', 1.153061224489796e-06, None, 860.5371717053025]\n",
      "\n",
      "['poly', 1.153061224489796e-06, None, 852.3700872675696]\n",
      "['poly', 1.153061224489796e-06, None, 857.1680117568363]\n",
      "['poly', 1.153061224489796e-06, None, 862.9872759849327]\n",
      "['poly', 1.153061224489796e-06, None, 854.8093617401305]\n",
      "['poly', 1.153061224489796e-06, None, 866.4311975081602]\n",
      "['poly', 1.153061224489796e-06, None, 860.3798959920938]\n",
      "['poly', 1.153061224489796e-06, None, 852.3004340766032]\n",
      "['poly', 1.153061224489796e-06, None, 857.0201976653094]\n",
      "['poly', 1.153061224489796e-06, None, 862.6693326413009]\n",
      "['poly', 1.153061224489796e-06, None, 854.6363680704753]\n",
      "['poly', 1.153061224489796e-06, None, 851.9031494688062]\n",
      "['poly', 1.153061224489796e-06, None, 860.2525653137867]\n",
      "['poly', 1.153061224489796e-06, None, 852.2155438016597]\n",
      "['poly', 1.153061224489796e-06, None, 856.965385492315]\n",
      "['poly', 1.153061224489796e-06, None, 862.400247254167]\n",
      "['poly', 1.153061224489796e-06, None, 851.7271687096695]\n",
      "['poly', 1.153061224489796e-06, None, 854.5567886129814]\n",
      "['poly', 1.153061224489796e-06, None, 860.0266355856517]\n",
      "['poly', 1.153061224489796e-06, None, 856.8905979976693]['poly', 1.153061224489796e-06, None, 852.2147227010554]\n",
      "\n",
      "['poly', 1.153061224489796e-06, None, 849.2958207940568]\n",
      "['poly', 1.153061224489796e-06, None, 851.4725384000027]['poly', 1.153061224489796e-06, None, 854.472210925458]\n",
      "\n",
      "['poly', 1.153061224489796e-06, None, 852.1299788570192]\n",
      "['poly', 1.153061224489796e-06, None, 856.7531832254767]\n",
      "['poly', 1.153061224489796e-06, None, 859.9458998750683]\n",
      "['poly', 1.153061224489796e-06, None, 849.1430442813427]\n",
      "['poly', 1.153061224489796e-06, None, 851.3878378966596]\n",
      "['poly', 1.153061224489796e-06, None, 854.3853132390323]\n",
      "['poly', 1.153061224489796e-06, None, 852.0817062683819]\n",
      "['poly', 1.153061224489796e-06, None, 849.0537816051469]\n",
      "['poly', 1.153061224489796e-06, None, 847.2303122703006]\n",
      "['poly', 1.153061224489796e-06, None, 845.4472457013256]\n",
      "['poly', 1.153061224489796e-06, None, 851.2415947868026]\n",
      "['poly', 1.153061224489796e-06, None, 854.2015461545365]\n",
      "['poly', 1.153061224489796e-06, None, 851.9851552365077]\n",
      "['poly', 1.153061224489796e-06, None, 848.9422993739362]\n",
      "['poly', 1.153061224489796e-06, None, 847.1420749126174]\n",
      "['poly', 1.153061224489796e-06, None, 851.1505402779303]\n",
      "['poly', 1.153061224489796e-06, None, 845.4231486284501]\n",
      "['poly', 1.153061224489796e-06, None, 843.6368202887534]\n",
      "['poly', 1.153061224489796e-06, None, 848.81245349586]['poly', 1.153061224489796e-06, None, 841.808920101751]\n",
      "\n",
      "['poly', 1.153061224489796e-06, None, 847.0498533262448]\n",
      "['poly', 1.153061224489796e-06, None, 851.029648681881]\n",
      "['poly', 1.153061224489796e-06, None, 843.5801151583859]\n",
      "['poly', 1.153061224489796e-06, None, 845.3703038385564]\n",
      "['poly', 1.153061224489796e-06, None, 841.675456295774]\n",
      "['poly', 1.153061224489796e-06, None, 848.7268286066713]\n",
      "['poly', 1.153061224489796e-06, None, 850.8562260987416]['poly', 1.153061224489796e-06, None, 846.8856604289795]\n",
      "\n",
      "['poly', 1.153061224489796e-06, None, 845.2671303439166]\n",
      "['poly', 1.153061224489796e-06, None, 848.691629409218]\n",
      "['poly', 1.153061224489796e-06, None, 843.5078892706975]\n",
      "['poly', 1.153061224489796e-06, None, 841.5961857471106]\n",
      "['poly', 1.153061224489796e-06, None, 850.6528241897628]['poly', 1.153061224489796e-06, None, 846.7875475871257]\n",
      "\n",
      "['poly', 1.153061224489796e-06, None, 845.1964461688718]\n",
      "['poly', 1.153061224489796e-06, None, 843.2979501186579]\n",
      "['poly', 1.153061224489796e-06, None, 848.6545778364574]\n",
      "['poly', 1.153061224489796e-06, None, 841.5026320721554]\n",
      "['poly', 1.153061224489796e-06, None, 846.7099173479883]\n",
      "['poly', 1.153061224489796e-06, None, 850.494973329672]\n",
      "['poly', 1.153061224489796e-06, None, 845.085042794567]\n",
      "['poly', 1.153061224489796e-06, None, 848.5436283811232]\n",
      "['poly', 1.153061224489796e-06, None, 841.3892444771524]\n",
      "['poly', 1.153061224489796e-06, None, 843.14049134278]\n",
      "['poly', 1.153061224489796e-06, None, 846.6276246620315]\n",
      "['poly', 1.153061224489796e-06, None, 850.436095638366]\n",
      "['poly', 1.153061224489796e-06, None, 845.0341268372873]\n",
      "['poly', 1.153061224489796e-06, None, 848.5073243528323]\n",
      "['poly', 1.153061224489796e-06, None, 841.339192400063]\n",
      "['poly', 1.153061224489796e-06, None, 843.0776498627896]\n",
      "['poly', 1.153061224489796e-06, None, 850.3184016449444]['poly', 1.153061224489796e-06, None, 846.5827635998243]\n",
      "\n",
      "['poly', 1.153061224489796e-06, None, 844.940803498012]\n",
      "['poly', 1.153061224489796e-06, None, 841.3150474022941]\n",
      "['poly', 1.153061224489796e-06, None, 842.9828937483466]['poly', 1.153061224489796e-06, None, 848.4106271920085]\n",
      "\n",
      "['poly', 1.153061224489796e-06, None, 846.5000249389614]\n",
      "['poly', 1.153061224489796e-06, None, 850.308813555892]\n",
      "['poly', 1.153061224489796e-06, None, 844.76991831005]\n"
     ]
    },
    {
     "name": "stdout",
     "output_type": "stream",
     "text": [
      "['poly', 1.153061224489796e-06, None, 848.3114831787271]\n",
      "['poly', 1.153061224489796e-06, None, 842.9473674122797]\n",
      "['poly', 1.153061224489796e-06, None, 846.4813118674059]\n",
      "['poly', 1.153061224489796e-06, None, 850.1505359706256]\n",
      "['poly', 1.153061224489796e-06, None, 844.7118736157084]\n",
      "['poly', 1.153061224489796e-06, None, 848.2890853731739]\n",
      "['poly', 1.153061224489796e-06, None, 842.8115800145029]\n",
      "['poly', 1.153061224489796e-06, None, 850.0323174244662]\n",
      "['poly', 1.153061224489796e-06, None, 846.3909822469341]\n",
      "['poly', 1.153061224489796e-06, None, 844.6407136883896]\n",
      "['poly', 1.153061224489796e-06, None, 848.1917864828555]\n",
      "['poly', 1.153061224489796e-06, None, 842.7829631831946]\n",
      "['poly', 1.153061224489796e-06, None, 846.4236810213348]\n",
      "['poly', 1.153061224489796e-06, None, 849.8509788531643]\n",
      "['poly', 1.153061224489796e-06, None, 844.5801613778767]\n",
      "['poly', 1.153061224489796e-06, None, 848.0701264517817]\n",
      "['poly', 1.153061224489796e-06, None, 842.7156876358754]\n",
      "['poly', 1.153061224489796e-06, None, 846.3345446457384]\n",
      "['poly', 1.153061224489796e-06, None, 849.8466213601481]\n",
      "['poly', 1.153061224489796e-06, None, 847.9774813964979]\n",
      "['poly', 1.153061224489796e-06, None, 844.4607200800325]\n",
      "['poly', 1.153061224489796e-06, None, 842.6481003249393]\n",
      "['poly', 1.153061224489796e-06, None, 846.2555320270221]\n",
      "['poly', 1.153061224489796e-06, None, 847.9210701915764]\n",
      "['poly', 1.153061224489796e-06, None, 849.7332004974832]\n",
      "['poly', 1.153061224489796e-06, None, 844.2705115698144]\n",
      "['poly', 1.153061224489796e-06, None, 842.6066671122056]\n",
      "['poly', 1.153061224489796e-06, None, 846.4292972079285]\n",
      "['poly', 1.153061224489796e-06, None, 847.8400535380723]\n",
      "['poly', 1.153061224489796e-06, None, 849.5682826675657]\n",
      "['poly', 1.153061224489796e-06, None, 844.0939916482406]\n",
      "['poly', 1.153061224489796e-06, None, 842.5479686599488]\n",
      "['poly', 1.153061224489796e-06, None, 846.374542605471]\n",
      "['poly', 1.153061224489796e-06, None, 847.6657159765549]\n",
      "['poly', 1.153061224489796e-06, None, 849.543471740847]\n",
      "['poly', 1.153061224489796e-06, None, 842.4664785091069]\n",
      "['poly', 1.153061224489796e-06, None, 844.0385865520449]\n",
      "['poly', 1.153061224489796e-06, None, 846.3115157257322]\n",
      "['poly', 1.153061224489796e-06, None, 847.5274965727114]\n",
      "['poly', 1.153061224489796e-06, None, 849.4908481883358]\n",
      "['poly', 1.153061224489796e-06, None, 842.3507516257872]\n",
      "['poly', 1.153061224489796e-06, None, 843.9284935699657]\n",
      "['poly', 1.153061224489796e-06, None, 845.9570791002137]\n",
      "['poly', 1.153061224489796e-06, None, 847.376237714779]\n",
      "['poly', 1.153061224489796e-06, None, 842.1801390170871]\n",
      "['poly', 1.153061224489796e-06, None, 843.9590808557896]\n",
      "['poly', 1.153061224489796e-06, None, 845.8606681112132]\n",
      "['poly', 1.153061224489796e-06, None, 842.1101620230194]\n",
      "['poly', 1.153061224489796e-06, None, 845.6112332794437]\n",
      "['poly', 1.153061224489796e-06, None, 843.9040371730422]\n",
      "['poly', 1.153061224489796e-06, None, 842.0678495664391]\n",
      "['poly', 1.153061224489796e-06, None, 845.5526844191323]\n",
      "['poly', 1.153061224489796e-06, None, 843.8341549953975]\n",
      "['poly', 1.153061224489796e-06, None, 841.9340863445499]\n",
      "['poly', 1.153061224489796e-06, None, 843.7937495167076]\n",
      "['poly', 1.153061224489796e-06, None, 841.8817111688581]\n",
      "并行执行时间： 654.442947\n"
     ]
    },
    {
     "name": "stderr",
     "output_type": "stream",
     "text": [
      "D:\\Program Files (x86)\\Anaconda\\lib\\site-packages\\ipykernel_launcher.py:15: DeprecationWarning: time.clock has been deprecated in Python 3.3 and will be removed from Python 3.8: use time.perf_counter or time.process_time instead\n",
      "  from ipykernel import kernelapp as app\n"
     ]
    }
   ],
   "source": [
    "# 测试不同的主成分个数\n",
    "from multiprocessing.dummy import Pool as ThreadPool \n",
    "import time\n",
    "\n",
    "# 记录程序运行时间\n",
    "start = time.clock()\n",
    "# 创建一个工作者线程池\n",
    "pool = ThreadPool(6) \n",
    "# 并行执行\n",
    "err_testn = pool.map(kpca_error_testn,num_comps)\n",
    "# 关闭线程池，等待工作结束\n",
    "pool.close() \n",
    "pool.join()\n",
    "\n",
    "elapsed = (time.clock() - start)\n",
    "print('并行执行时间：',elapsed)"
   ]
  },
  {
   "cell_type": "markdown",
   "metadata": {},
   "source": [
    "测试误差随主成分个数增加的减少量（margin）小于某个阈值时，可认为增加主成分个数不再明显的较小测试误差，则将此时的主成分个数作为模型适用的主成分个数。   \n",
    "设置阈值为0.1，从结果的图表中可以看出，当主成分个数大于300时，margin的绝对值趋于稳定且小于0.1，因此主成分个数选用300个。"
   ]
  },
  {
   "cell_type": "code",
   "execution_count": 52,
   "metadata": {},
   "outputs": [],
   "source": [
    "# 结果整理与存储\n",
    "err_testn = pd.DataFrame(err_testn)\n",
    "err_testn.columns = ['n_comps','kernel','gamma','fit_err','test_err']\n",
    "np.save('err_testn',err_testn)"
   ]
  },
  {
   "cell_type": "code",
   "execution_count": 53,
   "metadata": {},
   "outputs": [],
   "source": [
    "# 读入结果\n",
    "err_testn = pd.DataFrame(np.load('err_testn.npy',allow_pickle=True))\n",
    "err_testn.columns = ['n_comps','kernel','gamma','fit_err','test_err']\n",
    "# 计算margin\n",
    "err_testn.set_index(['n_comps'], inplace=True)\n",
    "err_testn['margin'] = err_testn['test_err'].diff()"
   ]
  },
  {
   "cell_type": "code",
   "execution_count": 119,
   "metadata": {},
   "outputs": [
    {
     "data": {
      "image/png": "[encoded data removed]",
      "text/plain": [
       "<Figure size 432x288 with 2 Axes>"
      ]
     },
     "metadata": {
      "needs_background": "light"
     },
     "output_type": "display_data"
    }
   ],
   "source": [
    "# 设置阈值为0.1,绘图\n",
    "threshold = 0.1\n",
    "ax = plt.subplot()\n",
    "err_testn.plot(y=['test_err','margin'],secondary_y=['margin'],ax=ax,label=['测试误差','margin'])\n",
    "plt.axhline(-threshold,color='red',ls='dashed') # 水平直线，标注阈值\n",
    "plt.legend(bbox_to_anchor=(1, 0.6))# 图例位置\n",
    "ax.legend(bbox_to_anchor=(1, 0.5))\n",
    "plt.savefig('err_testn.png',dpi=300)"
   ]
  },
  {
   "cell_type": "code",
   "execution_count": 55,
   "metadata": {
    "scrolled": true
   },
   "outputs": [
    {
     "data": {
      "text/html": [
       "<div>\n",
       "<style scoped>\n",
       "    .dataframe tbody tr th:only-of-type {\n",
       "        vertical-align: middle;\n",
       "    }\n",
       "\n",
       "    .dataframe tbody tr th {\n",
       "        vertical-align: top;\n",
       "    }\n",
       "\n",
       "    .dataframe thead th {\n",
       "        text-align: right;\n",
       "    }\n",
       "</style>\n",
       "<table border=\"1\" class=\"dataframe\">\n",
       "  <thead>\n",
       "    <tr style=\"text-align: right;\">\n",
       "      <th></th>\n",
       "      <th>kernel</th>\n",
       "      <th>gamma</th>\n",
       "      <th>fit_err</th>\n",
       "      <th>test_err</th>\n",
       "      <th>margin</th>\n",
       "    </tr>\n",
       "    <tr>\n",
       "      <th>n_comps</th>\n",
       "      <th></th>\n",
       "      <th></th>\n",
       "      <th></th>\n",
       "      <th></th>\n",
       "      <th></th>\n",
       "    </tr>\n",
       "  </thead>\n",
       "  <tbody>\n",
       "    <tr>\n",
       "      <th>94</th>\n",
       "      <td>poly</td>\n",
       "      <td>1.15306e-06</td>\n",
       "      <td>None</td>\n",
       "      <td>978.875</td>\n",
       "      <td>0.606891</td>\n",
       "    </tr>\n",
       "    <tr>\n",
       "      <th>110</th>\n",
       "      <td>poly</td>\n",
       "      <td>1.15306e-06</td>\n",
       "      <td>None</td>\n",
       "      <td>957.016</td>\n",
       "      <td>0.0769569</td>\n",
       "    </tr>\n",
       "    <tr>\n",
       "      <th>125</th>\n",
       "      <td>poly</td>\n",
       "      <td>1.15306e-06</td>\n",
       "      <td>None</td>\n",
       "      <td>939.984</td>\n",
       "      <td>0.913835</td>\n",
       "    </tr>\n",
       "    <tr>\n",
       "      <th>135</th>\n",
       "      <td>poly</td>\n",
       "      <td>1.15306e-06</td>\n",
       "      <td>None</td>\n",
       "      <td>930.887</td>\n",
       "      <td>0.169899</td>\n",
       "    </tr>\n",
       "    <tr>\n",
       "      <th>164</th>\n",
       "      <td>poly</td>\n",
       "      <td>1.15306e-06</td>\n",
       "      <td>None</td>\n",
       "      <td>908.144</td>\n",
       "      <td>-0.0827418</td>\n",
       "    </tr>\n",
       "    <tr>\n",
       "      <th>176</th>\n",
       "      <td>poly</td>\n",
       "      <td>1.15306e-06</td>\n",
       "      <td>None</td>\n",
       "      <td>900.953</td>\n",
       "      <td>0.128839</td>\n",
       "    </tr>\n",
       "    <tr>\n",
       "      <th>209</th>\n",
       "      <td>poly</td>\n",
       "      <td>1.15306e-06</td>\n",
       "      <td>None</td>\n",
       "      <td>886.234</td>\n",
       "      <td>-0.0771142</td>\n",
       "    </tr>\n",
       "    <tr>\n",
       "      <th>217</th>\n",
       "      <td>poly</td>\n",
       "      <td>1.15306e-06</td>\n",
       "      <td>None</td>\n",
       "      <td>883.135</td>\n",
       "      <td>0.0356842</td>\n",
       "    </tr>\n",
       "    <tr>\n",
       "      <th>220</th>\n",
       "      <td>poly</td>\n",
       "      <td>1.15306e-06</td>\n",
       "      <td>None</td>\n",
       "      <td>882.598</td>\n",
       "      <td>-0.0375039</td>\n",
       "    </tr>\n",
       "    <tr>\n",
       "      <th>229</th>\n",
       "      <td>poly</td>\n",
       "      <td>1.15306e-06</td>\n",
       "      <td>None</td>\n",
       "      <td>878.854</td>\n",
       "      <td>-0.0979447</td>\n",
       "    </tr>\n",
       "    <tr>\n",
       "      <th>231</th>\n",
       "      <td>poly</td>\n",
       "      <td>1.15306e-06</td>\n",
       "      <td>None</td>\n",
       "      <td>878.772</td>\n",
       "      <td>0.178885</td>\n",
       "    </tr>\n",
       "    <tr>\n",
       "      <th>236</th>\n",
       "      <td>poly</td>\n",
       "      <td>1.15306e-06</td>\n",
       "      <td>None</td>\n",
       "      <td>877.607</td>\n",
       "      <td>-0.0236591</td>\n",
       "    </tr>\n",
       "    <tr>\n",
       "      <th>242</th>\n",
       "      <td>poly</td>\n",
       "      <td>1.15306e-06</td>\n",
       "      <td>None</td>\n",
       "      <td>875.285</td>\n",
       "      <td>-0.0990911</td>\n",
       "    </tr>\n",
       "    <tr>\n",
       "      <th>243</th>\n",
       "      <td>poly</td>\n",
       "      <td>1.15306e-06</td>\n",
       "      <td>None</td>\n",
       "      <td>875.209</td>\n",
       "      <td>-0.076056</td>\n",
       "    </tr>\n",
       "    <tr>\n",
       "      <th>246</th>\n",
       "      <td>poly</td>\n",
       "      <td>1.15306e-06</td>\n",
       "      <td>None</td>\n",
       "      <td>874.674</td>\n",
       "      <td>0.106658</td>\n",
       "    </tr>\n",
       "    <tr>\n",
       "      <th>249</th>\n",
       "      <td>poly</td>\n",
       "      <td>1.15306e-06</td>\n",
       "      <td>None</td>\n",
       "      <td>873.535</td>\n",
       "      <td>0.0513173</td>\n",
       "    </tr>\n",
       "    <tr>\n",
       "      <th>260</th>\n",
       "      <td>poly</td>\n",
       "      <td>1.15306e-06</td>\n",
       "      <td>None</td>\n",
       "      <td>870.914</td>\n",
       "      <td>-0.0763254</td>\n",
       "    </tr>\n",
       "    <tr>\n",
       "      <th>265</th>\n",
       "      <td>poly</td>\n",
       "      <td>1.15306e-06</td>\n",
       "      <td>None</td>\n",
       "      <td>870.139</td>\n",
       "      <td>0.134275</td>\n",
       "    </tr>\n",
       "    <tr>\n",
       "      <th>273</th>\n",
       "      <td>poly</td>\n",
       "      <td>1.15306e-06</td>\n",
       "      <td>None</td>\n",
       "      <td>868.466</td>\n",
       "      <td>-0.0578991</td>\n",
       "    </tr>\n",
       "    <tr>\n",
       "      <th>284</th>\n",
       "      <td>poly</td>\n",
       "      <td>1.15306e-06</td>\n",
       "      <td>None</td>\n",
       "      <td>866.19</td>\n",
       "      <td>-0.0680069</td>\n",
       "    </tr>\n",
       "    <tr>\n",
       "      <th>292</th>\n",
       "      <td>poly</td>\n",
       "      <td>1.15306e-06</td>\n",
       "      <td>None</td>\n",
       "      <td>864.483</td>\n",
       "      <td>-0.0965847</td>\n",
       "    </tr>\n",
       "    <tr>\n",
       "      <th>295</th>\n",
       "      <td>poly</td>\n",
       "      <td>1.15306e-06</td>\n",
       "      <td>None</td>\n",
       "      <td>864.093</td>\n",
       "      <td>0.0451074</td>\n",
       "    </tr>\n",
       "    <tr>\n",
       "      <th>300</th>\n",
       "      <td>poly</td>\n",
       "      <td>1.15306e-06</td>\n",
       "      <td>None</td>\n",
       "      <td>863.286</td>\n",
       "      <td>-0.0304791</td>\n",
       "    </tr>\n",
       "    <tr>\n",
       "      <th>308</th>\n",
       "      <td>poly</td>\n",
       "      <td>1.15306e-06</td>\n",
       "      <td>None</td>\n",
       "      <td>861.468</td>\n",
       "      <td>0.00948407</td>\n",
       "    </tr>\n",
       "    <tr>\n",
       "      <th>310</th>\n",
       "      <td>poly</td>\n",
       "      <td>1.15306e-06</td>\n",
       "      <td>None</td>\n",
       "      <td>861.456</td>\n",
       "      <td>0.210147</td>\n",
       "    </tr>\n",
       "    <tr>\n",
       "      <th>312</th>\n",
       "      <td>poly</td>\n",
       "      <td>1.15306e-06</td>\n",
       "      <td>None</td>\n",
       "      <td>861.35</td>\n",
       "      <td>0.176906</td>\n",
       "    </tr>\n",
       "    <tr>\n",
       "      <th>314</th>\n",
       "      <td>poly</td>\n",
       "      <td>1.15306e-06</td>\n",
       "      <td>None</td>\n",
       "      <td>861.08</td>\n",
       "      <td>-0.0949844</td>\n",
       "    </tr>\n",
       "    <tr>\n",
       "      <th>316</th>\n",
       "      <td>poly</td>\n",
       "      <td>1.15306e-06</td>\n",
       "      <td>None</td>\n",
       "      <td>860.907</td>\n",
       "      <td>0.0109106</td>\n",
       "    </tr>\n",
       "    <tr>\n",
       "      <th>318</th>\n",
       "      <td>poly</td>\n",
       "      <td>1.15306e-06</td>\n",
       "      <td>None</td>\n",
       "      <td>860.675</td>\n",
       "      <td>-0.0601085</td>\n",
       "    </tr>\n",
       "    <tr>\n",
       "      <th>319</th>\n",
       "      <td>poly</td>\n",
       "      <td>1.15306e-06</td>\n",
       "      <td>None</td>\n",
       "      <td>860.592</td>\n",
       "      <td>-0.0830924</td>\n",
       "    </tr>\n",
       "    <tr>\n",
       "      <th>...</th>\n",
       "      <td>...</td>\n",
       "      <td>...</td>\n",
       "      <td>...</td>\n",
       "      <td>...</td>\n",
       "      <td>...</td>\n",
       "    </tr>\n",
       "    <tr>\n",
       "      <th>455</th>\n",
       "      <td>poly</td>\n",
       "      <td>1.15306e-06</td>\n",
       "      <td>None</td>\n",
       "      <td>845.196</td>\n",
       "      <td>-0.0706842</td>\n",
       "    </tr>\n",
       "    <tr>\n",
       "      <th>457</th>\n",
       "      <td>poly</td>\n",
       "      <td>1.15306e-06</td>\n",
       "      <td>None</td>\n",
       "      <td>845.034</td>\n",
       "      <td>-0.050916</td>\n",
       "    </tr>\n",
       "    <tr>\n",
       "      <th>458</th>\n",
       "      <td>poly</td>\n",
       "      <td>1.15306e-06</td>\n",
       "      <td>None</td>\n",
       "      <td>844.941</td>\n",
       "      <td>-0.0933233</td>\n",
       "    </tr>\n",
       "    <tr>\n",
       "      <th>460</th>\n",
       "      <td>poly</td>\n",
       "      <td>1.15306e-06</td>\n",
       "      <td>None</td>\n",
       "      <td>844.712</td>\n",
       "      <td>-0.0580447</td>\n",
       "    </tr>\n",
       "    <tr>\n",
       "      <th>461</th>\n",
       "      <td>poly</td>\n",
       "      <td>1.15306e-06</td>\n",
       "      <td>None</td>\n",
       "      <td>844.641</td>\n",
       "      <td>-0.0711599</td>\n",
       "    </tr>\n",
       "    <tr>\n",
       "      <th>462</th>\n",
       "      <td>poly</td>\n",
       "      <td>1.15306e-06</td>\n",
       "      <td>None</td>\n",
       "      <td>844.58</td>\n",
       "      <td>-0.0605523</td>\n",
       "    </tr>\n",
       "    <tr>\n",
       "      <th>466</th>\n",
       "      <td>poly</td>\n",
       "      <td>1.15306e-06</td>\n",
       "      <td>None</td>\n",
       "      <td>844.039</td>\n",
       "      <td>-0.0554051</td>\n",
       "    </tr>\n",
       "    <tr>\n",
       "      <th>468</th>\n",
       "      <td>poly</td>\n",
       "      <td>1.15306e-06</td>\n",
       "      <td>None</td>\n",
       "      <td>843.959</td>\n",
       "      <td>0.0305873</td>\n",
       "    </tr>\n",
       "    <tr>\n",
       "      <th>469</th>\n",
       "      <td>poly</td>\n",
       "      <td>1.15306e-06</td>\n",
       "      <td>None</td>\n",
       "      <td>843.904</td>\n",
       "      <td>-0.0550437</td>\n",
       "    </tr>\n",
       "    <tr>\n",
       "      <th>470</th>\n",
       "      <td>poly</td>\n",
       "      <td>1.15306e-06</td>\n",
       "      <td>None</td>\n",
       "      <td>843.834</td>\n",
       "      <td>-0.0698822</td>\n",
       "    </tr>\n",
       "    <tr>\n",
       "      <th>471</th>\n",
       "      <td>poly</td>\n",
       "      <td>1.15306e-06</td>\n",
       "      <td>None</td>\n",
       "      <td>843.794</td>\n",
       "      <td>-0.0404055</td>\n",
       "    </tr>\n",
       "    <tr>\n",
       "      <th>473</th>\n",
       "      <td>poly</td>\n",
       "      <td>1.15306e-06</td>\n",
       "      <td>None</td>\n",
       "      <td>843.58</td>\n",
       "      <td>-0.0567051</td>\n",
       "    </tr>\n",
       "    <tr>\n",
       "      <th>474</th>\n",
       "      <td>poly</td>\n",
       "      <td>1.15306e-06</td>\n",
       "      <td>None</td>\n",
       "      <td>843.508</td>\n",
       "      <td>-0.0722259</td>\n",
       "    </tr>\n",
       "    <tr>\n",
       "      <th>477</th>\n",
       "      <td>poly</td>\n",
       "      <td>1.15306e-06</td>\n",
       "      <td>None</td>\n",
       "      <td>843.078</td>\n",
       "      <td>-0.0628415</td>\n",
       "    </tr>\n",
       "    <tr>\n",
       "      <th>478</th>\n",
       "      <td>poly</td>\n",
       "      <td>1.15306e-06</td>\n",
       "      <td>None</td>\n",
       "      <td>842.983</td>\n",
       "      <td>-0.0947561</td>\n",
       "    </tr>\n",
       "    <tr>\n",
       "      <th>479</th>\n",
       "      <td>poly</td>\n",
       "      <td>1.15306e-06</td>\n",
       "      <td>None</td>\n",
       "      <td>842.947</td>\n",
       "      <td>-0.0355263</td>\n",
       "    </tr>\n",
       "    <tr>\n",
       "      <th>481</th>\n",
       "      <td>poly</td>\n",
       "      <td>1.15306e-06</td>\n",
       "      <td>None</td>\n",
       "      <td>842.783</td>\n",
       "      <td>-0.0286168</td>\n",
       "    </tr>\n",
       "    <tr>\n",
       "      <th>482</th>\n",
       "      <td>poly</td>\n",
       "      <td>1.15306e-06</td>\n",
       "      <td>None</td>\n",
       "      <td>842.716</td>\n",
       "      <td>-0.0672755</td>\n",
       "    </tr>\n",
       "    <tr>\n",
       "      <th>483</th>\n",
       "      <td>poly</td>\n",
       "      <td>1.15306e-06</td>\n",
       "      <td>None</td>\n",
       "      <td>842.648</td>\n",
       "      <td>-0.0675873</td>\n",
       "    </tr>\n",
       "    <tr>\n",
       "      <th>484</th>\n",
       "      <td>poly</td>\n",
       "      <td>1.15306e-06</td>\n",
       "      <td>None</td>\n",
       "      <td>842.607</td>\n",
       "      <td>-0.0414332</td>\n",
       "    </tr>\n",
       "    <tr>\n",
       "      <th>485</th>\n",
       "      <td>poly</td>\n",
       "      <td>1.15306e-06</td>\n",
       "      <td>None</td>\n",
       "      <td>842.548</td>\n",
       "      <td>-0.0586985</td>\n",
       "    </tr>\n",
       "    <tr>\n",
       "      <th>486</th>\n",
       "      <td>poly</td>\n",
       "      <td>1.15306e-06</td>\n",
       "      <td>None</td>\n",
       "      <td>842.466</td>\n",
       "      <td>-0.0814902</td>\n",
       "    </tr>\n",
       "    <tr>\n",
       "      <th>489</th>\n",
       "      <td>poly</td>\n",
       "      <td>1.15306e-06</td>\n",
       "      <td>None</td>\n",
       "      <td>842.11</td>\n",
       "      <td>-0.069977</td>\n",
       "    </tr>\n",
       "    <tr>\n",
       "      <th>490</th>\n",
       "      <td>poly</td>\n",
       "      <td>1.15306e-06</td>\n",
       "      <td>None</td>\n",
       "      <td>842.068</td>\n",
       "      <td>-0.0423125</td>\n",
       "    </tr>\n",
       "    <tr>\n",
       "      <th>492</th>\n",
       "      <td>poly</td>\n",
       "      <td>1.15306e-06</td>\n",
       "      <td>None</td>\n",
       "      <td>841.882</td>\n",
       "      <td>-0.0523752</td>\n",
       "    </tr>\n",
       "    <tr>\n",
       "      <th>493</th>\n",
       "      <td>poly</td>\n",
       "      <td>1.15306e-06</td>\n",
       "      <td>None</td>\n",
       "      <td>841.809</td>\n",
       "      <td>-0.0727911</td>\n",
       "    </tr>\n",
       "    <tr>\n",
       "      <th>495</th>\n",
       "      <td>poly</td>\n",
       "      <td>1.15306e-06</td>\n",
       "      <td>None</td>\n",
       "      <td>841.596</td>\n",
       "      <td>-0.0792705</td>\n",
       "    </tr>\n",
       "    <tr>\n",
       "      <th>496</th>\n",
       "      <td>poly</td>\n",
       "      <td>1.15306e-06</td>\n",
       "      <td>None</td>\n",
       "      <td>841.503</td>\n",
       "      <td>-0.0935537</td>\n",
       "    </tr>\n",
       "    <tr>\n",
       "      <th>498</th>\n",
       "      <td>poly</td>\n",
       "      <td>1.15306e-06</td>\n",
       "      <td>None</td>\n",
       "      <td>841.339</td>\n",
       "      <td>-0.0500521</td>\n",
       "    </tr>\n",
       "    <tr>\n",
       "      <th>499</th>\n",
       "      <td>poly</td>\n",
       "      <td>1.15306e-06</td>\n",
       "      <td>None</td>\n",
       "      <td>841.315</td>\n",
       "      <td>-0.024145</td>\n",
       "    </tr>\n",
       "  </tbody>\n",
       "</table>\n",
       "<p>125 rows × 5 columns</p>\n",
       "</div>"
      ],
      "text/plain": [
       "        kernel        gamma fit_err test_err      margin\n",
       "n_comps                                                 \n",
       "94        poly  1.15306e-06    None  978.875    0.606891\n",
       "110       poly  1.15306e-06    None  957.016   0.0769569\n",
       "125       poly  1.15306e-06    None  939.984    0.913835\n",
       "135       poly  1.15306e-06    None  930.887    0.169899\n",
       "164       poly  1.15306e-06    None  908.144  -0.0827418\n",
       "176       poly  1.15306e-06    None  900.953    0.128839\n",
       "209       poly  1.15306e-06    None  886.234  -0.0771142\n",
       "217       poly  1.15306e-06    None  883.135   0.0356842\n",
       "220       poly  1.15306e-06    None  882.598  -0.0375039\n",
       "229       poly  1.15306e-06    None  878.854  -0.0979447\n",
       "231       poly  1.15306e-06    None  878.772    0.178885\n",
       "236       poly  1.15306e-06    None  877.607  -0.0236591\n",
       "242       poly  1.15306e-06    None  875.285  -0.0990911\n",
       "243       poly  1.15306e-06    None  875.209   -0.076056\n",
       "246       poly  1.15306e-06    None  874.674    0.106658\n",
       "249       poly  1.15306e-06    None  873.535   0.0513173\n",
       "260       poly  1.15306e-06    None  870.914  -0.0763254\n",
       "265       poly  1.15306e-06    None  870.139    0.134275\n",
       "273       poly  1.15306e-06    None  868.466  -0.0578991\n",
       "284       poly  1.15306e-06    None   866.19  -0.0680069\n",
       "292       poly  1.15306e-06    None  864.483  -0.0965847\n",
       "295       poly  1.15306e-06    None  864.093   0.0451074\n",
       "300       poly  1.15306e-06    None  863.286  -0.0304791\n",
       "308       poly  1.15306e-06    None  861.468  0.00948407\n",
       "310       poly  1.15306e-06    None  861.456    0.210147\n",
       "312       poly  1.15306e-06    None   861.35    0.176906\n",
       "314       poly  1.15306e-06    None   861.08  -0.0949844\n",
       "316       poly  1.15306e-06    None  860.907   0.0109106\n",
       "318       poly  1.15306e-06    None  860.675  -0.0601085\n",
       "319       poly  1.15306e-06    None  860.592  -0.0830924\n",
       "...        ...          ...     ...      ...         ...\n",
       "455       poly  1.15306e-06    None  845.196  -0.0706842\n",
       "457       poly  1.15306e-06    None  845.034   -0.050916\n",
       "458       poly  1.15306e-06    None  844.941  -0.0933233\n",
       "460       poly  1.15306e-06    None  844.712  -0.0580447\n",
       "461       poly  1.15306e-06    None  844.641  -0.0711599\n",
       "462       poly  1.15306e-06    None   844.58  -0.0605523\n",
       "466       poly  1.15306e-06    None  844.039  -0.0554051\n",
       "468       poly  1.15306e-06    None  843.959   0.0305873\n",
       "469       poly  1.15306e-06    None  843.904  -0.0550437\n",
       "470       poly  1.15306e-06    None  843.834  -0.0698822\n",
       "471       poly  1.15306e-06    None  843.794  -0.0404055\n",
       "473       poly  1.15306e-06    None   843.58  -0.0567051\n",
       "474       poly  1.15306e-06    None  843.508  -0.0722259\n",
       "477       poly  1.15306e-06    None  843.078  -0.0628415\n",
       "478       poly  1.15306e-06    None  842.983  -0.0947561\n",
       "479       poly  1.15306e-06    None  842.947  -0.0355263\n",
       "481       poly  1.15306e-06    None  842.783  -0.0286168\n",
       "482       poly  1.15306e-06    None  842.716  -0.0672755\n",
       "483       poly  1.15306e-06    None  842.648  -0.0675873\n",
       "484       poly  1.15306e-06    None  842.607  -0.0414332\n",
       "485       poly  1.15306e-06    None  842.548  -0.0586985\n",
       "486       poly  1.15306e-06    None  842.466  -0.0814902\n",
       "489       poly  1.15306e-06    None   842.11   -0.069977\n",
       "490       poly  1.15306e-06    None  842.068  -0.0423125\n",
       "492       poly  1.15306e-06    None  841.882  -0.0523752\n",
       "493       poly  1.15306e-06    None  841.809  -0.0727911\n",
       "495       poly  1.15306e-06    None  841.596  -0.0792705\n",
       "496       poly  1.15306e-06    None  841.503  -0.0935537\n",
       "498       poly  1.15306e-06    None  841.339  -0.0500521\n",
       "499       poly  1.15306e-06    None  841.315   -0.024145\n",
       "\n",
       "[125 rows x 5 columns]"
      ]
     },
     "execution_count": 55,
     "metadata": {},
     "output_type": "execute_result"
    }
   ],
   "source": [
    "# margin小于阈值的主成分个数取值：\n",
    "err_testn[err_testn['margin']>-threshold]"
   ]
  },
  {
   "cell_type": "markdown",
   "metadata": {},
   "source": [
    "#### 特征提取\n",
    "最优核函数、gamma及主成分个数下的特征提取。"
   ]
  },
  {
   "cell_type": "code",
   "execution_count": 10,
   "metadata": {},
   "outputs": [],
   "source": [
    "# 原始图像 VS. 重构图像\n",
    "def image_compare(data1,data2):\n",
    "    plt.figure(figsize=(15,6))\n",
    "    for i in np.arange(len(data1)): # 原始图像\n",
    "        matrix = get_colordata((data1[i].reshape(3, 32, 32)).T)\n",
    "        img = Image.fromarray(np.uint8(matrix))\n",
    "        img = img.rotate(-90) # 图片顺时针旋转90度\n",
    "        plt.subplot(2,len(data1),i+1) # 两行中的第一行\n",
    "        if i==0:# 第一张图显示“原始图像”\n",
    "            plt.ylabel('原始图像',fontsize=15,rotation=360,horizontalalignment='right') \n",
    "        plt.xticks([]) # 不显示刻度 \n",
    "        plt.yticks([])\n",
    "        plt.imshow(img)\n",
    "    for i in np.arange(len(data2)):\n",
    "        matrix = get_colordata((data2[i].reshape(3, 32, 32)).T)\n",
    "        img = Image.fromarray(np.uint8(matrix))\n",
    "        img = img.rotate(-90) # 图片顺时针旋转90度\n",
    "        plt.subplot(2,len(data2),i+1+len(data2)) # 两行中的第二行\n",
    "        if i==0:# 第一张图显示“重构图像”\n",
    "            plt.ylabel('重构图像',fontsize=15,rotation=360,horizontalalignment='right') \n",
    "        plt.xticks([]) # 不显示刻度 \n",
    "        plt.yticks([])\n",
    "        plt.imshow(img)\n",
    "    plt.savefig('compare.png',dpi=300)\n",
    "    plt.show()\n",
    "    "
   ]
  },
  {
   "cell_type": "markdown",
   "metadata": {},
   "source": [
    "基于参数调优的结果训练模型，利用训练好的模型对训练集进行降维，并绘制原始图像与重构图像："
   ]
  },
  {
   "cell_type": "code",
   "execution_count": 11,
   "metadata": {},
   "outputs": [
    {
     "data": {
      "text/plain": [
       "['kpca_selected.m']"
      ]
     },
     "execution_count": 11,
     "metadata": {},
     "output_type": "execute_result"
    }
   ],
   "source": [
    "# 基于参数调优的结果训练模型，并将模型保存到本地\n",
    "# 训练模型 \n",
    "kpca_selected = KernelPCA(kernel=best_args['kernel'],gamma=best_args['gamma'],n_components=300,fit_inverse_transform=True)\n",
    "kpca_selected.fit(X_train_sub)\n",
    "# 保存模型\n",
    "joblib.dump(kpca_selected, \"kpca_selected.m\")"
   ]
  },
  {
   "cell_type": "code",
   "execution_count": 12,
   "metadata": {},
   "outputs": [
    {
     "data": {
      "image/png": "[encoded data removed]",
      "text/plain": [
       "<Figure size 1080x432 with 12 Axes>"
      ]
     },
     "metadata": {},
     "output_type": "display_data"
    }
   ],
   "source": [
    "# 加载保存的模型\n",
    "kpca_selected = joblib.load(\"kpca_selected.m\")\n",
    "# 对训练集降维\n",
    "X_reduced=kpca_selected.transform(X_train_sub)\n",
    "# 重构训练集\n",
    "X_inv=kpca_selected.inverse_transform(X_reduced)\n",
    "'''原始图像 VS. 重构图像'''\n",
    "image_compare(X_train_sub[:6],X_inv[:6])"
   ]
  },
  {
   "cell_type": "markdown",
   "metadata": {},
   "source": [
    "利用模型对测试集进行降维，并绘制原始图像与重构图像："
   ]
  },
  {
   "cell_type": "code",
   "execution_count": 13,
   "metadata": {
    "scrolled": true
   },
   "outputs": [
    {
     "data": {
      "image/png": "[encoded data removed]",
      "text/plain": [
       "<Figure size 1080x432 with 12 Axes>"
      ]
     },
     "metadata": {},
     "output_type": "display_data"
    }
   ],
   "source": [
    "# 测试集降维\n",
    "X_test_rexduced = kpca_selected.transform(X_test_sub)\n",
    "# 重构测试集\n",
    "X_test_inv=kpca_selected.inverse_transform(X_test_rexduced)\n",
    "'''原始图像 VS. 重构图像'''\n",
    "image_compare(X_test_sub[:6],X_test_inv[:6])"
   ]
  },
  {
   "cell_type": "markdown",
   "metadata": {},
   "source": [
    "### 图像分类"
   ]
  },
  {
   "cell_type": "code",
   "execution_count": 15,
   "metadata": {},
   "outputs": [],
   "source": [
    "# 自定义函数classifier_performance\n",
    "# 输入：y_true,y_pred\n",
    "# 打印分类效果评估指标，并返回混淆矩阵\n",
    "def classifier_performance(y_true,y_pred):\n",
    "    # 分类效果评估\n",
    "    clf_rpt = classification_report(y_true, y_pred,target_names =label_names_sub)\n",
    "    # 混淆矩阵\n",
    "    cfs_mat = pd.DataFrame(confusion_matrix(y_true, y_pred, labels=labels))\n",
    "    cfs_mat.index = label_names_sub\n",
    "    cfs_mat.columns = label_names_sub\n",
    "    return clf_rpt,cfs_mat\n",
    "\n",
    "pred_pfm_dict={} # 整合所有分类方法的效果评估指标 "
   ]
  },
  {
   "cell_type": "markdown",
   "metadata": {},
   "source": [
    "#### KNN"
   ]
  },
  {
   "cell_type": "markdown",
   "metadata": {},
   "source": [
    "K：邻居数，即在预测目标点时取几个临近的点来预测。   \n",
    "如何选择一个合适的K？这里采用交叉验证"
   ]
  },
  {
   "cell_type": "markdown",
   "metadata": {},
   "source": [
    "##### 使用降维后的数据建模"
   ]
  },
  {
   "cell_type": "code",
   "execution_count": 61,
   "metadata": {},
   "outputs": [
    {
     "name": "stderr",
     "output_type": "stream",
     "text": [
      "D:\\Program Files (x86)\\Anaconda\\lib\\site-packages\\ipykernel_launcher.py:3: DeprecationWarning: time.clock has been deprecated in Python 3.3 and will be removed from Python 3.8: use time.perf_counter or time.process_time instead\n",
      "  This is separate from the ipykernel package so we can avoid doing imports until\n"
     ]
    },
    {
     "name": "stdout",
     "output_type": "stream",
     "text": [
      "运行时间： 68.60277500000029\n",
      "最优邻居数取值：\n",
      "KNeighborsClassifier(algorithm='auto', leaf_size=30, metric='minkowski',\n",
      "           metric_params=None, n_jobs=1, n_neighbors=6, p=2,\n",
      "           weights='uniform')\n"
     ]
    },
    {
     "name": "stderr",
     "output_type": "stream",
     "text": [
      "D:\\Program Files (x86)\\Anaconda\\lib\\site-packages\\ipykernel_launcher.py:9: DeprecationWarning: time.clock has been deprecated in Python 3.3 and will be removed from Python 3.8: use time.perf_counter or time.process_time instead\n",
      "  if __name__ == '__main__':\n"
     ]
    },
    {
     "data": {
      "text/plain": [
       "['knn.m']"
      ]
     },
     "execution_count": 61,
     "metadata": {},
     "output_type": "execute_result"
    }
   ],
   "source": [
    "# 交叉验证选择合适的n_neighbors\n",
    "# 记录程序运行时间\n",
    "start = time.clock()\n",
    "param_k = {'n_neighbors': range(1,21)}\n",
    "# 采用交叉验证的方法选择合适的n_neighbors\n",
    "knn = GridSearchCV(KNeighborsClassifier(param_k),param_k, cv=5, iid=False)\n",
    "# 基于训练集降维后的数据\n",
    "knn = knn.fit(X_reduced, y_train_sub)\n",
    "elapsed = (time.clock() - start)\n",
    "print('运行时间：',elapsed)\n",
    "\n",
    "print(\"最优邻居数取值：\")\n",
    "print(knn.best_estimator_)\n",
    "# 将模型保存到本地\n",
    "joblib.dump(knn,'knn.m')"
   ]
  },
  {
   "cell_type": "markdown",
   "metadata": {},
   "source": [
    "训练集上的分类效果评估："
   ]
  },
  {
   "cell_type": "code",
   "execution_count": 62,
   "metadata": {},
   "outputs": [
    {
     "name": "stdout",
     "output_type": "stream",
     "text": [
      "分类效果评估:\n",
      "             precision    recall  f1-score   support\n",
      "\n",
      "       baby       0.79      0.78      0.78       500\n",
      "       bear       0.73      0.89      0.80       500\n",
      "       rose       0.90      0.73      0.80       500\n",
      "\n",
      "avg / total       0.81      0.80      0.80      1500\n",
      "\n",
      "混淆矩阵:\n"
     ]
    },
    {
     "data": {
      "text/html": [
       "<div>\n",
       "<style scoped>\n",
       "    .dataframe tbody tr th:only-of-type {\n",
       "        vertical-align: middle;\n",
       "    }\n",
       "\n",
       "    .dataframe tbody tr th {\n",
       "        vertical-align: top;\n",
       "    }\n",
       "\n",
       "    .dataframe thead th {\n",
       "        text-align: right;\n",
       "    }\n",
       "</style>\n",
       "<table border=\"1\" class=\"dataframe\">\n",
       "  <thead>\n",
       "    <tr style=\"text-align: right;\">\n",
       "      <th></th>\n",
       "      <th>baby</th>\n",
       "      <th>bear</th>\n",
       "      <th>rose</th>\n",
       "    </tr>\n",
       "  </thead>\n",
       "  <tbody>\n",
       "    <tr>\n",
       "      <th>baby</th>\n",
       "      <td>388</td>\n",
       "      <td>82</td>\n",
       "      <td>30</td>\n",
       "    </tr>\n",
       "    <tr>\n",
       "      <th>bear</th>\n",
       "      <td>45</td>\n",
       "      <td>443</td>\n",
       "      <td>12</td>\n",
       "    </tr>\n",
       "    <tr>\n",
       "      <th>rose</th>\n",
       "      <td>58</td>\n",
       "      <td>79</td>\n",
       "      <td>363</td>\n",
       "    </tr>\n",
       "  </tbody>\n",
       "</table>\n",
       "</div>"
      ],
      "text/plain": [
       "      baby  bear  rose\n",
       "baby   388    82    30\n",
       "bear    45   443    12\n",
       "rose    58    79   363"
      ]
     },
     "execution_count": 62,
     "metadata": {},
     "output_type": "execute_result"
    }
   ],
   "source": [
    "# 加载模型\n",
    "knn = joblib.load('knn.m')\n",
    "# 模型预测（训练集）\n",
    "y_train_pred = knn.predict(X_reduced)\n",
    "clf_rpt_knn_tr,cfs_mat_knn_tr = classifier_performance(y_train_sub,y_train_pred)\n",
    "pred_pfm_dict.update({'clf_rpt_knn_tr':clf_rpt_knn_tr}) # 存储模型效果评估指标\n",
    "print('分类效果评估:')\n",
    "print(clf_rpt_knn_tr)\n",
    "print('混淆矩阵:')\n",
    "cfs_mat_knn_tr"
   ]
  },
  {
   "cell_type": "markdown",
   "metadata": {},
   "source": [
    "测试集上的分类效果评估："
   ]
  },
  {
   "cell_type": "code",
   "execution_count": 63,
   "metadata": {
    "scrolled": true
   },
   "outputs": [
    {
     "name": "stdout",
     "output_type": "stream",
     "text": [
      "分类效果评估:\n",
      "             precision    recall  f1-score   support\n",
      "\n",
      "       baby       0.71      0.71      0.71       100\n",
      "       bear       0.73      0.88      0.80       100\n",
      "       rose       0.82      0.66      0.73       100\n",
      "\n",
      "avg / total       0.76      0.75      0.75       300\n",
      "\n"
     ]
    },
    {
     "data": {
      "text/html": [
       "<div>\n",
       "<style scoped>\n",
       "    .dataframe tbody tr th:only-of-type {\n",
       "        vertical-align: middle;\n",
       "    }\n",
       "\n",
       "    .dataframe tbody tr th {\n",
       "        vertical-align: top;\n",
       "    }\n",
       "\n",
       "    .dataframe thead th {\n",
       "        text-align: right;\n",
       "    }\n",
       "</style>\n",
       "<table border=\"1\" class=\"dataframe\">\n",
       "  <thead>\n",
       "    <tr style=\"text-align: right;\">\n",
       "      <th></th>\n",
       "      <th>baby</th>\n",
       "      <th>bear</th>\n",
       "      <th>rose</th>\n",
       "    </tr>\n",
       "  </thead>\n",
       "  <tbody>\n",
       "    <tr>\n",
       "      <th>baby</th>\n",
       "      <td>71</td>\n",
       "      <td>16</td>\n",
       "      <td>13</td>\n",
       "    </tr>\n",
       "    <tr>\n",
       "      <th>bear</th>\n",
       "      <td>11</td>\n",
       "      <td>88</td>\n",
       "      <td>1</td>\n",
       "    </tr>\n",
       "    <tr>\n",
       "      <th>rose</th>\n",
       "      <td>18</td>\n",
       "      <td>16</td>\n",
       "      <td>66</td>\n",
       "    </tr>\n",
       "  </tbody>\n",
       "</table>\n",
       "</div>"
      ],
      "text/plain": [
       "      baby  bear  rose\n",
       "baby    71    16    13\n",
       "bear    11    88     1\n",
       "rose    18    16    66"
      ]
     },
     "execution_count": 63,
     "metadata": {},
     "output_type": "execute_result"
    }
   ],
   "source": [
    "# 模型预测（测试集）\n",
    "y_test_pred = knn.predict(X_test_rexduced)\n",
    "clf_rpt_knn_te,cfs_mat_knn_te = classifier_performance(y_test_sub,y_test_pred)\n",
    "pred_pfm_dict.update({'clf_rpt_knn_te':clf_rpt_knn_te})\n",
    "print('分类效果评估:')\n",
    "print(clf_rpt_knn_te)\n",
    "\n",
    "cfs_mat_knn_te"
   ]
  },
  {
   "cell_type": "markdown",
   "metadata": {},
   "source": [
    "##### 使用未进行降维的数据建模"
   ]
  },
  {
   "cell_type": "code",
   "execution_count": 64,
   "metadata": {},
   "outputs": [
    {
     "name": "stderr",
     "output_type": "stream",
     "text": [
      "D:\\Program Files (x86)\\Anaconda\\lib\\site-packages\\ipykernel_launcher.py:3: DeprecationWarning: time.clock has been deprecated in Python 3.3 and will be removed from Python 3.8: use time.perf_counter or time.process_time instead\n",
      "  This is separate from the ipykernel package so we can avoid doing imports until\n"
     ]
    },
    {
     "name": "stdout",
     "output_type": "stream",
     "text": [
      "运行时间： 1041.3602075000003\n",
      "最优邻居数取值：\n",
      "KNeighborsClassifier(algorithm='auto', leaf_size=30, metric='minkowski',\n",
      "           metric_params=None, n_jobs=1, n_neighbors=10, p=2,\n",
      "           weights='uniform')\n"
     ]
    },
    {
     "name": "stderr",
     "output_type": "stream",
     "text": [
      "D:\\Program Files (x86)\\Anaconda\\lib\\site-packages\\ipykernel_launcher.py:9: DeprecationWarning: time.clock has been deprecated in Python 3.3 and will be removed from Python 3.8: use time.perf_counter or time.process_time instead\n",
      "  if __name__ == '__main__':\n"
     ]
    },
    {
     "data": {
      "text/plain": [
       "['knn_ur.m']"
      ]
     },
     "execution_count": 64,
     "metadata": {},
     "output_type": "execute_result"
    }
   ],
   "source": [
    "# 交叉验证选择合适的n_neighbors\n",
    "# 记录程序运行时间\n",
    "start = time.clock()\n",
    "param_k = {'n_neighbors': range(1,21)}\n",
    "# 采用交叉验证的方法选择合适的n_neighbors\n",
    "knn_ur = GridSearchCV(KNeighborsClassifier(param_k),param_k, cv=5, iid=False)\n",
    "# 基于训练集降维后的数据\n",
    "knn_ur = knn_ur.fit(X_train_sub, y_train_sub)\n",
    "elapsed = (time.clock() - start)\n",
    "print('运行时间：',elapsed)\n",
    "\n",
    "print(\"最优邻居数取值：\")\n",
    "print(knn_ur.best_estimator_)\n",
    "# 将模型保存到本地\n",
    "joblib.dump(knn_ur,'knn_ur.m')"
   ]
  },
  {
   "cell_type": "markdown",
   "metadata": {},
   "source": [
    "训练集上的分类效果评估："
   ]
  },
  {
   "cell_type": "code",
   "execution_count": 65,
   "metadata": {},
   "outputs": [
    {
     "name": "stdout",
     "output_type": "stream",
     "text": [
      "分类效果评估:\n",
      "             precision    recall  f1-score   support\n",
      "\n",
      "       baby       0.79      0.75      0.77       500\n",
      "       bear       0.68      0.91      0.78       500\n",
      "       rose       0.91      0.65      0.76       500\n",
      "\n",
      "avg / total       0.79      0.77      0.77      1500\n",
      "\n",
      "混淆矩阵:\n"
     ]
    },
    {
     "data": {
      "text/html": [
       "<div>\n",
       "<style scoped>\n",
       "    .dataframe tbody tr th:only-of-type {\n",
       "        vertical-align: middle;\n",
       "    }\n",
       "\n",
       "    .dataframe tbody tr th {\n",
       "        vertical-align: top;\n",
       "    }\n",
       "\n",
       "    .dataframe thead th {\n",
       "        text-align: right;\n",
       "    }\n",
       "</style>\n",
       "<table border=\"1\" class=\"dataframe\">\n",
       "  <thead>\n",
       "    <tr style=\"text-align: right;\">\n",
       "      <th></th>\n",
       "      <th>baby</th>\n",
       "      <th>bear</th>\n",
       "      <th>rose</th>\n",
       "    </tr>\n",
       "  </thead>\n",
       "  <tbody>\n",
       "    <tr>\n",
       "      <th>baby</th>\n",
       "      <td>373</td>\n",
       "      <td>103</td>\n",
       "      <td>24</td>\n",
       "    </tr>\n",
       "    <tr>\n",
       "      <th>bear</th>\n",
       "      <td>38</td>\n",
       "      <td>455</td>\n",
       "      <td>7</td>\n",
       "    </tr>\n",
       "    <tr>\n",
       "      <th>rose</th>\n",
       "      <td>60</td>\n",
       "      <td>113</td>\n",
       "      <td>327</td>\n",
       "    </tr>\n",
       "  </tbody>\n",
       "</table>\n",
       "</div>"
      ],
      "text/plain": [
       "      baby  bear  rose\n",
       "baby   373   103    24\n",
       "bear    38   455     7\n",
       "rose    60   113   327"
      ]
     },
     "execution_count": 65,
     "metadata": {},
     "output_type": "execute_result"
    }
   ],
   "source": [
    "# 加载模型\n",
    "knn_ur = joblib.load('knn_ur.m')\n",
    "# 模型预测（训练集）\n",
    "y_train_pred = knn_ur.predict(X_train_sub)\n",
    "clf_rpt_knnur_tr,cfs_mat_knnur_tr = classifier_performance(y_train_sub,y_train_pred)\n",
    "pred_pfm_dict.update({'clf_rpt_knnur_tr':clf_rpt_knnur_tr}) # 存储模型效果评估指标\n",
    "print('分类效果评估:')\n",
    "print(clf_rpt_knnur_tr)\n",
    "print('混淆矩阵:')\n",
    "cfs_mat_knnur_tr"
   ]
  },
  {
   "cell_type": "markdown",
   "metadata": {},
   "source": [
    "测试集上的分类效果评估："
   ]
  },
  {
   "cell_type": "code",
   "execution_count": 66,
   "metadata": {
    "scrolled": true
   },
   "outputs": [
    {
     "name": "stdout",
     "output_type": "stream",
     "text": [
      "分类效果评估:\n",
      "             precision    recall  f1-score   support\n",
      "\n",
      "       baby       0.70      0.64      0.67       100\n",
      "       bear       0.65      0.86      0.74       100\n",
      "       rose       0.89      0.67      0.77       100\n",
      "\n",
      "avg / total       0.75      0.72      0.72       300\n",
      "\n",
      "混淆矩阵:\n"
     ]
    },
    {
     "data": {
      "text/html": [
       "<div>\n",
       "<style scoped>\n",
       "    .dataframe tbody tr th:only-of-type {\n",
       "        vertical-align: middle;\n",
       "    }\n",
       "\n",
       "    .dataframe tbody tr th {\n",
       "        vertical-align: top;\n",
       "    }\n",
       "\n",
       "    .dataframe thead th {\n",
       "        text-align: right;\n",
       "    }\n",
       "</style>\n",
       "<table border=\"1\" class=\"dataframe\">\n",
       "  <thead>\n",
       "    <tr style=\"text-align: right;\">\n",
       "      <th></th>\n",
       "      <th>baby</th>\n",
       "      <th>bear</th>\n",
       "      <th>rose</th>\n",
       "    </tr>\n",
       "  </thead>\n",
       "  <tbody>\n",
       "    <tr>\n",
       "      <th>baby</th>\n",
       "      <td>64</td>\n",
       "      <td>29</td>\n",
       "      <td>7</td>\n",
       "    </tr>\n",
       "    <tr>\n",
       "      <th>bear</th>\n",
       "      <td>13</td>\n",
       "      <td>86</td>\n",
       "      <td>1</td>\n",
       "    </tr>\n",
       "    <tr>\n",
       "      <th>rose</th>\n",
       "      <td>15</td>\n",
       "      <td>18</td>\n",
       "      <td>67</td>\n",
       "    </tr>\n",
       "  </tbody>\n",
       "</table>\n",
       "</div>"
      ],
      "text/plain": [
       "      baby  bear  rose\n",
       "baby    64    29     7\n",
       "bear    13    86     1\n",
       "rose    15    18    67"
      ]
     },
     "execution_count": 66,
     "metadata": {},
     "output_type": "execute_result"
    }
   ],
   "source": [
    "# 模型预测（测试集）\n",
    "y_test_pred = knn_ur.predict(X_test_sub)\n",
    "clf_rpt_knnur_te,cfs_mat_knnur_te = classifier_performance(y_test_sub,y_test_pred)\n",
    "pred_pfm_dict.update({'clf_rpt_knnur_te':clf_rpt_knnur_te}) # 存储模型效果评估指标\n",
    "print('分类效果评估:')\n",
    "print(clf_rpt_knnur_te)\n",
    "print('混淆矩阵:')\n",
    "cfs_mat_knnur_te"
   ]
  },
  {
   "cell_type": "markdown",
   "metadata": {},
   "source": [
    "#### SVM"
   ]
  },
  {
   "cell_type": "markdown",
   "metadata": {},
   "source": [
    "##### 线性核函数SVM\n",
    "通过交叉验证，获取一个合适的参数C的取值（误差项的罚参数）"
   ]
  },
  {
   "cell_type": "code",
   "execution_count": 68,
   "metadata": {},
   "outputs": [
    {
     "name": "stderr",
     "output_type": "stream",
     "text": [
      "D:\\Program Files (x86)\\Anaconda\\lib\\site-packages\\ipykernel_launcher.py:2: DeprecationWarning: time.clock has been deprecated in Python 3.3 and will be removed from Python 3.8: use time.perf_counter or time.process_time instead\n",
      "  \n"
     ]
    },
    {
     "name": "stdout",
     "output_type": "stream",
     "text": [
      "运行时间： 26.375464000000648\n",
      "最优参数取值：\n",
      "SVC(C=1, cache_size=200, class_weight='balanced', coef0=0.0,\n",
      "  decision_function_shape='ovr', degree=3, gamma='auto', kernel='linear',\n",
      "  max_iter=-1, probability=False, random_state=None, shrinking=True,\n",
      "  tol=0.001, verbose=False)\n"
     ]
    },
    {
     "name": "stderr",
     "output_type": "stream",
     "text": [
      "D:\\Program Files (x86)\\Anaconda\\lib\\site-packages\\ipykernel_launcher.py:9: DeprecationWarning: time.clock has been deprecated in Python 3.3 and will be removed from Python 3.8: use time.perf_counter or time.process_time instead\n",
      "  if __name__ == '__main__':\n"
     ]
    }
   ],
   "source": [
    "# 记录程序运行时间\n",
    "start = time.clock()\n",
    "param_grid_kernel = {'C': [1,10,40,50,60,100,150]}\n",
    "# 采用交叉验证的方法选择合适的C\n",
    "linear_SVC = GridSearchCV(SVC(kernel='linear', class_weight='balanced'),\n",
    "                   param_grid_kernel, cv=5, iid=False)\n",
    "# 基于训练集降维后的数据\n",
    "linear_SVC = linear_SVC.fit(X_reduced, y_train_sub)\n",
    "elapsed = (time.clock() - start)\n",
    "print('运行时间：',elapsed)\n",
    "\n",
    "print(\"最优参数取值：\")\n",
    "print(linear_SVC.best_estimator_)\n",
    "# 将模型保存到本地\n",
    "joblib.dump(linear_SVC,'linear_SVC.m')\n",
    "linear_SVC = SVC(kernel='linear')"
   ]
  },
  {
   "cell_type": "markdown",
   "metadata": {},
   "source": [
    "训练集上的分类效果评估："
   ]
  },
  {
   "cell_type": "code",
   "execution_count": 69,
   "metadata": {},
   "outputs": [
    {
     "name": "stdout",
     "output_type": "stream",
     "text": [
      "分类效果评估:\n",
      "             precision    recall  f1-score   support\n",
      "\n",
      "       baby       1.00      1.00      1.00       500\n",
      "       bear       1.00      1.00      1.00       500\n",
      "       rose       1.00      1.00      1.00       500\n",
      "\n",
      "avg / total       1.00      1.00      1.00      1500\n",
      "\n",
      "混淆矩阵:\n"
     ]
    },
    {
     "data": {
      "text/html": [
       "<div>\n",
       "<style scoped>\n",
       "    .dataframe tbody tr th:only-of-type {\n",
       "        vertical-align: middle;\n",
       "    }\n",
       "\n",
       "    .dataframe tbody tr th {\n",
       "        vertical-align: top;\n",
       "    }\n",
       "\n",
       "    .dataframe thead th {\n",
       "        text-align: right;\n",
       "    }\n",
       "</style>\n",
       "<table border=\"1\" class=\"dataframe\">\n",
       "  <thead>\n",
       "    <tr style=\"text-align: right;\">\n",
       "      <th></th>\n",
       "      <th>baby</th>\n",
       "      <th>bear</th>\n",
       "      <th>rose</th>\n",
       "    </tr>\n",
       "  </thead>\n",
       "  <tbody>\n",
       "    <tr>\n",
       "      <th>baby</th>\n",
       "      <td>500</td>\n",
       "      <td>0</td>\n",
       "      <td>0</td>\n",
       "    </tr>\n",
       "    <tr>\n",
       "      <th>bear</th>\n",
       "      <td>0</td>\n",
       "      <td>500</td>\n",
       "      <td>0</td>\n",
       "    </tr>\n",
       "    <tr>\n",
       "      <th>rose</th>\n",
       "      <td>0</td>\n",
       "      <td>0</td>\n",
       "      <td>500</td>\n",
       "    </tr>\n",
       "  </tbody>\n",
       "</table>\n",
       "</div>"
      ],
      "text/plain": [
       "      baby  bear  rose\n",
       "baby   500     0     0\n",
       "bear     0   500     0\n",
       "rose     0     0   500"
      ]
     },
     "execution_count": 69,
     "metadata": {},
     "output_type": "execute_result"
    }
   ],
   "source": [
    "# 加载模型\n",
    "linear_SVC = joblib.load('linear_SVC.m')\n",
    "# 模型预测（训练集）\n",
    "y_train_pred = linear_SVC.predict(X_reduced)\n",
    "clf_rpt_lsvc_tr,cfs_mat_lsvc_tr = classifier_performance(y_train_sub,y_train_pred)\n",
    "pred_pfm_dict.update({'clf_rpt_lsvc_tr':clf_rpt_lsvc_tr}) # 存储模型效果评估指标\n",
    "print('分类效果评估:')\n",
    "print(clf_rpt_lsvc_tr)\n",
    "print('混淆矩阵:')\n",
    "cfs_mat_lsvc_tr"
   ]
  },
  {
   "cell_type": "markdown",
   "metadata": {},
   "source": [
    "测试集上的分类效果评估："
   ]
  },
  {
   "cell_type": "code",
   "execution_count": 70,
   "metadata": {},
   "outputs": [
    {
     "name": "stdout",
     "output_type": "stream",
     "text": [
      "分类效果评估:\n",
      "             precision    recall  f1-score   support\n",
      "\n",
      "       baby       0.66      0.75      0.70       100\n",
      "       bear       0.83      0.68      0.75       100\n",
      "       rose       0.75      0.79      0.77       100\n",
      "\n",
      "avg / total       0.75      0.74      0.74       300\n",
      "\n",
      "混淆矩阵:\n"
     ]
    },
    {
     "data": {
      "text/html": [
       "<div>\n",
       "<style scoped>\n",
       "    .dataframe tbody tr th:only-of-type {\n",
       "        vertical-align: middle;\n",
       "    }\n",
       "\n",
       "    .dataframe tbody tr th {\n",
       "        vertical-align: top;\n",
       "    }\n",
       "\n",
       "    .dataframe thead th {\n",
       "        text-align: right;\n",
       "    }\n",
       "</style>\n",
       "<table border=\"1\" class=\"dataframe\">\n",
       "  <thead>\n",
       "    <tr style=\"text-align: right;\">\n",
       "      <th></th>\n",
       "      <th>baby</th>\n",
       "      <th>bear</th>\n",
       "      <th>rose</th>\n",
       "    </tr>\n",
       "  </thead>\n",
       "  <tbody>\n",
       "    <tr>\n",
       "      <th>baby</th>\n",
       "      <td>75</td>\n",
       "      <td>6</td>\n",
       "      <td>19</td>\n",
       "    </tr>\n",
       "    <tr>\n",
       "      <th>bear</th>\n",
       "      <td>25</td>\n",
       "      <td>68</td>\n",
       "      <td>7</td>\n",
       "    </tr>\n",
       "    <tr>\n",
       "      <th>rose</th>\n",
       "      <td>13</td>\n",
       "      <td>8</td>\n",
       "      <td>79</td>\n",
       "    </tr>\n",
       "  </tbody>\n",
       "</table>\n",
       "</div>"
      ],
      "text/plain": [
       "      baby  bear  rose\n",
       "baby    75     6    19\n",
       "bear    25    68     7\n",
       "rose    13     8    79"
      ]
     },
     "execution_count": 70,
     "metadata": {},
     "output_type": "execute_result"
    }
   ],
   "source": [
    "# 模型预测（测试集）\n",
    "y_test_pred = linear_SVC.predict(X_test_rexduced)\n",
    "clf_rpt_lsvc_te,cfs_mat_lsvc_te = classifier_performance(y_test_sub,y_test_pred)\n",
    "pred_pfm_dict.update({'clf_rpt_lsvc_te':clf_rpt_lsvc_te}) # 存储模型效果评估指标\n",
    "print('分类效果评估:')\n",
    "print(clf_rpt_lsvc_te)\n",
    "print('混淆矩阵:')\n",
    "cfs_mat_lsvc_te"
   ]
  },
  {
   "cell_type": "markdown",
   "metadata": {},
   "source": [
    "##### 非线性核函数SVM"
   ]
  },
  {
   "cell_type": "markdown",
   "metadata": {},
   "source": [
    "核函数及其gamma的选择——交叉验证   \n",
    "###### rbf: 高斯核"
   ]
  },
  {
   "cell_type": "code",
   "execution_count": 80,
   "metadata": {
    "scrolled": true
   },
   "outputs": [
    {
     "name": "stderr",
     "output_type": "stream",
     "text": [
      "D:\\Program Files (x86)\\Anaconda\\lib\\site-packages\\ipykernel_launcher.py:2: DeprecationWarning: time.clock has been deprecated in Python 3.3 and will be removed from Python 3.8: use time.perf_counter or time.process_time instead\n",
      "  \n"
     ]
    },
    {
     "name": "stdout",
     "output_type": "stream",
     "text": [
      "运行时间： 332.7905965\n",
      "最优参数取值：\n",
      "SVC(C=10, cache_size=200, class_weight='balanced', coef0=0.0,\n",
      "  decision_function_shape='ovr', degree=3, gamma=8e-07, kernel='rbf',\n",
      "  max_iter=-1, probability=False, random_state=None, shrinking=True,\n",
      "  tol=0.001, verbose=False)\n"
     ]
    },
    {
     "name": "stderr",
     "output_type": "stream",
     "text": [
      "D:\\Program Files (x86)\\Anaconda\\lib\\site-packages\\ipykernel_launcher.py:10: DeprecationWarning: time.clock has been deprecated in Python 3.3 and will be removed from Python 3.8: use time.perf_counter or time.process_time instead\n",
      "  # Remove the CWD from sys.path while we load stuff.\n"
     ]
    },
    {
     "data": {
      "text/plain": [
       "['rbf_SVC.m']"
      ]
     },
     "execution_count": 80,
     "metadata": {},
     "output_type": "execute_result"
    }
   ],
   "source": [
    "# 记录程序运行时间\n",
    "start = time.clock()\n",
    "param_grid_kernel = {'C': [1,5,10,15,20,40,50,60],\n",
    "              'gamma': np.linspace(1e-7,1e-6,10) }\n",
    "# 采用交叉验证的方法选择合适的C和gamma\n",
    "rbf_SVC = GridSearchCV(SVC(kernel='rbf', class_weight='balanced'),\n",
    "                   param_grid_kernel, cv=5, iid=False)\n",
    "# 基于训练集降维后的数据\n",
    "rbf_SVC = rbf_SVC.fit(X_reduced, y_train_sub)\n",
    "elapsed = (time.clock() - start)\n",
    "print('运行时间：',elapsed)\n",
    "\n",
    "print(\"最优参数取值：\")\n",
    "print(rbf_SVC.best_estimator_)\n",
    "# 将模型保存到本地\n",
    "joblib.dump(rbf_SVC,'rbf_SVC.m')"
   ]
  },
  {
   "cell_type": "markdown",
   "metadata": {},
   "source": [
    "训练集上的分类效果评估："
   ]
  },
  {
   "cell_type": "code",
   "execution_count": 81,
   "metadata": {},
   "outputs": [
    {
     "name": "stdout",
     "output_type": "stream",
     "text": [
      "分类效果评估:\n",
      "             precision    recall  f1-score   support\n",
      "\n",
      "       baby       0.90      0.84      0.87       500\n",
      "       bear       0.85      0.93      0.89       500\n",
      "       rose       0.90      0.88      0.89       500\n",
      "\n",
      "avg / total       0.88      0.88      0.88      1500\n",
      "\n",
      "混淆矩阵:\n"
     ]
    },
    {
     "data": {
      "text/html": [
       "<div>\n",
       "<style scoped>\n",
       "    .dataframe tbody tr th:only-of-type {\n",
       "        vertical-align: middle;\n",
       "    }\n",
       "\n",
       "    .dataframe tbody tr th {\n",
       "        vertical-align: top;\n",
       "    }\n",
       "\n",
       "    .dataframe thead th {\n",
       "        text-align: right;\n",
       "    }\n",
       "</style>\n",
       "<table border=\"1\" class=\"dataframe\">\n",
       "  <thead>\n",
       "    <tr style=\"text-align: right;\">\n",
       "      <th></th>\n",
       "      <th>baby</th>\n",
       "      <th>bear</th>\n",
       "      <th>rose</th>\n",
       "    </tr>\n",
       "  </thead>\n",
       "  <tbody>\n",
       "    <tr>\n",
       "      <th>baby</th>\n",
       "      <td>420</td>\n",
       "      <td>43</td>\n",
       "      <td>37</td>\n",
       "    </tr>\n",
       "    <tr>\n",
       "      <th>bear</th>\n",
       "      <td>23</td>\n",
       "      <td>463</td>\n",
       "      <td>14</td>\n",
       "    </tr>\n",
       "    <tr>\n",
       "      <th>rose</th>\n",
       "      <td>25</td>\n",
       "      <td>37</td>\n",
       "      <td>438</td>\n",
       "    </tr>\n",
       "  </tbody>\n",
       "</table>\n",
       "</div>"
      ],
      "text/plain": [
       "      baby  bear  rose\n",
       "baby   420    43    37\n",
       "bear    23   463    14\n",
       "rose    25    37   438"
      ]
     },
     "execution_count": 81,
     "metadata": {},
     "output_type": "execute_result"
    }
   ],
   "source": [
    "# 加载模型\n",
    "rbf_SVC = joblib.load('rbf_SVC.m')\n",
    "# 模型预测（训练集）\n",
    "y_train_pred = rbf_SVC.predict(X_reduced)\n",
    "clf_rpt_rsvc_tr,cfs_mat_rsvc_tr = classifier_performance(y_train_sub,y_train_pred)\n",
    "pred_pfm_dict.update({'clf_rpt_rsvc_tr':clf_rpt_rsvc_tr}) # 存储模型效果评估指标\n",
    "print('分类效果评估:')\n",
    "print(clf_rpt_rsvc_tr)\n",
    "print('混淆矩阵:')\n",
    "cfs_mat_rsvc_tr"
   ]
  },
  {
   "cell_type": "markdown",
   "metadata": {},
   "source": [
    "测试集上的分类效果评估："
   ]
  },
  {
   "cell_type": "code",
   "execution_count": 82,
   "metadata": {},
   "outputs": [
    {
     "name": "stdout",
     "output_type": "stream",
     "text": [
      "分类效果评估:\n",
      "             precision    recall  f1-score   support\n",
      "\n",
      "       baby       0.72      0.73      0.72       100\n",
      "       bear       0.84      0.81      0.82       100\n",
      "       rose       0.80      0.81      0.81       100\n",
      "\n",
      "avg / total       0.78      0.78      0.78       300\n",
      "\n",
      "混淆矩阵:\n"
     ]
    },
    {
     "data": {
      "text/html": [
       "<div>\n",
       "<style scoped>\n",
       "    .dataframe tbody tr th:only-of-type {\n",
       "        vertical-align: middle;\n",
       "    }\n",
       "\n",
       "    .dataframe tbody tr th {\n",
       "        vertical-align: top;\n",
       "    }\n",
       "\n",
       "    .dataframe thead th {\n",
       "        text-align: right;\n",
       "    }\n",
       "</style>\n",
       "<table border=\"1\" class=\"dataframe\">\n",
       "  <thead>\n",
       "    <tr style=\"text-align: right;\">\n",
       "      <th></th>\n",
       "      <th>baby</th>\n",
       "      <th>bear</th>\n",
       "      <th>rose</th>\n",
       "    </tr>\n",
       "  </thead>\n",
       "  <tbody>\n",
       "    <tr>\n",
       "      <th>baby</th>\n",
       "      <td>73</td>\n",
       "      <td>8</td>\n",
       "      <td>19</td>\n",
       "    </tr>\n",
       "    <tr>\n",
       "      <th>bear</th>\n",
       "      <td>18</td>\n",
       "      <td>81</td>\n",
       "      <td>1</td>\n",
       "    </tr>\n",
       "    <tr>\n",
       "      <th>rose</th>\n",
       "      <td>11</td>\n",
       "      <td>8</td>\n",
       "      <td>81</td>\n",
       "    </tr>\n",
       "  </tbody>\n",
       "</table>\n",
       "</div>"
      ],
      "text/plain": [
       "      baby  bear  rose\n",
       "baby    73     8    19\n",
       "bear    18    81     1\n",
       "rose    11     8    81"
      ]
     },
     "execution_count": 82,
     "metadata": {},
     "output_type": "execute_result"
    }
   ],
   "source": [
    "# 模型预测（测试集）\n",
    "y_test_pred = rbf_SVC.predict(X_test_rexduced)\n",
    "clf_rpt_rsvc_te,cfs_mat_rsvc_te = classifier_performance(y_test_sub,y_test_pred)\n",
    "pred_pfm_dict.update({'clf_rpt_rsvc_te':clf_rpt_rsvc_te}) # 存储模型效果评估指标\n",
    "print('分类效果评估:')\n",
    "print(clf_rpt_rsvc_te)\n",
    "print('混淆矩阵:')\n",
    "cfs_mat_rsvc_te"
   ]
  },
  {
   "cell_type": "markdown",
   "metadata": {},
   "source": [
    "###### poly: 多项式核"
   ]
  },
  {
   "cell_type": "code",
   "execution_count": 83,
   "metadata": {
    "scrolled": true
   },
   "outputs": [
    {
     "name": "stderr",
     "output_type": "stream",
     "text": [
      "D:\\Program Files (x86)\\Anaconda\\lib\\site-packages\\ipykernel_launcher.py:2: DeprecationWarning: time.clock has been deprecated in Python 3.3 and will be removed from Python 3.8: use time.perf_counter or time.process_time instead\n",
      "  \n"
     ]
    },
    {
     "name": "stdout",
     "output_type": "stream",
     "text": [
      "运行时间： 103.66699979999976\n",
      "最优参数取值：\n",
      "SVC(C=20, cache_size=200, class_weight='balanced', coef0=0.0,\n",
      "  decision_function_shape='ovr', degree=3, gamma=5e-06, kernel='poly',\n",
      "  max_iter=-1, probability=False, random_state=None, shrinking=True,\n",
      "  tol=0.001, verbose=False)\n"
     ]
    },
    {
     "name": "stderr",
     "output_type": "stream",
     "text": [
      "D:\\Program Files (x86)\\Anaconda\\lib\\site-packages\\ipykernel_launcher.py:10: DeprecationWarning: time.clock has been deprecated in Python 3.3 and will be removed from Python 3.8: use time.perf_counter or time.process_time instead\n",
      "  # Remove the CWD from sys.path while we load stuff.\n"
     ]
    },
    {
     "data": {
      "text/plain": [
       "['poly_SVC.m']"
      ]
     },
     "execution_count": 83,
     "metadata": {},
     "output_type": "execute_result"
    }
   ],
   "source": [
    "# 记录程序运行时间\n",
    "start = time.clock()\n",
    "param_grid_kernel = {'C': [1,10,20,50,100],\n",
    "              'gamma': [1e-06,5e-06,1e-05,1e-04] }\n",
    "# 采用交叉验证的方法选择合适的C和gamma\n",
    "poly_SVC = GridSearchCV(SVC(kernel='poly', class_weight='balanced'),\n",
    "                   param_grid_kernel, cv=5, iid=False)\n",
    "# 基于训练集降维后的数据\n",
    "poly_SVC = poly_SVC.fit(X_reduced, y_train_sub)\n",
    "elapsed = (time.clock() - start)\n",
    "print('运行时间：',elapsed)\n",
    "\n",
    "print(\"最优参数取值：\")\n",
    "print(poly_SVC.best_estimator_)\n",
    "\n",
    "# 将模型保存到本地\n",
    "joblib.dump(poly_SVC,'poly_SVC.m')"
   ]
  },
  {
   "cell_type": "markdown",
   "metadata": {},
   "source": [
    "训练集上的分类效果评估："
   ]
  },
  {
   "cell_type": "code",
   "execution_count": 84,
   "metadata": {},
   "outputs": [
    {
     "name": "stdout",
     "output_type": "stream",
     "text": [
      "分类效果评估:\n",
      "             precision    recall  f1-score   support\n",
      "\n",
      "       baby       0.96      0.97      0.96       500\n",
      "       bear       0.95      0.97      0.96       500\n",
      "       rose       0.97      0.94      0.96       500\n",
      "\n",
      "avg / total       0.96      0.96      0.96      1500\n",
      "\n",
      "混淆矩阵:\n"
     ]
    },
    {
     "data": {
      "text/html": [
       "<div>\n",
       "<style scoped>\n",
       "    .dataframe tbody tr th:only-of-type {\n",
       "        vertical-align: middle;\n",
       "    }\n",
       "\n",
       "    .dataframe tbody tr th {\n",
       "        vertical-align: top;\n",
       "    }\n",
       "\n",
       "    .dataframe thead th {\n",
       "        text-align: right;\n",
       "    }\n",
       "</style>\n",
       "<table border=\"1\" class=\"dataframe\">\n",
       "  <thead>\n",
       "    <tr style=\"text-align: right;\">\n",
       "      <th></th>\n",
       "      <th>baby</th>\n",
       "      <th>bear</th>\n",
       "      <th>rose</th>\n",
       "    </tr>\n",
       "  </thead>\n",
       "  <tbody>\n",
       "    <tr>\n",
       "      <th>baby</th>\n",
       "      <td>484</td>\n",
       "      <td>9</td>\n",
       "      <td>7</td>\n",
       "    </tr>\n",
       "    <tr>\n",
       "      <th>bear</th>\n",
       "      <td>8</td>\n",
       "      <td>485</td>\n",
       "      <td>7</td>\n",
       "    </tr>\n",
       "    <tr>\n",
       "      <th>rose</th>\n",
       "      <td>14</td>\n",
       "      <td>15</td>\n",
       "      <td>471</td>\n",
       "    </tr>\n",
       "  </tbody>\n",
       "</table>\n",
       "</div>"
      ],
      "text/plain": [
       "      baby  bear  rose\n",
       "baby   484     9     7\n",
       "bear     8   485     7\n",
       "rose    14    15   471"
      ]
     },
     "execution_count": 84,
     "metadata": {},
     "output_type": "execute_result"
    }
   ],
   "source": [
    "# 加载模型\n",
    "poly_SVC = joblib.load('poly_SVC.m')\n",
    "# 模型预测（训练集）\n",
    "y_train_pred = poly_SVC.predict(X_reduced)\n",
    "clf_rpt_psvc_tr,cfs_mat_psvc_tr = classifier_performance(y_train_sub,y_train_pred)\n",
    "pred_pfm_dict.update({'clf_rpt_psvc_tr':clf_rpt_psvc_tr}) # 存储模型效果评估指标\n",
    "print('分类效果评估:')\n",
    "print(clf_rpt_psvc_tr)\n",
    "print('混淆矩阵:')\n",
    "cfs_mat_psvc_tr"
   ]
  },
  {
   "cell_type": "markdown",
   "metadata": {},
   "source": [
    "测试集上的分类效果评估："
   ]
  },
  {
   "cell_type": "code",
   "execution_count": 85,
   "metadata": {},
   "outputs": [
    {
     "name": "stdout",
     "output_type": "stream",
     "text": [
      "分类效果评估:\n",
      "             precision    recall  f1-score   support\n",
      "\n",
      "       baby       0.69      0.78      0.73       100\n",
      "       bear       0.80      0.78      0.79       100\n",
      "       rose       0.84      0.76      0.80       100\n",
      "\n",
      "avg / total       0.78      0.77      0.77       300\n",
      "\n",
      "混淆矩阵:\n"
     ]
    },
    {
     "data": {
      "text/html": [
       "<div>\n",
       "<style scoped>\n",
       "    .dataframe tbody tr th:only-of-type {\n",
       "        vertical-align: middle;\n",
       "    }\n",
       "\n",
       "    .dataframe tbody tr th {\n",
       "        vertical-align: top;\n",
       "    }\n",
       "\n",
       "    .dataframe thead th {\n",
       "        text-align: right;\n",
       "    }\n",
       "</style>\n",
       "<table border=\"1\" class=\"dataframe\">\n",
       "  <thead>\n",
       "    <tr style=\"text-align: right;\">\n",
       "      <th></th>\n",
       "      <th>baby</th>\n",
       "      <th>bear</th>\n",
       "      <th>rose</th>\n",
       "    </tr>\n",
       "  </thead>\n",
       "  <tbody>\n",
       "    <tr>\n",
       "      <th>baby</th>\n",
       "      <td>78</td>\n",
       "      <td>10</td>\n",
       "      <td>12</td>\n",
       "    </tr>\n",
       "    <tr>\n",
       "      <th>bear</th>\n",
       "      <td>20</td>\n",
       "      <td>78</td>\n",
       "      <td>2</td>\n",
       "    </tr>\n",
       "    <tr>\n",
       "      <th>rose</th>\n",
       "      <td>15</td>\n",
       "      <td>9</td>\n",
       "      <td>76</td>\n",
       "    </tr>\n",
       "  </tbody>\n",
       "</table>\n",
       "</div>"
      ],
      "text/plain": [
       "      baby  bear  rose\n",
       "baby    78    10    12\n",
       "bear    20    78     2\n",
       "rose    15     9    76"
      ]
     },
     "execution_count": 85,
     "metadata": {},
     "output_type": "execute_result"
    }
   ],
   "source": [
    "# 模型预测（测试集）\n",
    "y_test_pred = poly_SVC.predict(X_test_rexduced)\n",
    "clf_rpt_psvc_te,cfs_mat_psvc_te = classifier_performance(y_test_sub,y_test_pred)\n",
    "pred_pfm_dict.update({'clf_rpt_psvc_te':clf_rpt_psvc_te}) # 存储模型效果评估指标\n",
    "print('分类效果评估:')\n",
    "print(clf_rpt_psvc_te)\n",
    "print('混淆矩阵:')\n",
    "cfs_mat_psvc_te"
   ]
  },
  {
   "cell_type": "markdown",
   "metadata": {},
   "source": [
    "###### Sigmoid函数"
   ]
  },
  {
   "cell_type": "code",
   "execution_count": 98,
   "metadata": {
    "scrolled": true
   },
   "outputs": [
    {
     "name": "stderr",
     "output_type": "stream",
     "text": [
      "D:\\Program Files (x86)\\Anaconda\\lib\\site-packages\\ipykernel_launcher.py:2: DeprecationWarning: time.clock has been deprecated in Python 3.3 and will be removed from Python 3.8: use time.perf_counter or time.process_time instead\n",
      "  \n"
     ]
    },
    {
     "name": "stdout",
     "output_type": "stream",
     "text": [
      "运行时间： 96.51536690000012\n",
      "最优参数取值：\n",
      "SVC(C=650, cache_size=200, class_weight='balanced', coef0=0.0,\n",
      "  decision_function_shape='ovr', degree=3, gamma=5e-08, kernel='sigmoid',\n",
      "  max_iter=-1, probability=False, random_state=None, shrinking=True,\n",
      "  tol=0.001, verbose=False)\n"
     ]
    },
    {
     "name": "stderr",
     "output_type": "stream",
     "text": [
      "D:\\Program Files (x86)\\Anaconda\\lib\\site-packages\\ipykernel_launcher.py:10: DeprecationWarning: time.clock has been deprecated in Python 3.3 and will be removed from Python 3.8: use time.perf_counter or time.process_time instead\n",
      "  # Remove the CWD from sys.path while we load stuff.\n"
     ]
    },
    {
     "data": {
      "text/plain": [
       "['sigmoid_SVC.m']"
      ]
     },
     "execution_count": 98,
     "metadata": {},
     "output_type": "execute_result"
    }
   ],
   "source": [
    "# 记录程序运行时间\n",
    "start = time.clock()\n",
    "param_grid_kernel = {'C': [500,550,600,650,700,750],\n",
    "              'gamma': [1e-08,5e-08,0.0000001,0.0000005,0.000001] }\n",
    "# 采用交叉验证的方法选择合适的C和gamma\n",
    "sigmoid_SVC = GridSearchCV(SVC(kernel='sigmoid', class_weight='balanced'),\n",
    "                   param_grid_kernel, cv=5, iid=False)\n",
    "# 基于训练集降维后的数据\n",
    "sigmoid_SVC = sigmoid_SVC.fit(X_reduced, y_train_sub)\n",
    "elapsed = (time.clock() - start)\n",
    "print('运行时间：',elapsed)\n",
    "\n",
    "print(\"最优参数取值：\")\n",
    "print(sigmoid_SVC.best_estimator_)\n",
    "# 将模型保存到本地\n",
    "joblib.dump(sigmoid_SVC,'sigmoid_SVC.m')"
   ]
  },
  {
   "cell_type": "markdown",
   "metadata": {},
   "source": [
    "训练集上的分类效果评估："
   ]
  },
  {
   "cell_type": "code",
   "execution_count": 87,
   "metadata": {},
   "outputs": [
    {
     "name": "stdout",
     "output_type": "stream",
     "text": [
      "分类效果评估:\n",
      "             precision    recall  f1-score   support\n",
      "\n",
      "       baby       0.89      0.85      0.87       500\n",
      "       bear       0.83      0.91      0.87       500\n",
      "       rose       0.91      0.87      0.89       500\n",
      "\n",
      "avg / total       0.88      0.87      0.87      1500\n",
      "\n",
      "混淆矩阵:\n"
     ]
    },
    {
     "data": {
      "text/html": [
       "<div>\n",
       "<style scoped>\n",
       "    .dataframe tbody tr th:only-of-type {\n",
       "        vertical-align: middle;\n",
       "    }\n",
       "\n",
       "    .dataframe tbody tr th {\n",
       "        vertical-align: top;\n",
       "    }\n",
       "\n",
       "    .dataframe thead th {\n",
       "        text-align: right;\n",
       "    }\n",
       "</style>\n",
       "<table border=\"1\" class=\"dataframe\">\n",
       "  <thead>\n",
       "    <tr style=\"text-align: right;\">\n",
       "      <th></th>\n",
       "      <th>baby</th>\n",
       "      <th>bear</th>\n",
       "      <th>rose</th>\n",
       "    </tr>\n",
       "  </thead>\n",
       "  <tbody>\n",
       "    <tr>\n",
       "      <th>baby</th>\n",
       "      <td>424</td>\n",
       "      <td>47</td>\n",
       "      <td>29</td>\n",
       "    </tr>\n",
       "    <tr>\n",
       "      <th>bear</th>\n",
       "      <td>30</td>\n",
       "      <td>455</td>\n",
       "      <td>15</td>\n",
       "    </tr>\n",
       "    <tr>\n",
       "      <th>rose</th>\n",
       "      <td>24</td>\n",
       "      <td>43</td>\n",
       "      <td>433</td>\n",
       "    </tr>\n",
       "  </tbody>\n",
       "</table>\n",
       "</div>"
      ],
      "text/plain": [
       "      baby  bear  rose\n",
       "baby   424    47    29\n",
       "bear    30   455    15\n",
       "rose    24    43   433"
      ]
     },
     "execution_count": 87,
     "metadata": {},
     "output_type": "execute_result"
    }
   ],
   "source": [
    "sigmoid_SVC = joblib.load('sigmoid_SVC.m')\n",
    "# 模型预测（训练集）\n",
    "y_train_pred = sigmoid_SVC.predict(X_reduced)\n",
    "clf_rpt_ssvc_tr,cfs_mat_ssvc_tr = classifier_performance(y_train_sub,y_train_pred)\n",
    "pred_pfm_dict.update({'clf_rpt_ssvc_tr':clf_rpt_ssvc_tr}) # 存储模型效果评估指标\n",
    "print('分类效果评估:')\n",
    "print(clf_rpt_ssvc_tr)\n",
    "print('混淆矩阵:')\n",
    "cfs_mat_ssvc_tr"
   ]
  },
  {
   "cell_type": "markdown",
   "metadata": {},
   "source": [
    "测试集上的分类效果评估："
   ]
  },
  {
   "cell_type": "code",
   "execution_count": 88,
   "metadata": {
    "scrolled": false
   },
   "outputs": [
    {
     "name": "stdout",
     "output_type": "stream",
     "text": [
      "分类效果评估:\n",
      "             precision    recall  f1-score   support\n",
      "\n",
      "       baby       0.74      0.74      0.74       100\n",
      "       bear       0.82      0.81      0.81       100\n",
      "       rose       0.78      0.79      0.79       100\n",
      "\n",
      "avg / total       0.78      0.78      0.78       300\n",
      "\n",
      "混淆矩阵:\n"
     ]
    },
    {
     "data": {
      "text/html": [
       "<div>\n",
       "<style scoped>\n",
       "    .dataframe tbody tr th:only-of-type {\n",
       "        vertical-align: middle;\n",
       "    }\n",
       "\n",
       "    .dataframe tbody tr th {\n",
       "        vertical-align: top;\n",
       "    }\n",
       "\n",
       "    .dataframe thead th {\n",
       "        text-align: right;\n",
       "    }\n",
       "</style>\n",
       "<table border=\"1\" class=\"dataframe\">\n",
       "  <thead>\n",
       "    <tr style=\"text-align: right;\">\n",
       "      <th></th>\n",
       "      <th>baby</th>\n",
       "      <th>bear</th>\n",
       "      <th>rose</th>\n",
       "    </tr>\n",
       "  </thead>\n",
       "  <tbody>\n",
       "    <tr>\n",
       "      <th>baby</th>\n",
       "      <td>74</td>\n",
       "      <td>8</td>\n",
       "      <td>18</td>\n",
       "    </tr>\n",
       "    <tr>\n",
       "      <th>bear</th>\n",
       "      <td>15</td>\n",
       "      <td>81</td>\n",
       "      <td>4</td>\n",
       "    </tr>\n",
       "    <tr>\n",
       "      <th>rose</th>\n",
       "      <td>11</td>\n",
       "      <td>10</td>\n",
       "      <td>79</td>\n",
       "    </tr>\n",
       "  </tbody>\n",
       "</table>\n",
       "</div>"
      ],
      "text/plain": [
       "      baby  bear  rose\n",
       "baby    74     8    18\n",
       "bear    15    81     4\n",
       "rose    11    10    79"
      ]
     },
     "execution_count": 88,
     "metadata": {},
     "output_type": "execute_result"
    }
   ],
   "source": [
    "# 模型预测（测试集）\n",
    "y_test_pred = sigmoid_SVC.predict(X_test_rexduced)\n",
    "clf_rpt_ssvc_te,cfs_mat_ssvc_te = classifier_performance(y_test_sub,y_test_pred)\n",
    "pred_pfm_dict.update({'clf_rpt_ssvc_te':clf_rpt_ssvc_te}) # 存储模型效果评估指标\n",
    "print('分类效果评估:')\n",
    "print(clf_rpt_ssvc_te)\n",
    "print('混淆矩阵:')\n",
    "cfs_mat_ssvc_te"
   ]
  },
  {
   "cell_type": "markdown",
   "metadata": {},
   "source": [
    "参数调优结果汇总："
   ]
  },
  {
   "cell_type": "code",
   "execution_count": 147,
   "metadata": {},
   "outputs": [
    {
     "data": {
      "text/html": [
       "<div>\n",
       "<style scoped>\n",
       "    .dataframe tbody tr th:only-of-type {\n",
       "        vertical-align: middle;\n",
       "    }\n",
       "\n",
       "    .dataframe tbody tr th {\n",
       "        vertical-align: top;\n",
       "    }\n",
       "\n",
       "    .dataframe thead th {\n",
       "        text-align: right;\n",
       "    }\n",
       "</style>\n",
       "<table border=\"1\" class=\"dataframe\">\n",
       "  <thead>\n",
       "    <tr style=\"text-align: right;\">\n",
       "      <th></th>\n",
       "      <th>Kernel</th>\n",
       "      <th>C</th>\n",
       "      <th>gamma</th>\n",
       "      <th>score</th>\n",
       "    </tr>\n",
       "  </thead>\n",
       "  <tbody>\n",
       "    <tr>\n",
       "      <th>0</th>\n",
       "      <td>RBF</td>\n",
       "      <td>10</td>\n",
       "      <td>8.000000e-07</td>\n",
       "      <td>0.778667</td>\n",
       "    </tr>\n",
       "    <tr>\n",
       "      <th>1</th>\n",
       "      <td>Poly</td>\n",
       "      <td>20</td>\n",
       "      <td>5.000000e-06</td>\n",
       "      <td>0.764000</td>\n",
       "    </tr>\n",
       "    <tr>\n",
       "      <th>2</th>\n",
       "      <td>Sigmoid</td>\n",
       "      <td>650</td>\n",
       "      <td>5.000000e-08</td>\n",
       "      <td>0.780000</td>\n",
       "    </tr>\n",
       "  </tbody>\n",
       "</table>\n",
       "</div>"
      ],
      "text/plain": [
       "    Kernel    C         gamma     score\n",
       "0      RBF   10  8.000000e-07  0.778667\n",
       "1     Poly   20  5.000000e-06  0.764000\n",
       "2  Sigmoid  650  5.000000e-08  0.780000"
      ]
     },
     "execution_count": 147,
     "metadata": {},
     "output_type": "execute_result"
    }
   ],
   "source": [
    "best_params = [['RBF']+list(rbf_SVC.best_params_.values())+[rbf_SVC.best_score_],\n",
    "['Poly']+list(poly_SVC.best_params_.values())+[poly_SVC.best_score_],\n",
    "['Sigmoid']+list(sigmoid_SVC.best_params_.values())+[sigmoid_SVC.best_score_]]\n",
    "best_params = pd.DataFrame(best_params)\n",
    "best_params.columns = ['Kernel','C','gamma','score']\n",
    "best_params.to_csv('best_params.csv')\n",
    "best_params"
   ]
  },
  {
   "cell_type": "code",
   "execution_count": 156,
   "metadata": {},
   "outputs": [],
   "source": [
    "poly_SVC?"
   ]
  },
  {
   "cell_type": "markdown",
   "metadata": {},
   "source": [
    "#### Naive Bayes Classifier"
   ]
  },
  {
   "cell_type": "markdown",
   "metadata": {},
   "source": [
    "##### 使用降维后的数据建模"
   ]
  },
  {
   "cell_type": "code",
   "execution_count": 89,
   "metadata": {},
   "outputs": [],
   "source": [
    "# 降维后的数据用于训练和测试\n",
    "nbc_reduced = GaussianNB()\n",
    "# 模型训练\n",
    "nbc_reduced = nbc_reduced.fit(X_reduced, y_train_sub)"
   ]
  },
  {
   "cell_type": "markdown",
   "metadata": {},
   "source": [
    "训练集上的分类效果："
   ]
  },
  {
   "cell_type": "code",
   "execution_count": 90,
   "metadata": {},
   "outputs": [
    {
     "name": "stdout",
     "output_type": "stream",
     "text": [
      "分类效果评估:\n",
      "             precision    recall  f1-score   support\n",
      "\n",
      "       baby       0.48      0.42      0.45       500\n",
      "       bear       0.40      0.74      0.52       500\n",
      "       rose       0.81      0.21      0.33       500\n",
      "\n",
      "avg / total       0.56      0.46      0.43      1500\n",
      "\n",
      "混淆矩阵:\n"
     ]
    },
    {
     "data": {
      "text/html": [
       "<div>\n",
       "<style scoped>\n",
       "    .dataframe tbody tr th:only-of-type {\n",
       "        vertical-align: middle;\n",
       "    }\n",
       "\n",
       "    .dataframe tbody tr th {\n",
       "        vertical-align: top;\n",
       "    }\n",
       "\n",
       "    .dataframe thead th {\n",
       "        text-align: right;\n",
       "    }\n",
       "</style>\n",
       "<table border=\"1\" class=\"dataframe\">\n",
       "  <thead>\n",
       "    <tr style=\"text-align: right;\">\n",
       "      <th></th>\n",
       "      <th>baby</th>\n",
       "      <th>bear</th>\n",
       "      <th>rose</th>\n",
       "    </tr>\n",
       "  </thead>\n",
       "  <tbody>\n",
       "    <tr>\n",
       "      <th>baby</th>\n",
       "      <td>208</td>\n",
       "      <td>280</td>\n",
       "      <td>12</td>\n",
       "    </tr>\n",
       "    <tr>\n",
       "      <th>bear</th>\n",
       "      <td>116</td>\n",
       "      <td>372</td>\n",
       "      <td>12</td>\n",
       "    </tr>\n",
       "    <tr>\n",
       "      <th>rose</th>\n",
       "      <td>109</td>\n",
       "      <td>288</td>\n",
       "      <td>103</td>\n",
       "    </tr>\n",
       "  </tbody>\n",
       "</table>\n",
       "</div>"
      ],
      "text/plain": [
       "      baby  bear  rose\n",
       "baby   208   280    12\n",
       "bear   116   372    12\n",
       "rose   109   288   103"
      ]
     },
     "execution_count": 90,
     "metadata": {},
     "output_type": "execute_result"
    }
   ],
   "source": [
    "# 模型预测（训练集）\n",
    "y_train_pred_reduced=nbc_reduced.predict(X_reduced)\n",
    "clf_rpt_nbc_tr,cfs_mat_nbc_tr = classifier_performance(y_train_sub,y_train_pred_reduced)\n",
    "pred_pfm_dict.update({'clf_rpt_nbc_tr':clf_rpt_nbc_tr}) # 存储模型效果评估指标\n",
    "print('分类效果评估:')\n",
    "print(clf_rpt_nbc_tr)\n",
    "print('混淆矩阵:')\n",
    "cfs_mat_nbc_tr"
   ]
  },
  {
   "cell_type": "markdown",
   "metadata": {},
   "source": [
    "测试集上的分类效果："
   ]
  },
  {
   "cell_type": "code",
   "execution_count": 91,
   "metadata": {
    "scrolled": true
   },
   "outputs": [
    {
     "name": "stdout",
     "output_type": "stream",
     "text": [
      "分类效果评估:\n",
      "             precision    recall  f1-score   support\n",
      "\n",
      "       baby       0.48      0.31      0.38       100\n",
      "       bear       0.39      0.85      0.53       100\n",
      "       rose       0.76      0.13      0.22       100\n",
      "\n",
      "avg / total       0.55      0.43      0.38       300\n",
      "\n",
      "混淆矩阵:\n"
     ]
    },
    {
     "data": {
      "text/html": [
       "<div>\n",
       "<style scoped>\n",
       "    .dataframe tbody tr th:only-of-type {\n",
       "        vertical-align: middle;\n",
       "    }\n",
       "\n",
       "    .dataframe tbody tr th {\n",
       "        vertical-align: top;\n",
       "    }\n",
       "\n",
       "    .dataframe thead th {\n",
       "        text-align: right;\n",
       "    }\n",
       "</style>\n",
       "<table border=\"1\" class=\"dataframe\">\n",
       "  <thead>\n",
       "    <tr style=\"text-align: right;\">\n",
       "      <th></th>\n",
       "      <th>baby</th>\n",
       "      <th>bear</th>\n",
       "      <th>rose</th>\n",
       "    </tr>\n",
       "  </thead>\n",
       "  <tbody>\n",
       "    <tr>\n",
       "      <th>baby</th>\n",
       "      <td>31</td>\n",
       "      <td>65</td>\n",
       "      <td>4</td>\n",
       "    </tr>\n",
       "    <tr>\n",
       "      <th>bear</th>\n",
       "      <td>15</td>\n",
       "      <td>85</td>\n",
       "      <td>0</td>\n",
       "    </tr>\n",
       "    <tr>\n",
       "      <th>rose</th>\n",
       "      <td>18</td>\n",
       "      <td>69</td>\n",
       "      <td>13</td>\n",
       "    </tr>\n",
       "  </tbody>\n",
       "</table>\n",
       "</div>"
      ],
      "text/plain": [
       "      baby  bear  rose\n",
       "baby    31    65     4\n",
       "bear    15    85     0\n",
       "rose    18    69    13"
      ]
     },
     "execution_count": 91,
     "metadata": {},
     "output_type": "execute_result"
    }
   ],
   "source": [
    "# 模型预测（测试集）\n",
    "y_test_pred_reduced=nbc_reduced.predict(X_test_rexduced)\n",
    "clf_rpt_nbc_te,cfs_mat_nbc_te = classifier_performance(y_test_sub,y_test_pred_reduced)\n",
    "pred_pfm_dict.update({'clf_rpt_nbc_te':clf_rpt_nbc_te}) # 存储模型效果评估指标\n",
    "print('分类效果评估:')\n",
    "print(clf_rpt_nbc_te)\n",
    "print('混淆矩阵:')\n",
    "cfs_mat_nbc_te"
   ]
  },
  {
   "cell_type": "markdown",
   "metadata": {},
   "source": [
    "##### 使用未进行降维的数据建模\n",
    "模型训练："
   ]
  },
  {
   "cell_type": "code",
   "execution_count": 92,
   "metadata": {},
   "outputs": [],
   "source": [
    "# Naive Bayes Classifier import sklearn GaussianNB\n",
    "from sklearn.naive_bayes import GaussianNB\n",
    "# 未进行降维的数据用于训练和测试\n",
    "nbc = GaussianNB()\n",
    "# 模型训练\n",
    "nbc = nbc.fit(X_train_sub, y_train_sub)"
   ]
  },
  {
   "cell_type": "markdown",
   "metadata": {},
   "source": [
    "训练集上的分类效果："
   ]
  },
  {
   "cell_type": "code",
   "execution_count": 93,
   "metadata": {},
   "outputs": [
    {
     "name": "stdout",
     "output_type": "stream",
     "text": [
      "分类效果评估:\n",
      "             precision    recall  f1-score   support\n",
      "\n",
      "       baby       0.62      0.60      0.61       500\n",
      "       bear       0.73      0.70      0.71       500\n",
      "       rose       0.65      0.70      0.67       500\n",
      "\n",
      "avg / total       0.67      0.67      0.67      1500\n",
      "\n",
      "混淆矩阵:\n"
     ]
    },
    {
     "data": {
      "text/html": [
       "<div>\n",
       "<style scoped>\n",
       "    .dataframe tbody tr th:only-of-type {\n",
       "        vertical-align: middle;\n",
       "    }\n",
       "\n",
       "    .dataframe tbody tr th {\n",
       "        vertical-align: top;\n",
       "    }\n",
       "\n",
       "    .dataframe thead th {\n",
       "        text-align: right;\n",
       "    }\n",
       "</style>\n",
       "<table border=\"1\" class=\"dataframe\">\n",
       "  <thead>\n",
       "    <tr style=\"text-align: right;\">\n",
       "      <th></th>\n",
       "      <th>baby</th>\n",
       "      <th>bear</th>\n",
       "      <th>rose</th>\n",
       "    </tr>\n",
       "  </thead>\n",
       "  <tbody>\n",
       "    <tr>\n",
       "      <th>baby</th>\n",
       "      <td>301</td>\n",
       "      <td>73</td>\n",
       "      <td>126</td>\n",
       "    </tr>\n",
       "    <tr>\n",
       "      <th>bear</th>\n",
       "      <td>90</td>\n",
       "      <td>350</td>\n",
       "      <td>60</td>\n",
       "    </tr>\n",
       "    <tr>\n",
       "      <th>rose</th>\n",
       "      <td>94</td>\n",
       "      <td>58</td>\n",
       "      <td>348</td>\n",
       "    </tr>\n",
       "  </tbody>\n",
       "</table>\n",
       "</div>"
      ],
      "text/plain": [
       "      baby  bear  rose\n",
       "baby   301    73   126\n",
       "bear    90   350    60\n",
       "rose    94    58   348"
      ]
     },
     "execution_count": 93,
     "metadata": {},
     "output_type": "execute_result"
    }
   ],
   "source": [
    "# 模型预测（训练集）\n",
    "y_train_pred=nbc.predict(X_train_sub)\n",
    "clf_rpt_nbcur_tr,cfs_mat_nbcur_tr = classifier_performance(y_train_sub,y_train_pred)\n",
    "pred_pfm_dict.update({'clf_rpt_nbcur_tr':clf_rpt_nbcur_tr}) # 存储模型效果评估指标\n",
    "print('分类效果评估:')\n",
    "print(clf_rpt_nbcur_tr)\n",
    "print('混淆矩阵:')\n",
    "cfs_mat_nbcur_tr"
   ]
  },
  {
   "cell_type": "markdown",
   "metadata": {},
   "source": [
    "测试集上的分类效果："
   ]
  },
  {
   "cell_type": "code",
   "execution_count": 94,
   "metadata": {
    "scrolled": true
   },
   "outputs": [
    {
     "name": "stdout",
     "output_type": "stream",
     "text": [
      "分类效果评估:\n",
      "             precision    recall  f1-score   support\n",
      "\n",
      "       baby       0.48      0.31      0.38       100\n",
      "       bear       0.39      0.85      0.53       100\n",
      "       rose       0.76      0.13      0.22       100\n",
      "\n",
      "avg / total       0.55      0.43      0.38       300\n",
      "\n",
      "混淆矩阵:\n"
     ]
    },
    {
     "data": {
      "text/html": [
       "<div>\n",
       "<style scoped>\n",
       "    .dataframe tbody tr th:only-of-type {\n",
       "        vertical-align: middle;\n",
       "    }\n",
       "\n",
       "    .dataframe tbody tr th {\n",
       "        vertical-align: top;\n",
       "    }\n",
       "\n",
       "    .dataframe thead th {\n",
       "        text-align: right;\n",
       "    }\n",
       "</style>\n",
       "<table border=\"1\" class=\"dataframe\">\n",
       "  <thead>\n",
       "    <tr style=\"text-align: right;\">\n",
       "      <th></th>\n",
       "      <th>baby</th>\n",
       "      <th>bear</th>\n",
       "      <th>rose</th>\n",
       "    </tr>\n",
       "  </thead>\n",
       "  <tbody>\n",
       "    <tr>\n",
       "      <th>baby</th>\n",
       "      <td>31</td>\n",
       "      <td>65</td>\n",
       "      <td>4</td>\n",
       "    </tr>\n",
       "    <tr>\n",
       "      <th>bear</th>\n",
       "      <td>15</td>\n",
       "      <td>85</td>\n",
       "      <td>0</td>\n",
       "    </tr>\n",
       "    <tr>\n",
       "      <th>rose</th>\n",
       "      <td>18</td>\n",
       "      <td>69</td>\n",
       "      <td>13</td>\n",
       "    </tr>\n",
       "  </tbody>\n",
       "</table>\n",
       "</div>"
      ],
      "text/plain": [
       "      baby  bear  rose\n",
       "baby    31    65     4\n",
       "bear    15    85     0\n",
       "rose    18    69    13"
      ]
     },
     "execution_count": 94,
     "metadata": {},
     "output_type": "execute_result"
    }
   ],
   "source": [
    "# 模型预测（测试集）\n",
    "y_test_pred=nbc.predict(X_test_sub)\n",
    "clf_rpt_nbcnr_te,cfs_mat_nbcnr_te = classifier_performance(y_test_sub,y_test_pred_reduced)\n",
    "pred_pfm_dict.update({'clf_rpt_nbcnr_te':clf_rpt_nbcnr_te}) # 存储模型效果评估指标\n",
    "print('分类效果评估:')\n",
    "print(clf_rpt_nbcnr_te)\n",
    "print('混淆矩阵:')\n",
    "cfs_mat_nbcnr_te"
   ]
  },
  {
   "cell_type": "markdown",
   "metadata": {},
   "source": [
    "#### 结果汇总"
   ]
  },
  {
   "cell_type": "code",
   "execution_count": 95,
   "metadata": {},
   "outputs": [],
   "source": [
    "pfm_test_method=['clf_rpt_knn_te', 'clf_rpt_lsvc_te', 'clf_rpt_rsvc_te', 'clf_rpt_psvc_te', 'clf_rpt_ssvc_te', 'clf_rpt_nbc_te']\n",
    "pfm_train_method=['clf_rpt_knn_tr', 'clf_rpt_lsvc_tr', 'clf_rpt_rsvc_tr',  'clf_rpt_psvc_tr', 'clf_rpt_ssvc_tr', 'clf_rpt_nbc_tr']"
   ]
  },
  {
   "cell_type": "markdown",
   "metadata": {},
   "source": [
    "##### 训练集上的分类效果："
   ]
  },
  {
   "cell_type": "code",
   "execution_count": 96,
   "metadata": {},
   "outputs": [
    {
     "data": {
      "text/html": [
       "<div>\n",
       "<style scoped>\n",
       "    .dataframe tbody tr th:only-of-type {\n",
       "        vertical-align: middle;\n",
       "    }\n",
       "\n",
       "    .dataframe tbody tr th {\n",
       "        vertical-align: top;\n",
       "    }\n",
       "\n",
       "    .dataframe thead th {\n",
       "        text-align: right;\n",
       "    }\n",
       "</style>\n",
       "<table border=\"1\" class=\"dataframe\">\n",
       "  <thead>\n",
       "    <tr style=\"text-align: right;\">\n",
       "      <th></th>\n",
       "      <th>method</th>\n",
       "      <th>precision</th>\n",
       "      <th>recall</th>\n",
       "      <th>f1_score</th>\n",
       "    </tr>\n",
       "  </thead>\n",
       "  <tbody>\n",
       "    <tr>\n",
       "      <th>0</th>\n",
       "      <td>KNN</td>\n",
       "      <td>0.81</td>\n",
       "      <td>0.8</td>\n",
       "      <td>0.8</td>\n",
       "    </tr>\n",
       "    <tr>\n",
       "      <th>1</th>\n",
       "      <td>SVM-Linear</td>\n",
       "      <td>1</td>\n",
       "      <td>1</td>\n",
       "      <td>1</td>\n",
       "    </tr>\n",
       "    <tr>\n",
       "      <th>2</th>\n",
       "      <td>SVM-RBF</td>\n",
       "      <td>0.88</td>\n",
       "      <td>0.88</td>\n",
       "      <td>0.88</td>\n",
       "    </tr>\n",
       "    <tr>\n",
       "      <th>3</th>\n",
       "      <td>SVM-Poly</td>\n",
       "      <td>0.96</td>\n",
       "      <td>0.96</td>\n",
       "      <td>0.96</td>\n",
       "    </tr>\n",
       "    <tr>\n",
       "      <th>4</th>\n",
       "      <td>SVM-Sigmoid</td>\n",
       "      <td>0.88</td>\n",
       "      <td>0.87</td>\n",
       "      <td>0.87</td>\n",
       "    </tr>\n",
       "    <tr>\n",
       "      <th>5</th>\n",
       "      <td>NB</td>\n",
       "      <td>0.56</td>\n",
       "      <td>0.46</td>\n",
       "      <td>0.43</td>\n",
       "    </tr>\n",
       "  </tbody>\n",
       "</table>\n",
       "</div>"
      ],
      "text/plain": [
       "        method precision recall f1_score\n",
       "0          KNN      0.81    0.8      0.8\n",
       "1   SVM-Linear         1      1        1\n",
       "2      SVM-RBF      0.88   0.88     0.88\n",
       "3     SVM-Poly      0.96   0.96     0.96\n",
       "4  SVM-Sigmoid      0.88   0.87     0.87\n",
       "5           NB      0.56   0.46     0.43"
      ]
     },
     "execution_count": 96,
     "metadata": {},
     "output_type": "execute_result"
    }
   ],
   "source": [
    "# 训练集上的分类效果\n",
    "precision = []\n",
    "recall = []\n",
    "f1_score = []\n",
    "for method in pfm_train_method:\n",
    "    pre = float(pred_pfm_dict[method][-35:-31])\n",
    "    re = float(pred_pfm_dict[method][-25:-21])\n",
    "    f = float(pred_pfm_dict[method][-15:-11])\n",
    "    precision.append(pre)\n",
    "    recall.append(re)\n",
    "    f1_score.append(f) \n",
    "pfm_train = pd.DataFrame([pfm_train_method,precision,recall,f1_score]).T\n",
    "pfm_train.columns = ['method','precision','recall','f1_score']\n",
    "pfm_train['method'] = ['KNN','SVM-Linear','SVM-RBF','SVM-Poly','SVM-Sigmoid','NB']\n",
    "pfm_train"
   ]
  },
  {
   "cell_type": "markdown",
   "metadata": {},
   "source": [
    "##### 测试集上的分类效果："
   ]
  },
  {
   "cell_type": "code",
   "execution_count": 126,
   "metadata": {},
   "outputs": [
    {
     "data": {
      "text/html": [
       "<div>\n",
       "<style scoped>\n",
       "    .dataframe tbody tr th:only-of-type {\n",
       "        vertical-align: middle;\n",
       "    }\n",
       "\n",
       "    .dataframe tbody tr th {\n",
       "        vertical-align: top;\n",
       "    }\n",
       "\n",
       "    .dataframe thead th {\n",
       "        text-align: right;\n",
       "    }\n",
       "</style>\n",
       "<table border=\"1\" class=\"dataframe\">\n",
       "  <thead>\n",
       "    <tr style=\"text-align: right;\">\n",
       "      <th></th>\n",
       "      <th>method</th>\n",
       "      <th>precision</th>\n",
       "      <th>recall</th>\n",
       "      <th>f1_score</th>\n",
       "    </tr>\n",
       "  </thead>\n",
       "  <tbody>\n",
       "    <tr>\n",
       "      <th>0</th>\n",
       "      <td>KNN</td>\n",
       "      <td>0.76</td>\n",
       "      <td>0.75</td>\n",
       "      <td>0.75</td>\n",
       "    </tr>\n",
       "    <tr>\n",
       "      <th>1</th>\n",
       "      <td>SVM-Linear</td>\n",
       "      <td>0.75</td>\n",
       "      <td>0.74</td>\n",
       "      <td>0.74</td>\n",
       "    </tr>\n",
       "    <tr>\n",
       "      <th>2</th>\n",
       "      <td>SVM-RBF</td>\n",
       "      <td>0.78</td>\n",
       "      <td>0.78</td>\n",
       "      <td>0.78</td>\n",
       "    </tr>\n",
       "    <tr>\n",
       "      <th>3</th>\n",
       "      <td>SVM-Poly</td>\n",
       "      <td>0.78</td>\n",
       "      <td>0.77</td>\n",
       "      <td>0.77</td>\n",
       "    </tr>\n",
       "    <tr>\n",
       "      <th>4</th>\n",
       "      <td>SVM-Sigmoid</td>\n",
       "      <td>0.78</td>\n",
       "      <td>0.78</td>\n",
       "      <td>0.78</td>\n",
       "    </tr>\n",
       "    <tr>\n",
       "      <th>5</th>\n",
       "      <td>NB</td>\n",
       "      <td>0.55</td>\n",
       "      <td>0.43</td>\n",
       "      <td>0.38</td>\n",
       "    </tr>\n",
       "  </tbody>\n",
       "</table>\n",
       "</div>"
      ],
      "text/plain": [
       "        method precision recall f1_score\n",
       "0          KNN      0.76   0.75     0.75\n",
       "1   SVM-Linear      0.75   0.74     0.74\n",
       "2      SVM-RBF      0.78   0.78     0.78\n",
       "3     SVM-Poly      0.78   0.77     0.77\n",
       "4  SVM-Sigmoid      0.78   0.78     0.78\n",
       "5           NB      0.55   0.43     0.38"
      ]
     },
     "execution_count": 126,
     "metadata": {},
     "output_type": "execute_result"
    }
   ],
   "source": [
    "# 测试集上的分类效果\n",
    "precision = []\n",
    "recall = []\n",
    "f1_score = []\n",
    "for method in pfm_test_method:\n",
    "    pre = float(pred_pfm_dict[method][-35:-31])\n",
    "    re = float(pred_pfm_dict[method][-25:-21])\n",
    "    f = float(pred_pfm_dict[method][-15:-11])\n",
    "    precision.append(pre)\n",
    "    recall.append(re)\n",
    "    f1_score.append(f) \n",
    "pfm_test = pd.DataFrame([pfm_test_method,precision,recall,f1_score]).T\n",
    "pfm_test.columns = ['method','precision','recall','f1_score']\n",
    "pfm_test['method'] = ['KNN','SVM-Linear','SVM-RBF','SVM-Poly','SVM-Sigmoid','NB']\n",
    "pfm_test"
   ]
  },
  {
   "cell_type": "code",
   "execution_count": 127,
   "metadata": {},
   "outputs": [],
   "source": [
    "# 保存汇总的结果\n",
    "np.save('pfm_test',pfm_test)\n",
    "np.save('pfm_train',pfm_train)"
   ]
  },
  {
   "cell_type": "markdown",
   "metadata": {},
   "source": [
    "##### 性能最优的模型1：SVM-RBF"
   ]
  },
  {
   "cell_type": "code",
   "execution_count": 23,
   "metadata": {},
   "outputs": [
    {
     "name": "stdout",
     "output_type": "stream",
     "text": [
      "分类效果评估:\n",
      "             precision    recall  f1-score   support\n",
      "\n",
      "       baby       0.72      0.73      0.72       100\n",
      "       bear       0.84      0.81      0.82       100\n",
      "       rose       0.80      0.81      0.81       100\n",
      "\n",
      "avg / total       0.78      0.78      0.78       300\n",
      "\n"
     ]
    },
    {
     "data": {
      "text/html": [
       "<div>\n",
       "<style scoped>\n",
       "    .dataframe tbody tr th:only-of-type {\n",
       "        vertical-align: middle;\n",
       "    }\n",
       "\n",
       "    .dataframe tbody tr th {\n",
       "        vertical-align: top;\n",
       "    }\n",
       "\n",
       "    .dataframe thead th {\n",
       "        text-align: right;\n",
       "    }\n",
       "</style>\n",
       "<table border=\"1\" class=\"dataframe\">\n",
       "  <thead>\n",
       "    <tr style=\"text-align: right;\">\n",
       "      <th></th>\n",
       "      <th>baby</th>\n",
       "      <th>bear</th>\n",
       "      <th>rose</th>\n",
       "    </tr>\n",
       "  </thead>\n",
       "  <tbody>\n",
       "    <tr>\n",
       "      <th>baby</th>\n",
       "      <td>73</td>\n",
       "      <td>8</td>\n",
       "      <td>19</td>\n",
       "    </tr>\n",
       "    <tr>\n",
       "      <th>bear</th>\n",
       "      <td>18</td>\n",
       "      <td>81</td>\n",
       "      <td>1</td>\n",
       "    </tr>\n",
       "    <tr>\n",
       "      <th>rose</th>\n",
       "      <td>11</td>\n",
       "      <td>8</td>\n",
       "      <td>81</td>\n",
       "    </tr>\n",
       "  </tbody>\n",
       "</table>\n",
       "</div>"
      ],
      "text/plain": [
       "      baby  bear  rose\n",
       "baby    73     8    19\n",
       "bear    18    81     1\n",
       "rose    11     8    81"
      ]
     },
     "execution_count": 23,
     "metadata": {},
     "output_type": "execute_result"
    }
   ],
   "source": [
    "# 性能最优的模型：SVM-RBF\n",
    "# 加载模型\n",
    "rbf_SVC = joblib.load('rbf_SVC.m')\n",
    "# 模型预测（测试集）\n",
    "y_test_pred = rbf_SVC.predict(X_test_rexduced)\n",
    "clf_rpt_rsvc_te,cfs_mat_rsvc_te = classifier_performance(y_test_sub,y_test_pred)\n",
    "pred_pfm_dict.update({'clf_rpt_rsvc_te':clf_rpt_rsvc_te}) # 存储模型效果评估指标\n",
    "print('分类效果评估:')\n",
    "print(clf_rpt_rsvc_te)\n",
    "cfs_mat_rsvc_te"
   ]
  },
  {
   "cell_type": "code",
   "execution_count": 25,
   "metadata": {},
   "outputs": [],
   "source": [
    "# 显示图像：部分图片的真实类别与预测类别\n",
    "def clf_result_show(images,y_true,y_pred): \n",
    "    num = len(images) # 图片数量\n",
    "    nrow = num // 5 # 一行4张图片\n",
    "    plt.figure(figsize=(10,nrow*2))\n",
    "    plt.subplots_adjust(bottom=0, left=.01, right=.99, top=.90, hspace=.35)\n",
    "    for i in range(len(images)):\n",
    "        plt.subplot(nrow, 5, i + 1)\n",
    "        matrix = get_colordata((images[i].reshape(3, 32, 32)).T)\n",
    "        img = Image.fromarray(np.uint8(matrix))\n",
    "        img = img.rotate(-90) # 图片顺时针旋转90度\n",
    "        true_labelname = label_names[y_true[i]]\n",
    "        pred_labelname = label_names[y_pred[i]]\n",
    "        title = 'True: '+true_labelname+'\\nPredicted: '+pred_labelname\n",
    "        if y_true[i]==y_pred[i]:\n",
    "            plt.title(title, size=12,color='green') # 显示真实与预测类别 正确预测为绿色\n",
    "        else: plt.title(title, size=12,color='red') # 错误预测为红色\n",
    "        plt.xticks([])\n",
    "        plt.yticks([])\n",
    "        plt.imshow(img)\n",
    "    plt.savefig('true_pred.png',dpi=300)"
   ]
  },
  {
   "cell_type": "code",
   "execution_count": 26,
   "metadata": {
    "scrolled": true
   },
   "outputs": [
    {
     "data": {
      "image/png": "[encoded data removed]",
      "text/plain": [
       "<Figure size 720x576 with 20 Axes>"
      ]
     },
     "metadata": {},
     "output_type": "display_data"
    }
   ],
   "source": [
    "# 随机抽取12张图片展示 3*4\n",
    "samp = pd.Series(range(300)).sample(20)\n",
    "images = X_test_sub[samp]\n",
    "y_true = y_test_sub[samp]\n",
    "y_pred = y_test_pred[samp]\n",
    "clf_result_show(images,y_true,y_pred)"
   ]
  },
  {
   "cell_type": "markdown",
   "metadata": {},
   "source": [
    "##### 性能最优的模型2：SVM-Sigmoid"
   ]
  },
  {
   "cell_type": "code",
   "execution_count": 19,
   "metadata": {},
   "outputs": [
    {
     "name": "stdout",
     "output_type": "stream",
     "text": [
      "分类效果评估:\n",
      "             precision    recall  f1-score   support\n",
      "\n",
      "       baby       0.73      0.76      0.75       100\n",
      "       bear       0.84      0.81      0.83       100\n",
      "       rose       0.78      0.78      0.78       100\n",
      "\n",
      "avg / total       0.78      0.78      0.78       300\n",
      "\n",
      "混淆矩阵:\n"
     ]
    },
    {
     "data": {
      "text/html": [
       "<div>\n",
       "<style scoped>\n",
       "    .dataframe tbody tr th:only-of-type {\n",
       "        vertical-align: middle;\n",
       "    }\n",
       "\n",
       "    .dataframe tbody tr th {\n",
       "        vertical-align: top;\n",
       "    }\n",
       "\n",
       "    .dataframe thead th {\n",
       "        text-align: right;\n",
       "    }\n",
       "</style>\n",
       "<table border=\"1\" class=\"dataframe\">\n",
       "  <thead>\n",
       "    <tr style=\"text-align: right;\">\n",
       "      <th></th>\n",
       "      <th>baby</th>\n",
       "      <th>bear</th>\n",
       "      <th>rose</th>\n",
       "    </tr>\n",
       "  </thead>\n",
       "  <tbody>\n",
       "    <tr>\n",
       "      <th>baby</th>\n",
       "      <td>76</td>\n",
       "      <td>6</td>\n",
       "      <td>18</td>\n",
       "    </tr>\n",
       "    <tr>\n",
       "      <th>bear</th>\n",
       "      <td>15</td>\n",
       "      <td>81</td>\n",
       "      <td>4</td>\n",
       "    </tr>\n",
       "    <tr>\n",
       "      <th>rose</th>\n",
       "      <td>13</td>\n",
       "      <td>9</td>\n",
       "      <td>78</td>\n",
       "    </tr>\n",
       "  </tbody>\n",
       "</table>\n",
       "</div>"
      ],
      "text/plain": [
       "      baby  bear  rose\n",
       "baby    76     6    18\n",
       "bear    15    81     4\n",
       "rose    13     9    78"
      ]
     },
     "execution_count": 19,
     "metadata": {},
     "output_type": "execute_result"
    }
   ],
   "source": [
    "# 性能最优的模型：SVM-Sigmoid\n",
    "# 加载模型\n",
    "sigmoid_SVC = joblib.load('sigmoid_SVC.m')\n",
    "# 模型预测（测试集）\n",
    "y_test_pred = sigmoid_SVC.predict(X_test_rexduced)\n",
    "clf_rpt_ssvc_te,cfs_mat_ssvc_te = classifier_performance(y_test_sub,y_test_pred)\n",
    "pred_pfm_dict.update({'clf_rpt_ssvc_te':clf_rpt_ssvc_te}) # 存储模型效果评估指标\n",
    "print('分类效果评估:')\n",
    "print(clf_rpt_ssvc_te)\n",
    "print('混淆矩阵:')\n",
    "cfs_mat_ssvc_te"
   ]
  }
 ],
 "metadata": {
  "kernelspec": {
   "display_name": "Python 3",
   "language": "python",
   "name": "python3"
  },
  "language_info": {
   "codemirror_mode": {
    "name": "ipython",
    "version": 3
   },
   "file_extension": ".py",
   "mimetype": "text/x-python",
   "name": "python",
   "nbconvert_exporter": "python",
   "pygments_lexer": "ipython3",
   "version": "3.7.4"
  },
  "toc": {
   "base_numbering": 1,
   "nav_menu": {},
   "number_sections": true,
   "sideBar": true,
   "skip_h1_title": false,
   "title_cell": "Table of Contents",
   "title_sidebar": "Contents",
   "toc_cell": true,
   "toc_position": {
    "height": "calc(100% - 180px)",
    "left": "10px",
    "top": "150px",
    "width": "165px"
   },
   "toc_section_display": true,
   "toc_window_display": true
  }
 },
 "nbformat": 4,
 "nbformat_minor": 2
}
